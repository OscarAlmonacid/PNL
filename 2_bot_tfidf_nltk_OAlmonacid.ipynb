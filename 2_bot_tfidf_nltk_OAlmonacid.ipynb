{
  "cells": [
    {
      "cell_type": "markdown",
      "metadata": {
        "id": "Ue5hxxkdAQJg"
      },
      "source": [
        "<img src=\"https://github.com/hernancontigiani/ceia_memorias_especializacion/raw/master/Figures/logoFIUBA.jpg\" width=\"500\" align=\"center\">\n",
        "\n",
        "\n",
        "# Procesamiento de lenguaje natural\n",
        "## Bot con NLTK utilizando un corpus de wikipedia\n"
      ]
    },
    {
      "cell_type": "code",
      "execution_count": 1,
      "metadata": {
        "id": "kCED1hh-Ioyf",
        "colab": {
          "base_uri": "https://localhost:8080/"
        },
        "outputId": "144ecc30-5d9e-4b86-f651-b9bc445e54b5"
      },
      "outputs": [
        {
          "output_type": "stream",
          "name": "stderr",
          "text": [
            "[nltk_data] Downloading package punkt to /root/nltk_data...\n",
            "[nltk_data]   Unzipping tokenizers/punkt.zip.\n",
            "[nltk_data] Downloading package wordnet to /root/nltk_data...\n",
            "[nltk_data] Downloading package omw-1.4 to /root/nltk_data...\n"
          ]
        },
        {
          "output_type": "execute_result",
          "data": {
            "text/plain": [
              "True"
            ]
          },
          "metadata": {},
          "execution_count": 1
        }
      ],
      "source": [
        "import json\n",
        "import string\n",
        "import random\n",
        "import re # Regular Expressions (regex)\n",
        "import urllib.request\n",
        "\n",
        "import numpy as np\n",
        "\n",
        "# Para leer y parsear el texto en HTML de wikipedia\n",
        "import bs4 as bs\n",
        "\n",
        "import nltk\n",
        "# Descargar el diccionario\n",
        "nltk.download(\"punkt\")\n",
        "nltk.download(\"wordnet\")\n",
        "nltk.download('omw-1.4')"
      ]
    },
    {
      "cell_type": "markdown",
      "metadata": {
        "id": "DMOa4JPSCJ29"
      },
      "source": [
        "### Datos\n",
        "Se consumirán los datos del artículo de wikipedia sobre Lionel Messi en inglés."
      ]
    },
    {
      "cell_type": "code",
      "execution_count": 3,
      "metadata": {
        "id": "RIO7b8GjAC17"
      },
      "outputs": [],
      "source": [
        "raw_html = urllib.request.urlopen('https://en.wikipedia.org/wiki/Our_Lady_of_Guadalupe')\n",
        "raw_html = raw_html.read()\n",
        "\n",
        "# Parsear artículo, 'lxml' es el parser a utilizar\n",
        "article_html = bs.BeautifulSoup(raw_html, 'lxml')\n",
        "\n",
        "# Encontrar todos los párrafos del HTML (bajo el tag <p>)\n",
        "# y tenerlos disponible como lista\n",
        "article_paragraphs = article_html.find_all('p')\n",
        "\n",
        "article_text = ''\n",
        "\n",
        "for para in article_paragraphs:\n",
        "    article_text += para.text\n",
        "\n",
        "article_text = article_text.lower()"
      ]
    },
    {
      "cell_type": "code",
      "execution_count": 4,
      "metadata": {
        "id": "pUH30a1_rOkS",
        "colab": {
          "base_uri": "https://localhost:8080/",
          "height": 104
        },
        "outputId": "1e05637b-1a02-4f4b-ffae-93110719533d"
      },
      "outputs": [
        {
          "output_type": "execute_result",
          "data": {
            "text/plain": [
              "'coordinates: 19°29′04″n 99°07′02″w\\ufeff / \\ufeff19.48444°n 99.11722°w\\ufeff / 19.48444; -99.11722\\nour lady of guadalupe (spanish: nuestra señora de guadalupe), also known as the virgin of guadalupe (spanish: virgen de guadalupe), is a catholic title of mary, mother of jesus associated with a series of five marian apparitions, which are believed to have occurred in december 1531, and a venerated image on a cloak enshrined within the basilica of our lady of guadalupe in mexico city. the basilica is the most-visited catholic shrine in the world, and the world\\'s third most-visited sacred site.[1][2]\\npope leo xiii granted the image a decree of canonical coronation on 8 february 1887 and it was pontifically crowned on 12 october 1895.\\naccording to the nican mopohua, included in the 17th-century huei tlamahuiçoltica, written in nahuatl, the virgin mary appeared four times to juan diego, a chichimec peasant, and once to his uncle, juan bernardino. the first apparition occurred on the morning of saturday, 9 december 1531 (julian calendar, which is december 19 on the (proleptic) gregorian calendar in present use). juan diego experienced a vision of a young woman at a place called the hill of tepeyac, which later became part of villa de guadalupe, in a suburb of mexico city.[3]\\naccording to the accounts, the woman, speaking to juan diego in nahuatl, his first language and the language of the former aztec empire, identified herself as the mary, \"mother of the very true deity\".[4] she was said to have asked for a church to be erected at that site in her honor.[3]\\nbased on her words, juan diego then sought the archbishop of mexico city, juan de zumárraga, to tell him what had happened. not unexpectedly, the archbishop did not believe diego. later the same day, juan diego saw the young woman again (the second apparition), and she asked him to continue insisting.[3]\\nthe next day, sunday, december 10, 1531 in the julian calendar, juan diego spoke to the archbishop a second time. the latter instructed him to return to tepeyac and to ask the woman for a truly acceptable, miraculous sign to prove her identity. later that day, the third apparition appeared when juan diego returned to tepeyac; encountering the same woman, he reported to her the archbishop\\'s request for a sign, which she consented to provide on the next day (december 11).[5]\\nby monday, december 11, however, juan diego\\'s uncle, juan bernardino, became ill, which obligated juan diego to attend to him. in the very early hours of tuesday, december 12, juan bernardino\\'s condition having deteriorated overnight, juan diego journeyed to tlatelolco to get a catholic priest to hear juan bernardino\\'s confession and help minister to him on his deathbed.[3]\\nto avoid being delayed by the virgin and ashamed at having failed to meet her on monday as agreed, juan diego chose another route around tepeyac hill, yet the virgin intercepted him and asked where he was going (fourth apparition); juan diego explained what had happened and the virgin gently chided him for not having made recourse to her. in the words which have become the most famous phrase of the guadalupe apparitions and are inscribed above the main entrance to the basilica of guadalupe, she asked \"¿no estoy yo aquí que soy tu madre?\" (\"am i not here, i who am your mother?\"). she assured him that juan bernardino had now recovered and told him to gather flowers from the summit of tepeyac hill, which was normally barren, especially in the cold of december. juan diego obeyed her instruction and he found castilian roses, not native to mexico, blooming there.[3]\\naccording to the story, the virgin arranged the flowers in juan diego\\'s tilmàtli or cloak, and when juan diego opened his cloak later that day before archbishop zumárraga, the flowers fell to the floor, revealing on the fabric the image of the virgin.[3]\\nthe next day, december 13, juan diego found his uncle fully recovered as the virgin had assured him, and juan bernardino recounted that he also had seen her after praying at his bedside (fifth apparition); that she had instructed him to inform the archbishop of this apparition and of his miraculous cure; and that she had told him she desired to be known under the title of \"guadalupe\".[3]\\nthe archbishop kept juan diego\\'s mantle, first in his private chapel and then in the church on public display, where it attracted great attention. on december 26, 1531, a procession formed to transfer the miraculous image back to tepeyac hill where it was installed in a small, hastily erected chapel.[6] during this procession, the first miracle was allegedly performed when a native was mortally wounded in the neck by an arrow shot by accident during some stylized martial displays performed in honor of the virgin. in great distress, the natives carried him before the virgin\\'s image and pleaded for his life. upon the arrow being withdrawn, the victim fully and immediately recovered.[7]\\nthe words spoken by our lady to saint juan diego include:[8]\\nfirst saturday\\nsecond saturday\\nsunday\\ntuesday\\nthe shrine to our lady of guadalupe in guadalupe, cáceres, in extremadura, spain was the most important of the shrines to the virgin mary in the medieval kingdom of castile.[18] it is one of the many dark- or black-skinned madonnas in spain and is revered in the monastery of santa maría de guadalupe, in the town of guadalupe, from which numerous spanish conquistadors stem. the name is derived from وَادِي ٱل\\u200e (wādī al- “valley of the”) + latin lupum \"wolf\".\\nthe shrine houses a statue reputed to have been carved by luke the evangelist and given to archbishop leander of seville, , by pope gregory i. according to local legend, when seville was taken by the moors in 712, a group of priests fled northward and buried the statue in the hills near the guadalupe river.\\nat the beginning of the 14th century, the virgin appeared one day to a humble cowboy named gil cordero who was searching for a missing animal in the mountains.[19] cordero claimed that mary had appeared to him and ordered him to ask priests to dig at the site of the apparition. excavating priests rediscovered the hidden statue and built a small shrine around it which became the great guadalupe monastery.[citation needed]\\nfollowing the conquest in 1519–1521, the marian cult was brought to the americas and franciscan friars often leveraged syncretism with existing religious beliefs as an instrument for evangelization. what is purported by some to be the earliest mention of the miraculous apparition of the virgin is a page of parchment, the codex escalada from 1548, which was discovered in 1995 and, according to investigative analysis, dates from the sixteenth century.[20] this document bears two pictorial representations of juan diego and the apparition, several inscriptions in nahuatl referring to juan diego by his aztec name, and the date of his death: 1548, as well as the year that the then named virgin mary appeared: 1531. it also contains the glyph of antonio valeriano; and finally, the signature of fray bernardino de sahagun which was authenticated by experts from the banco de mexico and charles e. dibble.[21] scholarly doubts have been cast on the authenticity of the document.[22]\\na more complete early description of the apparition occurs in a 16-page manuscript called the nican mopohua, which has been reliably dated in 1556 and was acquired by the new york public library in 1880. this document, written in nahuatl, but in latin script, tells the story of the apparitions and the supernatural origin of the image. it was probably composed by a native aztec man, antonio valeriano, who had been educated by franciscans. the text of this document was later incorporated into a printed pamphlet which was widely circulated in 1649.[23][24][25][26]\\nin spite of these documents, there are no known 16th century written accounts of the guadalupe vision by the archbishop juan de zumárraga.[27] in particular, the canonical account of the vision features archbishop juan de zumárraga as a major player in the story, but, although zumárraga was a prolific writer, there is nothing in his extant writings that can confirm the indigenous story.[28]\\nthe written record suggests the catholic clergy in 16th century mexico were deeply divided as to the orthodoxy of the native beliefs springing up around the image of our lady of guadalupe, with the franciscan order (who then had custody of the chapel at tepeyac) being strongly opposed to the outside groups, while the dominicans supported it.[29]\\nthe main promoter of the story was the dominican alonso de montúfar, who succeeded the franciscan juan de zumárraga as archbishop of mexico. in a 1556 sermon montúfar commended popular devotion to \"our lady of guadalupe\", referring to a painting on cloth (the tilma) in the chapel of the virgin mary at tepeyac, where certain miracles had also occurred. days later, fray francisco de bustamante, local head of the franciscan order, delivered a sermon denouncing the native belief and believers. he expressed concern that the catholic archbishop was promoting a superstitious regard for an indigenous image:[30]\\nthe devotion at the chapel... to which they have given the name guadalupe was prejudicial to the indians because they believed that the image itself worked miracles, contrary to what the missionary friars had been teaching them, and because many were disappointed when it did not.archbishop montúfar opened an inquiry into the matter at which the franciscans repeated their position that the image encouraged idolatry and superstition, and four witnesses testified to bustamante\\'s statement that the image was painted by an indian, with one witness naming him \"the indian painter marcos\".[31] this could refer to the aztec painter marcos cipac de aquino, who was active at that time.[32][33]\\nprof. jody brant smith, referring to philip serna callahan\\'s examination of the tilma using infrared photography in 1979, wrote: \"if marcos did, he apparently did so without making a preliminary sketches – in itself then seen as a near-miraculous procedure... cipac may well have had a hand in painting the image, but only in painting the additions, such as the angel and moon at the virgin\\'s feet\",[34]\\nultimately archbishop montúfar, himself a dominican, decided to end franciscan custody of the shrine.[35] from then on the shrine was kept and served by diocesan priests under the authority of the archbishop.[36] moreover, archbishop montúfar authorized the construction of a much larger church at tepeyac, in which the tilma was later mounted and displayed.[citation needed]\\nin the late 1570s, the franciscan historian bernardino de sahagún denounced the cult at tepeyac and the use of the name \"tonantzin\" or to call her our lady in a personal digression in his general history of the things of new spain, also known as the \"florentine codex\":\\nat this place [tepeyac], [the indians] had a temple dedicated to the mother of the gods, whom they called tonantzin, which means our mother. there they performed many sacrifices in honor of this goddess ... and now that a church of our lady of guadalupe is built there, they also called her tonantzin, being motivated by those preachers who called our lady, the mother of god, tonantzin. while it is not known for certain where the beginning of tonantzin may have originated, but this we know for certain, that, from its first usage, the word refers to the ancient tonantzin. and it was viewed as something that should be remedied, for their having [native] name of the mother of god, holy mary, instead of tonantzin, but dios inantzin. it appears to be a satanic invention to cloak idolatry under the confusion of this name, tonantzin. and they now come to visit from very far away, as far away as before, which is also suspicious, because everywhere there are many churches of our lady and they do not go to them. they come from distant lands to this tonantzin as in olden times.[37]sahagún\\'s criticism of the indigenous group seems to have stemmed primarily from his concern about a syncretistic application of the native name tonantzin to the catholic virgin mary. however, sahagún often used the same name in his sermons as late as the 1560s.[38]\\none of the first printed accounts of the history of the apparitions and image occurs in imagen de la virgen maria, madre de dios de guadalupe, published in 1648 by miguel sánchez, a diocesan priest of mexico city.[39]\\nanother account is the codex escalada, dating from the sixteenth century, a sheet of parchment recording apparitions of the virgin mary and the figure of juan diego, which reproduces the glyph of antonio valeriano alongside the signature of fray bernardino de sahagún. it contains the following glosses: \"1548 also in that year of 1531 appeared to cuahtlatoatzin our beloved mother the lady of guadalupe in mexico. cuahtlatoatzin died worthily\"[40]\\nthe next printed account was a 36-page tract in the nahuatl language, huei tlamahuiçoltica (\"the great event\"), which was published in 1649. this tract contains a section called the nican mopohua (\"here it is recounted\"), which has been already touched on above. the composition and authorship of the huei tlamahuiçoltica is assigned by a majority of those scholars to luis laso de la vega, vicar of the sanctuary of tepeyac from 1647 to 1657.[41]\\nnevertheless, the most important section of the tract, the nican mopohua, appears to be much older. it has been attributed since the late 1600s to antonio valeriano (c. 1531–1605), a native aztec man who had been educated by the franciscans and who collaborated extensively with bernardino de sahagún.[23]\\na manuscript version of the nican mopohua, which is now held by the new york public library,[42]\\nappears to be datable to the mid-1500s, and may have been the original work by valeriano, as that was used by laso in composing the huei tlamahuiçoltica. most authorities agree on the dating and on valeriano\\'s authorship.[24][25][26]\\non the other hand, in 1666, the scholar luis becerra tanco published in mexico a book about the history of the apparitions under the name \"origen milagroso del santuario de nuestra señora de guadalupe,\" which was republished in spain in 1675 as \"felicidad de mexico en la admirable aparición de la virgen maría de guadalupe y origen de su milagrosa imagen, que se venera extramuros de aquella ciudad.\"[43] in the same way, in 1688, jesuit father francisco de florencia published la estrella del norte de méxico, giving the history of the same apparitions.[44]\\ntwo separate accounts, one in nahuatl from juan bautista del barrio de san juan from the 16th century,[45] and the other in spanish by servando teresa de mier[46] date the original apparition and native celebration on september 8 of the julian calendar, but it is also said that the spaniards celebrate it on december 12 instead.[citation needed]\\naccording to the document informaciones jurídicas de 1666, a catholic feast day in name of our lady of guadalupe was requested and approved, as well as the transfer of the date of the feast of the virgin of guadalupe from september 8 to december 12, the latest date on which the virgin supposedly appeared to juan diego. the initiative to perform them was made by francisco de siles who proposed to ask the church of rome, a mass itself with allusive text to the apparitions and stamping of the image, along with the divine office itself, and the precept of hearing a catholic mass on december 12, the last date of the apparitions of the virgin to juan diego as the new date to commemorate the apparitions (which until then was on september 8, the birth of the virgin).[47]\\nin 1666, the church in méxico began gathering information from people who reported having known juan diego, and in 1723 a formal investigation into his life was ordered, where more data was gathered to support his veneration. because of the informaciones jurídicas de 1666 in the year 1754, the sacred congregation of rites confirmed the true and valid value of the apparitions, and granted celebrating mass and office for the then catholic version of the feast of guadalupe on december 12.[48][49]\\nthese published accounts of the origin of the image already venerated in tepeyac, then increased interest in the identity of juan diego, who was the original recipient of the prime vision. a new catholic basilica church was built to house the image. completed in 1709, it is now known as the old basilica.[50]\\nthe image[which?] had originally featured a 12-point crown on the virgin\\'s head, but this disappeared in 1887–88. the change was first noticed on february 23, 1888, when the image was removed to a nearby church.[52] eventually a painter confessed on his deathbed that he had been instructed by a clergyman to remove the crown. this may have been motivated by the fact that the gold paint was flaking off of the crown, leaving it looking dilapidated. but according to the historian david brading, \"the decision to remove rather than replace the crown was no doubt inspired by a desire to \\'modernize\\' the image and reinforce its similarity to the nineteenth-century images of the immaculate conception which were exhibited at lourdes and elsewhere... what is rarely mentioned is that the frame which surrounded the canvas was adjusted to leave almost no space above the virgin\\'s head, thereby obscuring the effects of the erasure.\"[53]\\na different crown was installed to the image. on february 8, 1887, a papal bull from pope leo xiii granted permission a canonical coronation of the image, which occurred on october 12, 1895.[54] since then the virgin of guadalupe has been proclaimed \"queen of mexico\", \"patroness of the americas\", \"empress of latin america\", and \"protectress of unborn children\" (the latter two titles given by pope john paul ii in 1999).[10][55]\\nunder pope john paul ii the move to beatify juan diego intensified. john paul ii took a special interest in non-european catholics and saints. during his leadership, the congregation for the causes of saints declared juan diego \"venerable\" (in 1987), and the pope himself announced his beatification on may 6, 1990, during a mass at the basilica of our lady of guadalupe in mexico city, declaring him \"protector and advocate of the indigenous peoples,\" with december 9 established as his feast day.[56]\\nat that time historians revived doubts as to the quality of the evidence regarding juan diego. the writings of bishop zumárraga, into whose hands juan purportedly delivered the miraculous image, did not refer to him or the event. the record of the 1556 ecclesiastical inquiry omitted him, and he was not mentioned in documentation before the mid-17th century. in 1996 the 83-year-old abbot of the basilica of guadalupe, guillermo schulenburg, was forced to resign following an interview published in the catholic magazine ixthus, in which he was quoted as saying that juan diego was \"a symbol, not a reality\", and that his canonization would be the \"recognition of a cult. it is not recognition of the physical, real existence of a person.\"[57] in 1883 joaquín garcía icazbalceta, historian and biographer of zumárraga, in a confidential report on the lady of guadalupe for bishop labastida, had been hesitant to support the story of the vision. he concluded that juan diego had not existed.[58]\\nin 1995, father xavier escalada, a jesuit whose four volume guadalupe encyclopedia had just been published, announced the existence of a sheet of parchment (known as codex escalada), which bore an illustrated account of the vision and some notations in nahuatl concerning the life and death of juan diego. previously unknown, the document was dated 1548. it bore the signatures of antonio valeriano and bernardino de sahagún, which are considered to verify its contents. the codex was the subject of an appendix to the guadalupe encyclopedia, published in 1997.[22] some scholars remained unconvinced, one describing the discovery of the codex as \"rather like finding a picture of st. paul\\'s vision of christ on the road to damascus, drawn by st. luke and signed by st. peter.\"[59]\\nin the earliest account of the apparition, the nican mopohua, the virgin de guadalupe, later called as if the virgin mary tells juan bernardino, the uncle of juan diego, that the image left on the tilma is to be known by the name \"the perfect virgin, holy mary of guadalupe.\"[60]\\nthe virgin of guadalupe is a core element of mexican identity and with the rise of mexican nationalism and indigenist ideologies, there have been numerous efforts to find a pre-hispanic origin in the cult, to the extreme of attempting to find a nahuatl etymology to the name.[citation needed]\\nthe first theory to promote a nahuatl origin was that of luis becerra tanco.[61] in his 1675 work felicidad de mexico, becerra tanco said that juan bernardino and juan diego would not have been able to understand the name guadalupe because the \"d\" and \"g\" sounds do not exist in nahuatl.[citation needed]\\nhe proposed two nahuatl alternative names that sound similar to \"guadalupe\", tecuatlanopeuh [tekʷat͡ɬaˈnopeʍ], which he translates as \"she whose origins were in the rocky summit\", and tecuantlaxopeuh [tekʷant͡ɬaˈʃopeʍ], \"she who banishes those who devoured us.\"[61]\\nondina and justo gonzález suggest that the name is a spanish version of the nahuatl term, coātlaxopeuh [koaːt͡ɬaˈʃopeʍ], which they interpret as meaning \"the one who crushes the serpent,\" and that it may seem to be referring to the feathered serpent quetzalcoatl. in addition, the virgin mary was portrayed in european art as crushing the serpent of the garden of eden.[62]\\naccording to another theory the juxtaposition of guadalupe and a snake may indicate a nexus with the aztec goddess of love and fertility, tonantzin (in nahuatl, \"our revered mother\"), who was also known by the name coatlícue (\"the serpent skirt\"). this appears to be borne out by the fact that this goddess already had a temple dedicated to her on the very tepeyac hill where juan diego had his vision, the same temple which had recently been destroyed at the behest of the new spanish catholic authorities. in the 16th century the franciscans were suspicious that the followers of guadalupe showed, or was susceptible to, elements of syncretism, i.e. the importation of an object of reverence in one belief system into another (see above).[citation needed]\\nthe theory promoting the spanish origin of the name says that:\\nthe venerated image of our lady of guadalupe features a full-length representation of a young woman with delicate features and straight, dark hair in a centre parting. she stands facing the viewer\\'s left, with her hands joined in prayer and head slightly inclined down, gazing with heavy-lidded eyes at a spot below and to her right (the left of the viewer).\\nthe figure is dressed from neck to feet in a pink robe and cerulean mantle, one side folded within the arms, emblazoned with eight-pointed stars with two black tassels tied high around her waist, and wearing a neck brooch featuring a colonial-style cross. the robe is spangled with a small gold quatrefoil motif ornamented with vines and flowers, its sleeves reaching to her wrists where the cuffs of a white undergarment appear.\\nthe figure stands on an upturned crescent moon, which was allegedly once silver in colour, and is now relatively dark. a feathered cherubic angel with outstretched arms carries the corners of her robe underneath her exposed feet. a sunburst of straight and wavy gold rays are projected behind her and around her and are enclosed within a mandorla. beyond the mandorla to the right and left is an unpainted expanse, white in color with a faint blue tinge.\\nthe present image shows the 1791 nitric acid spill on the top right side, unaffecting the subject matter\\'s aureola.[a][63]\\nthe portrait was executed on a natural fibre fabric support constituted by two pieces (originally three) joined. the join is clearly visible as a seam passing from top to bottom, with the virgin\\'s face and hands and the head of the angel on the left piece, passing through the left wrist of the virgin. the fabric is mounted on a large metal sheet to which it has been glued for some time.[64] the image, currently set in a massive frame protected behind bullet-proof glass, hangs inclined at a slight angle on the wall of the basilica behind the altar. at this point, there is a wide gap between the wall and the sanctuary facilitating closer viewing from moving walkways set on the floor beneath the main level of the basilica, carrying people a short distance in either direction. viewed from the main body of the basilica, the image is located above and to the right of the altar and is retracted at night into a small vault (accessible by steps) set into the wall.[65] an intricate metal crown designed by the painter salomé pina according to plans devised by rómulo escudero and pérez gallardo, and executed by the parisian goldsmith, edgar morgan, is fixed above the image by a rod, and a massive mexican flag is draped around and below the frame.[66]\\nthe nature of the fabric is discussed below. its measurements were taken by josé ignacio bartolache on december 29, 1786, in the presence of josé bernardo de nava, a public notary: height 170\\xa0cm (67\\xa0in), width 105\\xa0cm (41\\xa0in).[67] the original height (before it was first shielded behind glass in the late 18th century, at which time the unpainted portion beyond the virgin\\'s head must have been cut down) was 229\\xa0cm (90\\xa0in).[68]\\nneither the fabric (\"the support\") nor the image (together, \"the tilma\") has been analyzed using the full range of resources now available to museum conservators. four technical studies have been conducted so far. of these, the findings of at least three have been published. each study required the permission of the custodians of the tilma in the basilica. however, callahan\\'s study was taken at the initiative of a third party: the custodians did not know in advance what his research would reveal.\\nsummary conclusions were (\"contra\" indicates a contrary finding):\\nreligious imagery of our lady of guadalupe appears in roman catholic parishes, especially those with latin american heritage.[81] in addition, due to the growth of hispanic communities in the united states, religious imagery of our lady of guadalupe has started appearing in some anglican, lutheran, and methodist churches.[81] additionally, our lady of guadalupe is venerated by some mayan orthodox christians in guatemala.[82]\\nthe iconography of the virgin is fully catholic:[83] miguel sánchez, the author of the 1648 tract imagen de la virgen maría, described her as the woman of the apocalypse from the new testament\\'s revelation 12:1, \"clothed with the sun, and the moon under her feet, and upon her head a crown of twelve stars.\" she is described as a representation of the immaculate conception.[59]\\nvirgil elizondo says the image also had layers of meaning for the indigenous people of mexico who associated her image with their polytheistic deities, which further contributed to her popularity.[84][85] her blue-green mantle was the color reserved for the divine couple ometecuhtli and omecihuatl;[86] her belt is interpreted as a sign of pregnancy; and a cross-shaped image, symbolizing the cosmos and called nahui-ollin, is inscribed beneath the image\\'s sash.[87] she was called \"mother of maguey,\"[88] the source of the sacred beverage pulque.[89] pulque was also known as \"the milk of the virgin.\"[90] the rays of light surrounding her are seen to also represent maguey spines.[88]\\njuan diego\\'s tilma has become mexico\\'s most popular religious and cultural symbol, and has received widespread ecclesiastical and popular veneration. in the 19th century it became the rallying cry of the spaniards born in america, in what they denominated \\'new spain\\'. they said they considered the apparitions as legitimizing their own indigenous mexican origin. they infused it with an almost messianic sense of mission and identity, thereby also justifying their armed rebellion against spain.[91][92]\\nnuestra señora de guadalupe became a recognized symbol of catholic mexicans. miguel sánchez, the author in 1648 of the first published account of the vision, identified guadalupe as revelation\\'s woman of the apocalypse, and said:\\n... this new world has been won and conquered by the hand of the virgin mary\\xa0... [who had] prepared, disposed, and contrived her exquisite likeness in this, her mexican land, which was conquered for such a glorious purpose, won that there should appear so mexican an image.[59]throughout the mexican national history of the 19th and 20th centuries, the guadalupan name and image have been unifying national symbols; the first president of mexico (1824–1829) changed his name from josé miguel ramón adaucto fernández y félix to guadalupe victoria in honor of the virgin of guadalupe.[93] father miguel hidalgo, in the mexican war of independence (1810), and emiliano zapata, in the mexican revolution (1910), led their respective armed forces with guadalupan flags emblazoned with an image of our lady of guadalupe.[94] in 1999, the church officially proclaimed her the patroness of the americas, the empress of latin america, and the protectress of unborn children.\\nin 1810, miguel hidalgo y costilla initiated the bid for mexican independence with his grito de dolores, with the cry \"death to the spaniards and long live the virgin of guadalupe!\" when hidalgo\\'s mestizo-indigenous army attacked guanajuato and valladolid, they placed \"the image of the virgin of guadalupe, which was the insignia of their enterprise, on sticks or on reeds painted different colors\" and \"they all wore a print of the virgin on their hats.\"[93] after hidalgo\\'s death, leadership of the revolution fell to a mestizo priest named josé maría morelos, who led insurgent troops in the mexican south. morelos adopted the virgin as the seal of his congress of chilpancingo, inscribing her feast day into the chilpancingo constitution and declaring that guadalupe was the power behind his victories:\\nnew spain puts less faith in its own efforts than in the power of god and the intercession of its blessed mother, who appeared within the precincts of tepeyac as the miraculous image of guadalupe that had come to comfort us, defend us, visibly be our protection.[93]simón bolívar noticed the guadalupan theme in these uprisings, and shortly before morelos\\'s execution in 1815 wrote: \"the leaders of the independence struggle have put fanaticism to use by proclaiming the famous virgin of guadalupe as the queen of the patriots, praying to her in times of hardship and displaying her on their flags... the veneration for this image in mexico far exceeds the greatest reverence that the shrewdest prophet might inspire.\"[59]\\nin 1912, emiliano zapata\\'s peasant army rose out of the south against the government of francisco madero. though zapata\\'s rebel forces were primarily interested in land reform—\"tierra y libertad\" (\\'land and liberty\\') was the slogan of the uprising—when his peasant troops penetrated mexico city, they carried guadalupan banners.[95] more recently, the contemporary zapatista national liberation army (ezln) named their \"mobile city\" in honor of the virgin: it is called guadalupe tepeyac. ezln spokesperson subcomandante marcos wrote a humorous letter in 1995 describing the ezln bickering over what to do with a guadalupe statue they had received as a gift.[96]\\nharringon argues that: the aztecs... had an elaborate, coherent symbolic system for making sense of their lives. when this was destroyed by the spaniards, something new was needed to fill the void and make sense of new spain\\xa0... the image of guadalupe served that purpose.[97]\\nhernán cortés, the conquistador who overthrew the aztec empire in 1521, was a native of extremadura, home to our lady of guadalupe. by the 16th century, the extremadura guadalupe, a statue of the virgin said to be carved by luke the evangelist, was already a national icon. it was found at the beginning of the 14th century, when the virgin appeared to a humble shepherd and ordered him to dig at the site of the apparition. the recovered virgin then miraculously helped to expel the moors from spain, and her small shrine evolved into the great guadalupe monastery.\\naccording to the traditional account, the name of guadalupe, as the name was heard or understood by spaniards, was chosen by the virgin herself when she appeared on the hill outside mexico city in 1531, ten years after the conquest.[98]\\nguadalupe continues to be a mixture of the cultures which blended to form mexico, both racially and religiously,[99] \"the first mestiza\",[100] or \"the first mexican\",[101] \"bringing together people of distinct cultural heritages, while at the same time affirming their distinctness.\"[102] as jacques lafaye wrote in quetzalcoatl and guadalupe, \"as the christians built their first churches with the rubble and the columns of the ancient pagan temples, so they often borrowed pagan customs for their own cult purposes.\"[103] the author judy king asserts that guadalupe is a \"common denominator\" uniting mexicans. writing that mexico is composed of a vast patchwork of differences—linguistic, ethnic, and class-based—king says \"the virgin of guadalupe is the rubber band that binds this disparate nation into a whole.\"[101]\\nthe mexican novelist, carlos fuentes, once said that \"you cannot truly be considered a mexican unless you believe in the virgin of guadalupe.\"[104] nobel literature laureate octavio paz wrote in 1974 that \"the mexican people, after more than two centuries of experiments and defeats, have faith only in the virgin of guadalupe and the national lottery.\"[105]\\ncatholic sources attest that the original image has many miraculous and supernatural properties, including that the tilma has maintained its structural integrity for approximately 500 years despite exposure to soot, candle wax, incense, constant manual veneration by devotees, the historical fact that the image was displayed without any protective glass for its first 115 years, while replicas normally endure for only circa 15 years before degrading,[106] and that it repaired itself with no external assistance after a 1791 accident in which nitric acid was spilled on its top right, causing considerable damage but leaving the aureola of the virgin intact.\\nfurthermore, on november 14, 1921, a bomb hidden within a basket of flowers and left under the tilma by an anti-catholic secularist exploded and damaged the altar of the basilica that houses the original image, but the tilma was unharmed. a brass standing crucifix, bent by the explosion, is now preserved at the shrine\\'s museum and is believed to be miraculous by devotees.[107][108]\\nin 1929 and 1951 photographers said they found a figure reflected in the virgin\\'s eyes; upon inspection they said that the reflection was tripled in what is called the purkinje effect, commonly found in human eyes.[109] an ophthalmologist, dr. jose aste tonsmann, later enlarged an image of the virgin\\'s eyes by 2500x and said he found not only the aforementioned single figure, but images of all the witnesses present when the tilma was first revealed before zumárraga in 1531, plus a small family group of mother, father, and a group of children, in the center of the virgin\\'s eyes, fourteen people in all (including a young black girl, representing zumárraga\\'s slave whom he freed in his will).[110][111]\\nin 1936 biochemist richard kuhn reportedly analyzed a sample of the fabric and announced that the pigments used were from no known source, whether animal, mineral, or vegetable.[110] according to the wonder of guadalupe by francis johnston, this was requested by professor hahn and professor marcelino junco, retired professor of organic chemistry at the national university of mexico. this has been taken as further evidence of the tilma\\'s miraculous nature. in late 2019, investigators from the higher institute of guadalupano studies concluded that there was no evidence kuhn ever investigated the lady of guadalupe or made the statement attributed to him.[112]\\ndr. philip serna callahan, who photographed the icon under infrared light, declared from his photographs that portions of the face, hands, robe, and mantle had been painted in one step, with no sketches or corrections and no visible brush strokes.[113]\\nthe shrine of the virgin of guadalupe is the most visited catholic pilgrimage destination in the world. over the friday and saturday of december 11 to 12, 2009, a record number of 6.1\\xa0million pilgrims visited the basilica of guadalupe in mexico city to commemorate the anniversary of the apparition.[114]\\nthe virgin of guadalupe is considered the patroness of mexico and the continental americas; she is also venerated by native americans, on the account of the devotion calling for the conversion of the americas.[115] replicas of the tilma can be found in thousands of churches throughout the world, and numerous parishes bear her name.\\ndue to mary\\'s appearance as a pregnant mother and her claims as mother of all in the apparition, the blessed virgin mary, under this title is popularly invoked as patroness of the unborn and a common image for the pro-life movement.[116][117][118]\\ndue to her association as a crusader of social justice, the image of our lady of guadalupe has been utilized as a symbol across regions\\xa0to advance political movements and mobilize the masses. for instance, the image has most notably been utilized in mexico’s independence movement in the early 19th century, the united farm worker movement in the u.s. in the 20th century and in contemporary political causes like immigration. [119] [120]\\nin mexico’s independence, the image of our lady of guadalupe became associated with the movement after father miguel hidalgo rallied and united insurgents under her banner. in fact, the first president of the mexican republic, josé miguel ramón adaucto fernández y félix, who was heavily involved in mexico’s independence war, changed his name as to guadalupe victoria as a sign of devotion.[121] [122]\\nin the united farm workers union (ufw), its leader, cesar chavez, was a devout catholic who drew on his religious beliefs to demand for better wages and labor practices for farmersworkers in the u.s. [123] he incorporated his religious beliefs in the movement by holding masses in the picket lines and prayers before meetings, and leading a pilgrammge from delano to sacramento in 1966 during lent. [123] similarly to in mexico’s independence movement, the famous pilgrimage in 1966 that drew national attention to the cause was lead\\xa0 under a banner with the image of our lady of guadalupe. [124]\\nthe image of our lady of guadalupe is also present in the contemporary political discussion on immigration. artists like ester hernandez and consuelo jimenez underwood embed or reimagine her image on artworks that comment on immigration politics. for instance, ester hernandez’s screen print titled wanted (2010) and\\xa0 consuelo jimenez underwood’s\\xa0sacred jump (1994) and vigen de los caminos (1994). [125] [126] [122]\\none notable reference in literature to the image and its alleged predecessor, the aztec earth goddess tonantzin, is in sandra cisneros\\' short story \"little miracles, kept promises\", from her collection woman hollering creek and other stories (1991). cisneros\\' story is constructed out of brief notes that people give our lady of guadalupe in thanks for favors received, which in cisneros\\' hands becomes a portrait of an extended chicano community living throughout texas. \"little miracles\" ends with an extended narrative (pp.\\xa0124–129) of a feminist artist, rosario \"chayo\" de león, who at first didn\\'t allow images of la virgen de guadalupe in her home because she associated her with subservience and suffering, particularly by mexican women. but when she learns that guadalupe\\'s shrine is built on the same hill in mexico city that had a shrine to tonantzin, the aztec earth goddess and serpent destroyer, chayo comes to understand that there\\'s a deep, syncretic connection between the aztec goddess and the mexican saint; together they inspire chayo\\'s new artistic creativity, inner strength, and independence. in chayo\\'s words, \"i finally understood who you are. no longer mary the mild, but our mother tonantzin. your church at tepeyac built on the site of her temple\" (128).[127]\\nthe image and its alleged apparition was investigated several times, including in the 2013 documentary the blood & the rose, directed by tim watkins.[128] documentarians have been portraying the message of our lady of guadalupe since the 1990s, in an attempt to bring the message of the apparition to the north american audience.\\ndrawing on the significance of our lady of guadalupe in chicanx culture, many chicanx artists revere her image and visually reimagine the religious figure within a feminist and contemporary context. [129] [130] [126]more than just a religious symbol, chicanx artists view our lady of guadalupe as an empowering feminist icon and a proclamation of indigenous pride. however, these re-envisioned artworks have not been without controversy, as many artists have faced intense backlash from conservative catholics or traditionalist groups who view these artworks as \"disrespectful and irreverent.\"[131] one of the most famous controversies was sparked by alma lópez\\'s our lady digital collage, which later led to a book titled \"our lady of controversy: alma lópez\\'s irreverent apparition.\"[132][133] despite this, chicanx artists such as yolanda lópez, alma lópez,  margarita \\'mita\\' cuaron, ester hernández, and consuelo jimenez underwood, among others, have used our lady of guadalupe\\'s portrait to explore themes of repression, feminine strength, and to uplift women.[134][135]\\n'"
            ],
            "application/vnd.google.colaboratory.intrinsic+json": {
              "type": "string"
            }
          },
          "metadata": {},
          "execution_count": 4
        }
      ],
      "source": [
        "# Demos un vistazo\n",
        "article_text"
      ]
    },
    {
      "cell_type": "code",
      "execution_count": 5,
      "metadata": {
        "id": "BtGLJjt6rQhK",
        "colab": {
          "base_uri": "https://localhost:8080/"
        },
        "outputId": "4ec42971-91d8-4320-93f9-34b507c49f03"
      },
      "outputs": [
        {
          "output_type": "stream",
          "name": "stdout",
          "text": [
            "Cantidad de caracteres en la nota: 41848\n"
          ]
        }
      ],
      "source": [
        "print(\"Cantidad de caracteres en la nota:\", len(article_text))"
      ]
    },
    {
      "cell_type": "markdown",
      "metadata": {
        "id": "FVHxBRNzCMOS"
      },
      "source": [
        "### 2 - Preprocesamiento\n",
        "- Remover caracteres especiales\n",
        "- Quitar espacios o saltos"
      ]
    },
    {
      "cell_type": "code",
      "execution_count": 6,
      "metadata": {
        "id": "HnEUTD1Erl1N"
      },
      "outputs": [],
      "source": [
        "# substituir con regex con espacio vacío:\n",
        "\n",
        "text = re.sub(r'\\[(.*?)\\]', ' ', article_text) # substituir caracteres entre corchetes\n",
        "text = re.sub(r'\\((.*?)\\)', ' ', text) # substituir caracteres entre parentesis\n",
        "\n",
        "text = re.sub(r'\\s+', ' ', text) # substituir más de un caracter de espacio, salto de línea o tabulación\n",
        "text = re.sub(r'\\)', ' ', text) # substituir parentesis sueltos\n"
      ]
    },
    {
      "cell_type": "code",
      "execution_count": 7,
      "metadata": {
        "id": "g7ycrAMYrn66",
        "colab": {
          "base_uri": "https://localhost:8080/",
          "height": 104
        },
        "outputId": "15269299-b859-4312-b56e-5b5e262f94a2"
      },
      "outputs": [
        {
          "output_type": "execute_result",
          "data": {
            "text/plain": [
              "'coordinates: 19°29′04″n 99°07′02″w\\ufeff / \\ufeff19.48444°n 99.11722°w\\ufeff / 19.48444; -99.11722 our lady of guadalupe , also known as the virgin of guadalupe , is a catholic title of mary, mother of jesus associated with a series of five marian apparitions, which are believed to have occurred in december 1531, and a venerated image on a cloak enshrined within the basilica of our lady of guadalupe in mexico city. the basilica is the most-visited catholic shrine in the world, and the world\\'s third most-visited sacred site. pope leo xiii granted the image a decree of canonical coronation on 8 february 1887 and it was pontifically crowned on 12 october 1895. according to the nican mopohua, included in the 17th-century huei tlamahuiçoltica, written in nahuatl, the virgin mary appeared four times to juan diego, a chichimec peasant, and once to his uncle, juan bernardino. the first apparition occurred on the morning of saturday, 9 december 1531 gregorian calendar in present use . juan diego experienced a vision of a young woman at a place called the hill of tepeyac, which later became part of villa de guadalupe, in a suburb of mexico city. according to the accounts, the woman, speaking to juan diego in nahuatl, his first language and the language of the former aztec empire, identified herself as the mary, \"mother of the very true deity\". she was said to have asked for a church to be erected at that site in her honor. based on her words, juan diego then sought the archbishop of mexico city, juan de zumárraga, to tell him what had happened. not unexpectedly, the archbishop did not believe diego. later the same day, juan diego saw the young woman again , and she asked him to continue insisting. the next day, sunday, december 10, 1531 in the julian calendar, juan diego spoke to the archbishop a second time. the latter instructed him to return to tepeyac and to ask the woman for a truly acceptable, miraculous sign to prove her identity. later that day, the third apparition appeared when juan diego returned to tepeyac; encountering the same woman, he reported to her the archbishop\\'s request for a sign, which she consented to provide on the next day . by monday, december 11, however, juan diego\\'s uncle, juan bernardino, became ill, which obligated juan diego to attend to him. in the very early hours of tuesday, december 12, juan bernardino\\'s condition having deteriorated overnight, juan diego journeyed to tlatelolco to get a catholic priest to hear juan bernardino\\'s confession and help minister to him on his deathbed. to avoid being delayed by the virgin and ashamed at having failed to meet her on monday as agreed, juan diego chose another route around tepeyac hill, yet the virgin intercepted him and asked where he was going ; juan diego explained what had happened and the virgin gently chided him for not having made recourse to her. in the words which have become the most famous phrase of the guadalupe apparitions and are inscribed above the main entrance to the basilica of guadalupe, she asked \"¿no estoy yo aquí que soy tu madre?\" . she assured him that juan bernardino had now recovered and told him to gather flowers from the summit of tepeyac hill, which was normally barren, especially in the cold of december. juan diego obeyed her instruction and he found castilian roses, not native to mexico, blooming there. according to the story, the virgin arranged the flowers in juan diego\\'s tilmàtli or cloak, and when juan diego opened his cloak later that day before archbishop zumárraga, the flowers fell to the floor, revealing on the fabric the image of the virgin. the next day, december 13, juan diego found his uncle fully recovered as the virgin had assured him, and juan bernardino recounted that he also had seen her after praying at his bedside ; that she had instructed him to inform the archbishop of this apparition and of his miraculous cure; and that she had told him she desired to be known under the title of \"guadalupe\". the archbishop kept juan diego\\'s mantle, first in his private chapel and then in the church on public display, where it attracted great attention. on december 26, 1531, a procession formed to transfer the miraculous image back to tepeyac hill where it was installed in a small, hastily erected chapel. during this procession, the first miracle was allegedly performed when a native was mortally wounded in the neck by an arrow shot by accident during some stylized martial displays performed in honor of the virgin. in great distress, the natives carried him before the virgin\\'s image and pleaded for his life. upon the arrow being withdrawn, the victim fully and immediately recovered. the words spoken by our lady to saint juan diego include: first saturday second saturday sunday tuesday the shrine to our lady of guadalupe in guadalupe, cáceres, in extremadura, spain was the most important of the shrines to the virgin mary in the medieval kingdom of castile. it is one of the many dark- or black-skinned madonnas in spain and is revered in the monastery of santa maría de guadalupe, in the town of guadalupe, from which numerous spanish conquistadors stem. the name is derived from وَادِي ٱل\\u200e + latin lupum \"wolf\". the shrine houses a statue reputed to have been carved by luke the evangelist and given to archbishop leander of seville, , by pope gregory i. according to local legend, when seville was taken by the moors in 712, a group of priests fled northward and buried the statue in the hills near the guadalupe river. at the beginning of the 14th century, the virgin appeared one day to a humble cowboy named gil cordero who was searching for a missing animal in the mountains. cordero claimed that mary had appeared to him and ordered him to ask priests to dig at the site of the apparition. excavating priests rediscovered the hidden statue and built a small shrine around it which became the great guadalupe monastery. following the conquest in 1519–1521, the marian cult was brought to the americas and franciscan friars often leveraged syncretism with existing religious beliefs as an instrument for evangelization. what is purported by some to be the earliest mention of the miraculous apparition of the virgin is a page of parchment, the codex escalada from 1548, which was discovered in 1995 and, according to investigative analysis, dates from the sixteenth century. this document bears two pictorial representations of juan diego and the apparition, several inscriptions in nahuatl referring to juan diego by his aztec name, and the date of his death: 1548, as well as the year that the then named virgin mary appeared: 1531. it also contains the glyph of antonio valeriano; and finally, the signature of fray bernardino de sahagun which was authenticated by experts from the banco de mexico and charles e. dibble. scholarly doubts have been cast on the authenticity of the document. a more complete early description of the apparition occurs in a 16-page manuscript called the nican mopohua, which has been reliably dated in 1556 and was acquired by the new york public library in 1880. this document, written in nahuatl, but in latin script, tells the story of the apparitions and the supernatural origin of the image. it was probably composed by a native aztec man, antonio valeriano, who had been educated by franciscans. the text of this document was later incorporated into a printed pamphlet which was widely circulated in 1649. in spite of these documents, there are no known 16th century written accounts of the guadalupe vision by the archbishop juan de zumárraga. in particular, the canonical account of the vision features archbishop juan de zumárraga as a major player in the story, but, although zumárraga was a prolific writer, there is nothing in his extant writings that can confirm the indigenous story. the written record suggests the catholic clergy in 16th century mexico were deeply divided as to the orthodoxy of the native beliefs springing up around the image of our lady of guadalupe, with the franciscan order being strongly opposed to the outside groups, while the dominicans supported it. the main promoter of the story was the dominican alonso de montúfar, who succeeded the franciscan juan de zumárraga as archbishop of mexico. in a 1556 sermon montúfar commended popular devotion to \"our lady of guadalupe\", referring to a painting on cloth in the chapel of the virgin mary at tepeyac, where certain miracles had also occurred. days later, fray francisco de bustamante, local head of the franciscan order, delivered a sermon denouncing the native belief and believers. he expressed concern that the catholic archbishop was promoting a superstitious regard for an indigenous image: the devotion at the chapel... to which they have given the name guadalupe was prejudicial to the indians because they believed that the image itself worked miracles, contrary to what the missionary friars had been teaching them, and because many were disappointed when it did not.archbishop montúfar opened an inquiry into the matter at which the franciscans repeated their position that the image encouraged idolatry and superstition, and four witnesses testified to bustamante\\'s statement that the image was painted by an indian, with one witness naming him \"the indian painter marcos\". this could refer to the aztec painter marcos cipac de aquino, who was active at that time. prof. jody brant smith, referring to philip serna callahan\\'s examination of the tilma using infrared photography in 1979, wrote: \"if marcos did, he apparently did so without making a preliminary sketches – in itself then seen as a near-miraculous procedure... cipac may well have had a hand in painting the image, but only in painting the additions, such as the angel and moon at the virgin\\'s feet\", ultimately archbishop montúfar, himself a dominican, decided to end franciscan custody of the shrine. from then on the shrine was kept and served by diocesan priests under the authority of the archbishop. moreover, archbishop montúfar authorized the construction of a much larger church at tepeyac, in which the tilma was later mounted and displayed. in the late 1570s, the franciscan historian bernardino de sahagún denounced the cult at tepeyac and the use of the name \"tonantzin\" or to call her our lady in a personal digression in his general history of the things of new spain, also known as the \"florentine codex\": at this place , had a temple dedicated to the mother of the gods, whom they called tonantzin, which means our mother. there they performed many sacrifices in honor of this goddess ... and now that a church of our lady of guadalupe is built there, they also called her tonantzin, being motivated by those preachers who called our lady, the mother of god, tonantzin. while it is not known for certain where the beginning of tonantzin may have originated, but this we know for certain, that, from its first usage, the word refers to the ancient tonantzin. and it was viewed as something that should be remedied, for their having name of the mother of god, holy mary, instead of tonantzin, but dios inantzin. it appears to be a satanic invention to cloak idolatry under the confusion of this name, tonantzin. and they now come to visit from very far away, as far away as before, which is also suspicious, because everywhere there are many churches of our lady and they do not go to them. they come from distant lands to this tonantzin as in olden times. sahagún\\'s criticism of the indigenous group seems to have stemmed primarily from his concern about a syncretistic application of the native name tonantzin to the catholic virgin mary. however, sahagún often used the same name in his sermons as late as the 1560s. one of the first printed accounts of the history of the apparitions and image occurs in imagen de la virgen maria, madre de dios de guadalupe, published in 1648 by miguel sánchez, a diocesan priest of mexico city. another account is the codex escalada, dating from the sixteenth century, a sheet of parchment recording apparitions of the virgin mary and the figure of juan diego, which reproduces the glyph of antonio valeriano alongside the signature of fray bernardino de sahagún. it contains the following glosses: \"1548 also in that year of 1531 appeared to cuahtlatoatzin our beloved mother the lady of guadalupe in mexico. cuahtlatoatzin died worthily\" the next printed account was a 36-page tract in the nahuatl language, huei tlamahuiçoltica , which was published in 1649. this tract contains a section called the nican mopohua , which has been already touched on above. the composition and authorship of the huei tlamahuiçoltica is assigned by a majority of those scholars to luis laso de la vega, vicar of the sanctuary of tepeyac from 1647 to 1657. nevertheless, the most important section of the tract, the nican mopohua, appears to be much older. it has been attributed since the late 1600s to antonio valeriano , a native aztec man who had been educated by the franciscans and who collaborated extensively with bernardino de sahagún. a manuscript version of the nican mopohua, which is now held by the new york public library, appears to be datable to the mid-1500s, and may have been the original work by valeriano, as that was used by laso in composing the huei tlamahuiçoltica. most authorities agree on the dating and on valeriano\\'s authorship. on the other hand, in 1666, the scholar luis becerra tanco published in mexico a book about the history of the apparitions under the name \"origen milagroso del santuario de nuestra señora de guadalupe,\" which was republished in spain in 1675 as \"felicidad de mexico en la admirable aparición de la virgen maría de guadalupe y origen de su milagrosa imagen, que se venera extramuros de aquella ciudad.\" in the same way, in 1688, jesuit father francisco de florencia published la estrella del norte de méxico, giving the history of the same apparitions. two separate accounts, one in nahuatl from juan bautista del barrio de san juan from the 16th century, and the other in spanish by servando teresa de mier date the original apparition and native celebration on september 8 of the julian calendar, but it is also said that the spaniards celebrate it on december 12 instead. according to the document informaciones jurídicas de 1666, a catholic feast day in name of our lady of guadalupe was requested and approved, as well as the transfer of the date of the feast of the virgin of guadalupe from september 8 to december 12, the latest date on which the virgin supposedly appeared to juan diego. the initiative to perform them was made by francisco de siles who proposed to ask the church of rome, a mass itself with allusive text to the apparitions and stamping of the image, along with the divine office itself, and the precept of hearing a catholic mass on december 12, the last date of the apparitions of the virgin to juan diego as the new date to commemorate the apparitions . in 1666, the church in méxico began gathering information from people who reported having known juan diego, and in 1723 a formal investigation into his life was ordered, where more data was gathered to support his veneration. because of the informaciones jurídicas de 1666 in the year 1754, the sacred congregation of rites confirmed the true and valid value of the apparitions, and granted celebrating mass and office for the then catholic version of the feast of guadalupe on december 12. these published accounts of the origin of the image already venerated in tepeyac, then increased interest in the identity of juan diego, who was the original recipient of the prime vision. a new catholic basilica church was built to house the image. completed in 1709, it is now known as the old basilica. the image had originally featured a 12-point crown on the virgin\\'s head, but this disappeared in 1887–88. the change was first noticed on february 23, 1888, when the image was removed to a nearby church. eventually a painter confessed on his deathbed that he had been instructed by a clergyman to remove the crown. this may have been motivated by the fact that the gold paint was flaking off of the crown, leaving it looking dilapidated. but according to the historian david brading, \"the decision to remove rather than replace the crown was no doubt inspired by a desire to \\'modernize\\' the image and reinforce its similarity to the nineteenth-century images of the immaculate conception which were exhibited at lourdes and elsewhere... what is rarely mentioned is that the frame which surrounded the canvas was adjusted to leave almost no space above the virgin\\'s head, thereby obscuring the effects of the erasure.\" a different crown was installed to the image. on february 8, 1887, a papal bull from pope leo xiii granted permission a canonical coronation of the image, which occurred on october 12, 1895. since then the virgin of guadalupe has been proclaimed \"queen of mexico\", \"patroness of the americas\", \"empress of latin america\", and \"protectress of unborn children\" . under pope john paul ii the move to beatify juan diego intensified. john paul ii took a special interest in non-european catholics and saints. during his leadership, the congregation for the causes of saints declared juan diego \"venerable\" , and the pope himself announced his beatification on may 6, 1990, during a mass at the basilica of our lady of guadalupe in mexico city, declaring him \"protector and advocate of the indigenous peoples,\" with december 9 established as his feast day. at that time historians revived doubts as to the quality of the evidence regarding juan diego. the writings of bishop zumárraga, into whose hands juan purportedly delivered the miraculous image, did not refer to him or the event. the record of the 1556 ecclesiastical inquiry omitted him, and he was not mentioned in documentation before the mid-17th century. in 1996 the 83-year-old abbot of the basilica of guadalupe, guillermo schulenburg, was forced to resign following an interview published in the catholic magazine ixthus, in which he was quoted as saying that juan diego was \"a symbol, not a reality\", and that his canonization would be the \"recognition of a cult. it is not recognition of the physical, real existence of a person.\" in 1883 joaquín garcía icazbalceta, historian and biographer of zumárraga, in a confidential report on the lady of guadalupe for bishop labastida, had been hesitant to support the story of the vision. he concluded that juan diego had not existed. in 1995, father xavier escalada, a jesuit whose four volume guadalupe encyclopedia had just been published, announced the existence of a sheet of parchment , which bore an illustrated account of the vision and some notations in nahuatl concerning the life and death of juan diego. previously unknown, the document was dated 1548. it bore the signatures of antonio valeriano and bernardino de sahagún, which are considered to verify its contents. the codex was the subject of an appendix to the guadalupe encyclopedia, published in 1997. some scholars remained unconvinced, one describing the discovery of the codex as \"rather like finding a picture of st. paul\\'s vision of christ on the road to damascus, drawn by st. luke and signed by st. peter.\" in the earliest account of the apparition, the nican mopohua, the virgin de guadalupe, later called as if the virgin mary tells juan bernardino, the uncle of juan diego, that the image left on the tilma is to be known by the name \"the perfect virgin, holy mary of guadalupe.\" the virgin of guadalupe is a core element of mexican identity and with the rise of mexican nationalism and indigenist ideologies, there have been numerous efforts to find a pre-hispanic origin in the cult, to the extreme of attempting to find a nahuatl etymology to the name. the first theory to promote a nahuatl origin was that of luis becerra tanco. in his 1675 work felicidad de mexico, becerra tanco said that juan bernardino and juan diego would not have been able to understand the name guadalupe because the \"d\" and \"g\" sounds do not exist in nahuatl. he proposed two nahuatl alternative names that sound similar to \"guadalupe\", tecuatlanopeuh , which he translates as \"she whose origins were in the rocky summit\", and tecuantlaxopeuh , \"she who banishes those who devoured us.\" ondina and justo gonzález suggest that the name is a spanish version of the nahuatl term, coātlaxopeuh , which they interpret as meaning \"the one who crushes the serpent,\" and that it may seem to be referring to the feathered serpent quetzalcoatl. in addition, the virgin mary was portrayed in european art as crushing the serpent of the garden of eden. according to another theory the juxtaposition of guadalupe and a snake may indicate a nexus with the aztec goddess of love and fertility, tonantzin , who was also known by the name coatlícue . this appears to be borne out by the fact that this goddess already had a temple dedicated to her on the very tepeyac hill where juan diego had his vision, the same temple which had recently been destroyed at the behest of the new spanish catholic authorities. in the 16th century the franciscans were suspicious that the followers of guadalupe showed, or was susceptible to, elements of syncretism, i.e. the importation of an object of reverence in one belief system into another . the theory promoting the spanish origin of the name says that: the venerated image of our lady of guadalupe features a full-length representation of a young woman with delicate features and straight, dark hair in a centre parting. she stands facing the viewer\\'s left, with her hands joined in prayer and head slightly inclined down, gazing with heavy-lidded eyes at a spot below and to her right . the figure is dressed from neck to feet in a pink robe and cerulean mantle, one side folded within the arms, emblazoned with eight-pointed stars with two black tassels tied high around her waist, and wearing a neck brooch featuring a colonial-style cross. the robe is spangled with a small gold quatrefoil motif ornamented with vines and flowers, its sleeves reaching to her wrists where the cuffs of a white undergarment appear. the figure stands on an upturned crescent moon, which was allegedly once silver in colour, and is now relatively dark. a feathered cherubic angel with outstretched arms carries the corners of her robe underneath her exposed feet. a sunburst of straight and wavy gold rays are projected behind her and around her and are enclosed within a mandorla. beyond the mandorla to the right and left is an unpainted expanse, white in color with a faint blue tinge. the present image shows the 1791 nitric acid spill on the top right side, unaffecting the subject matter\\'s aureola. the portrait was executed on a natural fibre fabric support constituted by two pieces joined. the join is clearly visible as a seam passing from top to bottom, with the virgin\\'s face and hands and the head of the angel on the left piece, passing through the left wrist of the virgin. the fabric is mounted on a large metal sheet to which it has been glued for some time. the image, currently set in a massive frame protected behind bullet-proof glass, hangs inclined at a slight angle on the wall of the basilica behind the altar. at this point, there is a wide gap between the wall and the sanctuary facilitating closer viewing from moving walkways set on the floor beneath the main level of the basilica, carrying people a short distance in either direction. viewed from the main body of the basilica, the image is located above and to the right of the altar and is retracted at night into a small vault set into the wall. an intricate metal crown designed by the painter salomé pina according to plans devised by rómulo escudero and pérez gallardo, and executed by the parisian goldsmith, edgar morgan, is fixed above the image by a rod, and a massive mexican flag is draped around and below the frame. the nature of the fabric is discussed below. its measurements were taken by josé ignacio bartolache on december 29, 1786, in the presence of josé bernardo de nava, a public notary: height 170 cm , width 105 cm . the original height was 229 cm . neither the fabric nor the image has been analyzed using the full range of resources now available to museum conservators. four technical studies have been conducted so far. of these, the findings of at least three have been published. each study required the permission of the custodians of the tilma in the basilica. however, callahan\\'s study was taken at the initiative of a third party: the custodians did not know in advance what his research would reveal. summary conclusions were : religious imagery of our lady of guadalupe appears in roman catholic parishes, especially those with latin american heritage. in addition, due to the growth of hispanic communities in the united states, religious imagery of our lady of guadalupe has started appearing in some anglican, lutheran, and methodist churches. additionally, our lady of guadalupe is venerated by some mayan orthodox christians in guatemala. the iconography of the virgin is fully catholic: miguel sánchez, the author of the 1648 tract imagen de la virgen maría, described her as the woman of the apocalypse from the new testament\\'s revelation 12:1, \"clothed with the sun, and the moon under her feet, and upon her head a crown of twelve stars.\" she is described as a representation of the immaculate conception. virgil elizondo says the image also had layers of meaning for the indigenous people of mexico who associated her image with their polytheistic deities, which further contributed to her popularity. her blue-green mantle was the color reserved for the divine couple ometecuhtli and omecihuatl; her belt is interpreted as a sign of pregnancy; and a cross-shaped image, symbolizing the cosmos and called nahui-ollin, is inscribed beneath the image\\'s sash. she was called \"mother of maguey,\" the source of the sacred beverage pulque. pulque was also known as \"the milk of the virgin.\" the rays of light surrounding her are seen to also represent maguey spines. juan diego\\'s tilma has become mexico\\'s most popular religious and cultural symbol, and has received widespread ecclesiastical and popular veneration. in the 19th century it became the rallying cry of the spaniards born in america, in what they denominated \\'new spain\\'. they said they considered the apparitions as legitimizing their own indigenous mexican origin. they infused it with an almost messianic sense of mission and identity, thereby also justifying their armed rebellion against spain. nuestra señora de guadalupe became a recognized symbol of catholic mexicans. miguel sánchez, the author in 1648 of the first published account of the vision, identified guadalupe as revelation\\'s woman of the apocalypse, and said: ... this new world has been won and conquered by the hand of the virgin mary ... prepared, disposed, and contrived her exquisite likeness in this, her mexican land, which was conquered for such a glorious purpose, won that there should appear so mexican an image. throughout the mexican national history of the 19th and 20th centuries, the guadalupan name and image have been unifying national symbols; the first president of mexico changed his name from josé miguel ramón adaucto fernández y félix to guadalupe victoria in honor of the virgin of guadalupe. father miguel hidalgo, in the mexican war of independence , and emiliano zapata, in the mexican revolution , led their respective armed forces with guadalupan flags emblazoned with an image of our lady of guadalupe. in 1999, the church officially proclaimed her the patroness of the americas, the empress of latin america, and the protectress of unborn children. in 1810, miguel hidalgo y costilla initiated the bid for mexican independence with his grito de dolores, with the cry \"death to the spaniards and long live the virgin of guadalupe!\" when hidalgo\\'s mestizo-indigenous army attacked guanajuato and valladolid, they placed \"the image of the virgin of guadalupe, which was the insignia of their enterprise, on sticks or on reeds painted different colors\" and \"they all wore a print of the virgin on their hats.\" after hidalgo\\'s death, leadership of the revolution fell to a mestizo priest named josé maría morelos, who led insurgent troops in the mexican south. morelos adopted the virgin as the seal of his congress of chilpancingo, inscribing her feast day into the chilpancingo constitution and declaring that guadalupe was the power behind his victories: new spain puts less faith in its own efforts than in the power of god and the intercession of its blessed mother, who appeared within the precincts of tepeyac as the miraculous image of guadalupe that had come to comfort us, defend us, visibly be our protection. simón bolívar noticed the guadalupan theme in these uprisings, and shortly before morelos\\'s execution in 1815 wrote: \"the leaders of the independence struggle have put fanaticism to use by proclaiming the famous virgin of guadalupe as the queen of the patriots, praying to her in times of hardship and displaying her on their flags... the veneration for this image in mexico far exceeds the greatest reverence that the shrewdest prophet might inspire.\" in 1912, emiliano zapata\\'s peasant army rose out of the south against the government of francisco madero. though zapata\\'s rebel forces were primarily interested in land reform—\"tierra y libertad\" was the slogan of the uprising—when his peasant troops penetrated mexico city, they carried guadalupan banners. more recently, the contemporary zapatista national liberation army named their \"mobile city\" in honor of the virgin: it is called guadalupe tepeyac. ezln spokesperson subcomandante marcos wrote a humorous letter in 1995 describing the ezln bickering over what to do with a guadalupe statue they had received as a gift. harringon argues that: the aztecs... had an elaborate, coherent symbolic system for making sense of their lives. when this was destroyed by the spaniards, something new was needed to fill the void and make sense of new spain ... the image of guadalupe served that purpose. hernán cortés, the conquistador who overthrew the aztec empire in 1521, was a native of extremadura, home to our lady of guadalupe. by the 16th century, the extremadura guadalupe, a statue of the virgin said to be carved by luke the evangelist, was already a national icon. it was found at the beginning of the 14th century, when the virgin appeared to a humble shepherd and ordered him to dig at the site of the apparition. the recovered virgin then miraculously helped to expel the moors from spain, and her small shrine evolved into the great guadalupe monastery. according to the traditional account, the name of guadalupe, as the name was heard or understood by spaniards, was chosen by the virgin herself when she appeared on the hill outside mexico city in 1531, ten years after the conquest. guadalupe continues to be a mixture of the cultures which blended to form mexico, both racially and religiously, \"the first mestiza\", or \"the first mexican\", \"bringing together people of distinct cultural heritages, while at the same time affirming their distinctness.\" as jacques lafaye wrote in quetzalcoatl and guadalupe, \"as the christians built their first churches with the rubble and the columns of the ancient pagan temples, so they often borrowed pagan customs for their own cult purposes.\" the author judy king asserts that guadalupe is a \"common denominator\" uniting mexicans. writing that mexico is composed of a vast patchwork of differences—linguistic, ethnic, and class-based—king says \"the virgin of guadalupe is the rubber band that binds this disparate nation into a whole.\" the mexican novelist, carlos fuentes, once said that \"you cannot truly be considered a mexican unless you believe in the virgin of guadalupe.\" nobel literature laureate octavio paz wrote in 1974 that \"the mexican people, after more than two centuries of experiments and defeats, have faith only in the virgin of guadalupe and the national lottery.\" catholic sources attest that the original image has many miraculous and supernatural properties, including that the tilma has maintained its structural integrity for approximately 500 years despite exposure to soot, candle wax, incense, constant manual veneration by devotees, the historical fact that the image was displayed without any protective glass for its first 115 years, while replicas normally endure for only circa 15 years before degrading, and that it repaired itself with no external assistance after a 1791 accident in which nitric acid was spilled on its top right, causing considerable damage but leaving the aureola of the virgin intact. furthermore, on november 14, 1921, a bomb hidden within a basket of flowers and left under the tilma by an anti-catholic secularist exploded and damaged the altar of the basilica that houses the original image, but the tilma was unharmed. a brass standing crucifix, bent by the explosion, is now preserved at the shrine\\'s museum and is believed to be miraculous by devotees. in 1929 and 1951 photographers said they found a figure reflected in the virgin\\'s eyes; upon inspection they said that the reflection was tripled in what is called the purkinje effect, commonly found in human eyes. an ophthalmologist, dr. jose aste tonsmann, later enlarged an image of the virgin\\'s eyes by 2500x and said he found not only the aforementioned single figure, but images of all the witnesses present when the tilma was first revealed before zumárraga in 1531, plus a small family group of mother, father, and a group of children, in the center of the virgin\\'s eyes, fourteen people in all . in 1936 biochemist richard kuhn reportedly analyzed a sample of the fabric and announced that the pigments used were from no known source, whether animal, mineral, or vegetable. according to the wonder of guadalupe by francis johnston, this was requested by professor hahn and professor marcelino junco, retired professor of organic chemistry at the national university of mexico. this has been taken as further evidence of the tilma\\'s miraculous nature. in late 2019, investigators from the higher institute of guadalupano studies concluded that there was no evidence kuhn ever investigated the lady of guadalupe or made the statement attributed to him. dr. philip serna callahan, who photographed the icon under infrared light, declared from his photographs that portions of the face, hands, robe, and mantle had been painted in one step, with no sketches or corrections and no visible brush strokes. the shrine of the virgin of guadalupe is the most visited catholic pilgrimage destination in the world. over the friday and saturday of december 11 to 12, 2009, a record number of 6.1 million pilgrims visited the basilica of guadalupe in mexico city to commemorate the anniversary of the apparition. the virgin of guadalupe is considered the patroness of mexico and the continental americas; she is also venerated by native americans, on the account of the devotion calling for the conversion of the americas. replicas of the tilma can be found in thousands of churches throughout the world, and numerous parishes bear her name. due to mary\\'s appearance as a pregnant mother and her claims as mother of all in the apparition, the blessed virgin mary, under this title is popularly invoked as patroness of the unborn and a common image for the pro-life movement. due to her association as a crusader of social justice, the image of our lady of guadalupe has been utilized as a symbol across regions to advance political movements and mobilize the masses. for instance, the image has most notably been utilized in mexico’s independence movement in the early 19th century, the united farm worker movement in the u.s. in the 20th century and in contemporary political causes like immigration. in mexico’s independence, the image of our lady of guadalupe became associated with the movement after father miguel hidalgo rallied and united insurgents under her banner. in fact, the first president of the mexican republic, josé miguel ramón adaucto fernández y félix, who was heavily involved in mexico’s independence war, changed his name as to guadalupe victoria as a sign of devotion. in the united farm workers union , its leader, cesar chavez, was a devout catholic who drew on his religious beliefs to demand for better wages and labor practices for farmersworkers in the u.s. he incorporated his religious beliefs in the movement by holding masses in the picket lines and prayers before meetings, and leading a pilgrammge from delano to sacramento in 1966 during lent. similarly to in mexico’s independence movement, the famous pilgrimage in 1966 that drew national attention to the cause was lead under a banner with the image of our lady of guadalupe. the image of our lady of guadalupe is also present in the contemporary political discussion on immigration. artists like ester hernandez and consuelo jimenez underwood embed or reimagine her image on artworks that comment on immigration politics. for instance, ester hernandez’s screen print titled wanted and consuelo jimenez underwood’s sacred jump and vigen de los caminos . one notable reference in literature to the image and its alleged predecessor, the aztec earth goddess tonantzin, is in sandra cisneros\\' short story \"little miracles, kept promises\", from her collection woman hollering creek and other stories . cisneros\\' story is constructed out of brief notes that people give our lady of guadalupe in thanks for favors received, which in cisneros\\' hands becomes a portrait of an extended chicano community living throughout texas. \"little miracles\" ends with an extended narrative of a feminist artist, rosario \"chayo\" de león, who at first didn\\'t allow images of la virgen de guadalupe in her home because she associated her with subservience and suffering, particularly by mexican women. but when she learns that guadalupe\\'s shrine is built on the same hill in mexico city that had a shrine to tonantzin, the aztec earth goddess and serpent destroyer, chayo comes to understand that there\\'s a deep, syncretic connection between the aztec goddess and the mexican saint; together they inspire chayo\\'s new artistic creativity, inner strength, and independence. in chayo\\'s words, \"i finally understood who you are. no longer mary the mild, but our mother tonantzin. your church at tepeyac built on the site of her temple\" . the image and its alleged apparition was investigated several times, including in the 2013 documentary the blood & the rose, directed by tim watkins. documentarians have been portraying the message of our lady of guadalupe since the 1990s, in an attempt to bring the message of the apparition to the north american audience. drawing on the significance of our lady of guadalupe in chicanx culture, many chicanx artists revere her image and visually reimagine the religious figure within a feminist and contemporary context. more than just a religious symbol, chicanx artists view our lady of guadalupe as an empowering feminist icon and a proclamation of indigenous pride. however, these re-envisioned artworks have not been without controversy, as many artists have faced intense backlash from conservative catholics or traditionalist groups who view these artworks as \"disrespectful and irreverent.\" one of the most famous controversies was sparked by alma lópez\\'s our lady digital collage, which later led to a book titled \"our lady of controversy: alma lópez\\'s irreverent apparition.\" despite this, chicanx artists such as yolanda lópez, alma lópez, margarita \\'mita\\' cuaron, ester hernández, and consuelo jimenez underwood, among others, have used our lady of guadalupe\\'s portrait to explore themes of repression, feminine strength, and to uplift women. '"
            ],
            "application/vnd.google.colaboratory.intrinsic+json": {
              "type": "string"
            }
          },
          "metadata": {},
          "execution_count": 7
        }
      ],
      "source": [
        "# Demos un vistazo\n",
        "text"
      ]
    },
    {
      "cell_type": "code",
      "execution_count": 8,
      "metadata": {
        "id": "PA5F0s4UsMpf",
        "colab": {
          "base_uri": "https://localhost:8080/"
        },
        "outputId": "663a0555-5a08-461f-9b57-584d2ffa1923"
      },
      "outputs": [
        {
          "output_type": "stream",
          "name": "stdout",
          "text": [
            "Cantidad de caracteres en el texto: 39939\n"
          ]
        }
      ],
      "source": [
        "print(\"Cantidad de caracteres en el texto:\", len(text))"
      ]
    },
    {
      "cell_type": "markdown",
      "metadata": {
        "id": "DKNcDGcisajf"
      },
      "source": [
        "### 3 - Dividir el texto en sentencias y en palabras"
      ]
    },
    {
      "cell_type": "code",
      "execution_count": 9,
      "metadata": {
        "id": "reXBOFQ7sdlB"
      },
      "outputs": [],
      "source": [
        "corpus = nltk.sent_tokenize(text) # divide en oraciones\n",
        "words = nltk.word_tokenize(text) # divide en términos"
      ]
    },
    {
      "cell_type": "code",
      "execution_count": 10,
      "metadata": {
        "id": "J5GloV9fsi6o",
        "colab": {
          "base_uri": "https://localhost:8080/"
        },
        "outputId": "03f7e1df-74bc-499d-bdaf-150dfc094b1e"
      },
      "outputs": [
        {
          "output_type": "execute_result",
          "data": {
            "text/plain": [
              "['coordinates: 19°29′04″n 99°07′02″w\\ufeff / \\ufeff19.48444°n 99.11722°w\\ufeff / 19.48444; -99.11722 our lady of guadalupe , also known as the virgin of guadalupe , is a catholic title of mary, mother of jesus associated with a series of five marian apparitions, which are believed to have occurred in december 1531, and a venerated image on a cloak enshrined within the basilica of our lady of guadalupe in mexico city.',\n",
              " \"the basilica is the most-visited catholic shrine in the world, and the world's third most-visited sacred site.\",\n",
              " 'pope leo xiii granted the image a decree of canonical coronation on 8 february 1887 and it was pontifically crowned on 12 october 1895. according to the nican mopohua, included in the 17th-century huei tlamahuiçoltica, written in nahuatl, the virgin mary appeared four times to juan diego, a chichimec peasant, and once to his uncle, juan bernardino.',\n",
              " 'the first apparition occurred on the morning of saturday, 9 december 1531 gregorian calendar in present use .',\n",
              " 'juan diego experienced a vision of a young woman at a place called the hill of tepeyac, which later became part of villa de guadalupe, in a suburb of mexico city.',\n",
              " 'according to the accounts, the woman, speaking to juan diego in nahuatl, his first language and the language of the former aztec empire, identified herself as the mary, \"mother of the very true deity\".',\n",
              " 'she was said to have asked for a church to be erected at that site in her honor.',\n",
              " 'based on her words, juan diego then sought the archbishop of mexico city, juan de zumárraga, to tell him what had happened.',\n",
              " 'not unexpectedly, the archbishop did not believe diego.',\n",
              " 'later the same day, juan diego saw the young woman again , and she asked him to continue insisting.']"
            ]
          },
          "metadata": {},
          "execution_count": 10
        }
      ],
      "source": [
        "# Demos un vistazo\n",
        "corpus[:10]"
      ]
    },
    {
      "cell_type": "code",
      "execution_count": 11,
      "metadata": {
        "id": "hmQ7nkvvsi0i",
        "colab": {
          "base_uri": "https://localhost:8080/"
        },
        "outputId": "9eafb19b-7894-48cd-fd9c-069824d5cd55"
      },
      "outputs": [
        {
          "output_type": "execute_result",
          "data": {
            "text/plain": [
              "['coordinates',\n",
              " ':',\n",
              " '19°29′04″n',\n",
              " '99°07′02″w\\ufeff',\n",
              " '/',\n",
              " '\\ufeff19.48444°n',\n",
              " '99.11722°w\\ufeff',\n",
              " '/',\n",
              " '19.48444',\n",
              " ';',\n",
              " '-99.11722',\n",
              " 'our',\n",
              " 'lady',\n",
              " 'of',\n",
              " 'guadalupe',\n",
              " ',',\n",
              " 'also',\n",
              " 'known',\n",
              " 'as',\n",
              " 'the']"
            ]
          },
          "metadata": {},
          "execution_count": 11
        }
      ],
      "source": [
        "# Demos un vistazo\n",
        "words[:20]"
      ]
    },
    {
      "cell_type": "code",
      "execution_count": 12,
      "metadata": {
        "id": "YXPWNkKfEvDZ",
        "colab": {
          "base_uri": "https://localhost:8080/"
        },
        "outputId": "ce1182d5-964e-4bde-8b03-941c34b74b18"
      },
      "outputs": [
        {
          "output_type": "stream",
          "name": "stdout",
          "text": [
            "Vocabulario: 7439\n"
          ]
        }
      ],
      "source": [
        "print(\"Vocabulario:\", len(words))"
      ]
    },
    {
      "cell_type": "markdown",
      "metadata": {
        "id": "NlYKyb3OtDse"
      },
      "source": [
        "### 4 - Funciones de ayuda para limpiar y procesar el input del usuario\n",
        "- Lematizar los tokens de la oración\n",
        "- Quitar símbolos de puntuación"
      ]
    },
    {
      "cell_type": "code",
      "execution_count": 13,
      "metadata": {
        "id": "afPok8pstPOx"
      },
      "outputs": [],
      "source": [
        "from nltk.stem import WordNetLemmatizer\n",
        "lemmatizer = WordNetLemmatizer()\n",
        "\n",
        "def perform_lemmatization(tokens):\n",
        "    return [lemmatizer.lemmatize(token) for token in tokens]\n",
        "\n",
        "# ord() nos da el código Unicode para un caracter dado\n",
        "punctuation_removal = dict((ord(punctuation), None) for punctuation in string.punctuation)\n",
        "\n",
        "def get_processed_text(document):\n",
        "    # 1 - reduce el texto a mínuscula (string.lower())\n",
        "    # 2 - quitar los simbolos de puntuacion (string.translate())\n",
        "    # 3 - realiza la tokenización (nltk.word_tokenize)\n",
        "    # 4 - realiza la lematización (nuestra función perform_lemmatization)\n",
        "    return perform_lemmatization(nltk.word_tokenize(document.lower().translate(punctuation_removal)))"
      ]
    },
    {
      "cell_type": "markdown",
      "metadata": {
        "id": "Jl8r6d9ZuyR9"
      },
      "source": [
        "### 5 - Utilizar vectores TF-IDF y la similitud coseno construido con el corpus del artículo de wikipedia"
      ]
    },
    {
      "cell_type": "code",
      "execution_count": 14,
      "metadata": {
        "id": "IRYFHcBfk2Gt"
      },
      "outputs": [],
      "source": [
        "from sklearn.feature_extraction.text import TfidfVectorizer\n",
        "from sklearn.metrics.pairwise import cosine_similarity\n",
        "\n",
        "def generate_response(user_input, corpus):\n",
        "    response = ''\n",
        "    # Sumar al corpus la pregunta del usuario para calcular\n",
        "    # su cercania con otros documentos/sentencias\n",
        "    # la entrada del usuario se usa para tokenizar y vectorizar\n",
        "    corpus.append(user_input)\n",
        "\n",
        "    # Crear un vectorizar TFIDF que quite las \"stop words\" del ingles y utilice\n",
        "    # nuestra funcion para obtener los tokens lematizados \"get_processed_text\"\n",
        "    word_vectorizer = TfidfVectorizer(tokenizer=get_processed_text, stop_words='english')\n",
        "\n",
        "    # Crear los vectores a partir del corpus\n",
        "    all_word_vectors = word_vectorizer.fit_transform(corpus)\n",
        "\n",
        "    # Calcular la similitud coseno entre todas los documentos excepto el agregado (el útlimo \"-1\")\n",
        "    # NOTA: con los word embedings veremos más en detalle esta matriz de similitud\n",
        "    similar_vector_values = cosine_similarity(all_word_vectors[-1], all_word_vectors)\n",
        "\n",
        "    # Obtener el índice del vector más cercano a nuestra oración\n",
        "    # --> descartando la similitud contra nuestor vector propio\n",
        "    similar_sentence_number = similar_vector_values.argsort()[0][-2]\n",
        "    matched_vector = similar_vector_values.flatten()\n",
        "    matched_vector.sort()\n",
        "    vector_matched = matched_vector[-2]\n",
        "\n",
        "    if vector_matched == 0: # si la similaridad coseno fue nula (ningún término en común)\n",
        "        response = \"I am sorry, I could not understand you\"\n",
        "    else:\n",
        "        response = corpus[similar_sentence_number] # obtener el documento del corpus más similar\n",
        "    \n",
        "    corpus.remove(user_input)\n",
        "    return response"
      ]
    },
    {
      "cell_type": "markdown",
      "metadata": {
        "id": "OK-BuXPBybSp"
      },
      "source": [
        "### 6 - Ensayar el sistema\n",
        "El sistema intentará encontrar la parte del artículo que más se relaciona con nuestro texto de entrada. Sugerencias a ensayar:\n",
        "- Juan Diego\n",
        "- Mexico\n",
        "- Jesus\n",
        "- Virgin\n",
        "- Guadalupe\n",
        "- eyes"
      ]
    },
    {
      "cell_type": "code",
      "execution_count": 15,
      "metadata": {
        "id": "Z2X4j8XyydSb",
        "colab": {
          "base_uri": "https://localhost:8080/"
        },
        "outputId": "87a8a3bd-2788-4d70-865e-b18969051146"
      },
      "outputs": [
        {
          "output_type": "stream",
          "name": "stdout",
          "text": [
            "\u001b[2K     \u001b[90m━━━━━━━━━━━━━━━━━━━━━━━━━━━━━━━━━━━━━━━━\u001b[0m \u001b[32m17.3/17.3 MB\u001b[0m \u001b[31m44.1 MB/s\u001b[0m eta \u001b[36m0:00:00\u001b[0m\n",
            "\u001b[2K     \u001b[90m━━━━━━━━━━━━━━━━━━━━━━━━━━━━━━━━━━━━━━━━\u001b[0m \u001b[32m1.0/1.0 MB\u001b[0m \u001b[31m69.5 MB/s\u001b[0m eta \u001b[36m0:00:00\u001b[0m\n",
            "\u001b[?25h  Preparing metadata (setup.py) ... \u001b[?25l\u001b[?25hdone\n",
            "\u001b[2K     \u001b[90m━━━━━━━━━━━━━━━━━━━━━━━━━━━━━━━━━━━━━━\u001b[0m \u001b[32m129.9/129.9 kB\u001b[0m \u001b[31m14.2 MB/s\u001b[0m eta \u001b[36m0:00:00\u001b[0m\n",
            "\u001b[2K     \u001b[90m━━━━━━━━━━━━━━━━━━━━━━━━━━━━━━━━━━━━━━━━\u001b[0m \u001b[32m75.3/75.3 kB\u001b[0m \u001b[31m9.4 MB/s\u001b[0m eta \u001b[36m0:00:00\u001b[0m\n",
            "\u001b[2K     \u001b[90m━━━━━━━━━━━━━━━━━━━━━━━━━━━━━━━━━━━━━━\u001b[0m \u001b[32m135.6/135.6 kB\u001b[0m \u001b[31m16.1 MB/s\u001b[0m eta \u001b[36m0:00:00\u001b[0m\n",
            "\u001b[2K     \u001b[90m━━━━━━━━━━━━━━━━━━━━━━━━━━━━━━━━━━━━━━━━\u001b[0m \u001b[32m45.7/45.7 kB\u001b[0m \u001b[31m5.3 MB/s\u001b[0m eta \u001b[36m0:00:00\u001b[0m\n",
            "\u001b[2K     \u001b[90m━━━━━━━━━━━━━━━━━━━━━━━━━━━━━━━━━━━━━━━━\u001b[0m \u001b[32m58.3/58.3 kB\u001b[0m \u001b[31m7.5 MB/s\u001b[0m eta \u001b[36m0:00:00\u001b[0m\n",
            "\u001b[2K     \u001b[90m━━━━━━━━━━━━━━━━━━━━━━━━━━━━━━━━━━━━━━━━\u001b[0m \u001b[32m50.5/50.5 kB\u001b[0m \u001b[31m5.3 MB/s\u001b[0m eta \u001b[36m0:00:00\u001b[0m\n",
            "\u001b[2K     \u001b[90m━━━━━━━━━━━━━━━━━━━━━━━━━━━━━━━━━━━━━━\u001b[0m \u001b[32m286.7/286.7 kB\u001b[0m \u001b[31m26.3 MB/s\u001b[0m eta \u001b[36m0:00:00\u001b[0m\n",
            "\u001b[2K     \u001b[90m━━━━━━━━━━━━━━━━━━━━━━━━━━━━━━━━━━━━━━\u001b[0m \u001b[32m224.5/224.5 kB\u001b[0m \u001b[31m24.4 MB/s\u001b[0m eta \u001b[36m0:00:00\u001b[0m\n",
            "\u001b[2K     \u001b[90m━━━━━━━━━━━━━━━━━━━━━━━━━━━━━━━━━━━━━━━━\u001b[0m \u001b[32m57.0/57.0 kB\u001b[0m \u001b[31m6.8 MB/s\u001b[0m eta \u001b[36m0:00:00\u001b[0m\n",
            "\u001b[2K     \u001b[90m━━━━━━━━━━━━━━━━━━━━━━━━━━━━━━━━━━━━━━\u001b[0m \u001b[32m114.5/114.5 kB\u001b[0m \u001b[31m11.7 MB/s\u001b[0m eta \u001b[36m0:00:00\u001b[0m\n",
            "\u001b[2K     \u001b[90m━━━━━━━━━━━━━━━━━━━━━━━━━━━━━━━━━━━━━━\u001b[0m \u001b[32m149.6/149.6 kB\u001b[0m \u001b[31m17.1 MB/s\u001b[0m eta \u001b[36m0:00:00\u001b[0m\n",
            "\u001b[2K     \u001b[90m━━━━━━━━━━━━━━━━━━━━━━━━━━━━━━━━━━━━━━\u001b[0m \u001b[32m268.8/268.8 kB\u001b[0m \u001b[31m23.6 MB/s\u001b[0m eta \u001b[36m0:00:00\u001b[0m\n",
            "\u001b[2K     \u001b[90m━━━━━━━━━━━━━━━━━━━━━━━━━━━━━━━━━━━━━━━━\u001b[0m \u001b[32m66.9/66.9 kB\u001b[0m \u001b[31m7.7 MB/s\u001b[0m eta \u001b[36m0:00:00\u001b[0m\n",
            "\u001b[2K     \u001b[90m━━━━━━━━━━━━━━━━━━━━━━━━━━━━━━━━━━━━━━━━\u001b[0m \u001b[32m70.6/70.6 kB\u001b[0m \u001b[31m8.4 MB/s\u001b[0m eta \u001b[36m0:00:00\u001b[0m\n",
            "\u001b[2K     \u001b[90m━━━━━━━━━━━━━━━━━━━━━━━━━━━━━━━━━━━━━━━━\u001b[0m \u001b[32m58.3/58.3 kB\u001b[0m \u001b[31m7.5 MB/s\u001b[0m eta \u001b[36m0:00:00\u001b[0m\n",
            "\u001b[?25h  Building wheel for ffmpy (setup.py) ... \u001b[?25l\u001b[?25hdone\n"
          ]
        }
      ],
      "source": [
        "# Se utilizará gradio para ensayar el bot\n",
        "# Herramienta poderosa para crear interfaces rápidas para ensayar modelos\n",
        "# https://gradio.app/\n",
        "import sys\n",
        "!{sys.executable} -m pip install gradio --quiet"
      ]
    },
    {
      "cell_type": "code",
      "execution_count": 16,
      "metadata": {
        "id": "SZv5MiVzynG1",
        "colab": {
          "base_uri": "https://localhost:8080/",
          "height": 931
        },
        "outputId": "8277f1b7-5a2d-4429-8bb8-78506f130cb3"
      },
      "outputs": [
        {
          "output_type": "stream",
          "name": "stderr",
          "text": [
            "/usr/local/lib/python3.10/dist-packages/gradio/deprecation.py:40: UserWarning: `layout` parameter is deprecated, and it has no effect\n",
            "  warnings.warn(value)\n"
          ]
        },
        {
          "output_type": "stream",
          "name": "stdout",
          "text": [
            "Colab notebook detected. This cell will run indefinitely so that you can see errors and logs. To turn off, set debug=False in launch().\n",
            "Note: opening Chrome Inspector may crash demo inside Colab notebooks.\n",
            "\n",
            "To create a public link, set `share=True` in `launch()`.\n"
          ]
        },
        {
          "output_type": "display_data",
          "data": {
            "text/plain": [
              "<IPython.core.display.Javascript object>"
            ],
            "application/javascript": [
              "(async (port, path, width, height, cache, element) => {\n",
              "                        if (!google.colab.kernel.accessAllowed && !cache) {\n",
              "                            return;\n",
              "                        }\n",
              "                        element.appendChild(document.createTextNode(''));\n",
              "                        const url = await google.colab.kernel.proxyPort(port, {cache});\n",
              "\n",
              "                        const external_link = document.createElement('div');\n",
              "                        external_link.innerHTML = `\n",
              "                            <div style=\"font-family: monospace; margin-bottom: 0.5rem\">\n",
              "                                Running on <a href=${new URL(path, url).toString()} target=\"_blank\">\n",
              "                                    https://localhost:${port}${path}\n",
              "                                </a>\n",
              "                            </div>\n",
              "                        `;\n",
              "                        element.appendChild(external_link);\n",
              "\n",
              "                        const iframe = document.createElement('iframe');\n",
              "                        iframe.src = new URL(path, url).toString();\n",
              "                        iframe.height = height;\n",
              "                        iframe.allow = \"autoplay; camera; microphone; clipboard-read; clipboard-write;\"\n",
              "                        iframe.width = width;\n",
              "                        iframe.style.border = 0;\n",
              "                        element.appendChild(iframe);\n",
              "                    })(7860, \"/\", \"100%\", 500, false, window.element)"
            ]
          },
          "metadata": {}
        },
        {
          "output_type": "stream",
          "name": "stdout",
          "text": [
            "Q: Guadalupe\n"
          ]
        },
        {
          "output_type": "stream",
          "name": "stderr",
          "text": [
            "/usr/local/lib/python3.10/dist-packages/sklearn/feature_extraction/text.py:528: UserWarning: The parameter 'token_pattern' will not be used since 'tokenizer' is not None'\n",
            "  warnings.warn(\n",
            "/usr/local/lib/python3.10/dist-packages/sklearn/feature_extraction/text.py:409: UserWarning: Your stop_words may be inconsistent with your preprocessing. Tokenizing the stop words generated tokens ['ha', 'le', 'u', 'wa'] not in stop_words.\n",
            "  warnings.warn(\n"
          ]
        },
        {
          "output_type": "stream",
          "name": "stdout",
          "text": [
            "A: coordinates: 19°29′04″n 99°07′02″w﻿ / ﻿19.48444°n 99.11722°w﻿ / 19.48444; -99.11722 our lady of guadalupe , also known as the virgin of guadalupe , is a catholic title of mary, mother of jesus associated with a series of five marian apparitions, which are believed to have occurred in december 1531, and a venerated image on a cloak enshrined within the basilica of our lady of guadalupe in mexico city.\n",
            "Q: Juan Diego\n",
            "A: he concluded that juan diego had not existed.\n",
            "Q: Juan Diego\n",
            "A: he concluded that juan diego had not existed.\n",
            "Q: Juan\n",
            "A: by monday, december 11, however, juan diego's uncle, juan bernardino, became ill, which obligated juan diego to attend to him.\n",
            "Q: Eyes\n",
            "A: in 1929 and 1951 photographers said they found a figure reflected in the virgin's eyes; upon inspection they said that the reflection was tripled in what is called the purkinje effect, commonly found in human eyes.\n",
            "Keyboard interruption in main thread... closing server.\n"
          ]
        },
        {
          "output_type": "execute_result",
          "data": {
            "text/plain": []
          },
          "metadata": {},
          "execution_count": 16
        }
      ],
      "source": [
        "import gradio as gr\n",
        "\n",
        "def bot_response(human_text):\n",
        "    print(\"Q:\", human_text)    \n",
        "    resp = generate_response(human_text.lower(), corpus)\n",
        "    print(\"A:\", resp)\n",
        "    return resp\n",
        "\n",
        "iface = gr.Interface(\n",
        "    fn=bot_response,\n",
        "    inputs=[\"textbox\"],\n",
        "    outputs=\"text\",\n",
        "    layout=\"vertical\")\n",
        "\n",
        "iface.launch(debug=True)"
      ]
    },
    {
      "cell_type": "markdown",
      "metadata": {
        "id": "U2zStMSR0AxX"
      },
      "source": [
        "### Conclusiones"
      ]
    },
    {
      "cell_type": "markdown",
      "metadata": {
        "id": "vB5_iZF50AxX"
      },
      "source": [
        "- El bot funciona como una especie de buscador, retornando el texto más \"parecido\" que encuentra en el corpus\n",
        "- Lo que encuentra como más \"parecido\" no necesariamente es lo más relevante en relación a la pregunta o busqueda\n",
        "- Si la palabra no coincide exactamente no comprende lo que preguntamos"
      ]
    }
  ],
  "metadata": {
    "colab": {
      "provenance": []
    },
    "kernelspec": {
      "display_name": "Python 3",
      "language": "python",
      "name": "python3"
    },
    "language_info": {
      "codemirror_mode": {
        "name": "ipython",
        "version": 3
      },
      "file_extension": ".py",
      "mimetype": "text/x-python",
      "name": "python",
      "nbconvert_exporter": "python",
      "pygments_lexer": "ipython3",
      "version": "3.10.4"
    }
  },
  "nbformat": 4,
  "nbformat_minor": 0
}
