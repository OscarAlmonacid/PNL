{
  "cells": [
    {
      "cell_type": "markdown",
      "metadata": {
        "id": "g3yeJGnCYxuF"
      },
      "source": [
        "<img src=\"https://github.com/hernancontigiani/ceia_memorias_especializacion/raw/master/Figures/logoFIUBA.jpg\" width=\"500\" align=\"center\">\n",
        "\n",
        "\n",
        "# Procesamiento de lenguaje natural\n",
        "## Predicción de próxima palabra"
      ]
    },
    {
      "cell_type": "markdown",
      "metadata": {
        "id": "Iv5PEwGzZA9-"
      },
      "source": [
        "### Objetivo\n",
        "El objetivo es utilizar documentos / corpus para crear embeddings de palabras basado en ese contexto utilizando la layer Embedding de Keras. Se utilizará esos embeddings junto con layers LSTM para predeccir la próxima posible palabra."
      ]
    },
    {
      "cell_type": "code",
      "execution_count": 1,
      "metadata": {
        "id": "Y-QdFbHZYj7C"
      },
      "outputs": [],
      "source": [
        "import random\n",
        "import io\n",
        "import pickle\n",
        "\n",
        "import numpy as np\n",
        "import pandas as pd\n",
        "\n",
        "from tensorflow import keras\n",
        "from tensorflow.keras import layers\n",
        "from keras.utils.np_utils import to_categorical\n",
        "from keras.models import Sequential\n",
        "from keras.layers import Dense, LSTM, Embedding, Dropout"
      ]
    },
    {
      "cell_type": "markdown",
      "metadata": {
        "id": "xTvXlEKQZdqx"
      },
      "source": [
        "### Datos\n",
        "Utilizaremos como dataset canciones de bandas de habla inglés."
      ]
    },
    {
      "cell_type": "code",
      "execution_count": 2,
      "metadata": {
        "id": "IkdPfrQJZdB5",
        "colab": {
          "base_uri": "https://localhost:8080/"
        },
        "outputId": "9bcf95fa-88a4-4840-8072-a41c6ea6dd1d"
      },
      "outputs": [
        {
          "output_type": "stream",
          "name": "stdout",
          "text": [
            "--2023-05-03 01:42:00--  http://songs_dataset.zip/\n",
            "Resolving songs_dataset.zip (songs_dataset.zip)... failed: Name or service not known.\n",
            "wget: unable to resolve host address ‘songs_dataset.zip’\n",
            "--2023-05-03 01:42:01--  https://github.com/FIUBA-Posgrado-Inteligencia-Artificial/procesamiento_lenguaje_natural/raw/main/datasets/songs_dataset.zip\n",
            "Resolving github.com (github.com)... 20.205.243.166\n",
            "Connecting to github.com (github.com)|20.205.243.166|:443... connected.\n",
            "HTTP request sent, awaiting response... 302 Found\n",
            "Location: https://raw.githubusercontent.com/FIUBA-Posgrado-Inteligencia-Artificial/procesamiento_lenguaje_natural/main/datasets/songs_dataset.zip [following]\n",
            "--2023-05-03 01:42:01--  https://raw.githubusercontent.com/FIUBA-Posgrado-Inteligencia-Artificial/procesamiento_lenguaje_natural/main/datasets/songs_dataset.zip\n",
            "Resolving raw.githubusercontent.com (raw.githubusercontent.com)... 185.199.108.133, 185.199.109.133, 185.199.111.133, ...\n",
            "Connecting to raw.githubusercontent.com (raw.githubusercontent.com)|185.199.108.133|:443... connected.\n",
            "HTTP request sent, awaiting response... 200 OK\n",
            "Length: 2075036 (2.0M) [application/zip]\n",
            "Saving to: ‘songs_dataset.zip’\n",
            "\n",
            "songs_dataset.zip   100%[===================>]   1.98M  --.-KB/s    in 0.009s  \n",
            "\n",
            "2023-05-03 01:42:01 (222 MB/s) - ‘songs_dataset.zip’ saved [2075036/2075036]\n",
            "\n",
            "FINISHED --2023-05-03 01:42:01--\n",
            "Total wall clock time: 0.9s\n",
            "Downloaded: 1 files, 2.0M in 0.009s (222 MB/s)\n"
          ]
        }
      ],
      "source": [
        "# Descargar la carpeta de dataset\n",
        "import os\n",
        "import platform\n",
        "if os.access('./songs_dataset', os.F_OK) is False:\n",
        "    if os.access('songs_dataset.zip', os.F_OK) is False:\n",
        "        if platform.system() == 'Windows':\n",
        "            !curl https://raw.githubusercontent.com/FIUBA-Posgrado-Inteligencia-Artificial/procesamiento_lenguaje_natural/main/datasets/songs_dataset.zip -o songs_dataset.zip\n",
        "        else:\n",
        "            !wget songs_dataset.zip https://github.com/FIUBA-Posgrado-Inteligencia-Artificial/procesamiento_lenguaje_natural/raw/main/datasets/songs_dataset.zip\n",
        "    !unzip -q songs_dataset.zip   \n",
        "else:\n",
        "    print(\"El dataset ya se encuentra descargado\")"
      ]
    },
    {
      "cell_type": "code",
      "execution_count": 3,
      "metadata": {
        "id": "6j-3nQ4lZjfb",
        "colab": {
          "base_uri": "https://localhost:8080/"
        },
        "outputId": "47019c8c-6123-4ef9-d79b-7f181e370684"
      },
      "outputs": [
        {
          "output_type": "execute_result",
          "data": {
            "text/plain": [
              "['dickinson.txt',\n",
              " 'janisjoplin.txt',\n",
              " 'dolly-parton.txt',\n",
              " 'Kanye_West.txt',\n",
              " 'bruno-mars.txt',\n",
              " 'r-kelly.txt',\n",
              " 'bjork.txt',\n",
              " 'al-green.txt',\n",
              " 'michael-jackson.txt',\n",
              " 'blink-182.txt',\n",
              " 'nirvana.txt',\n",
              " 'radiohead.txt',\n",
              " 'amy-winehouse.txt',\n",
              " 'nickelback.txt',\n",
              " 'ludacris.txt',\n",
              " 'kanye.txt',\n",
              " 'lorde.txt',\n",
              " 'rihanna.txt',\n",
              " 'bob-marley.txt',\n",
              " 'drake.txt',\n",
              " 'lady-gaga.txt',\n",
              " 'dj-khaled.txt',\n",
              " 'notorious-big.txt',\n",
              " 'nursery_rhymes.txt',\n",
              " 'bruce-springsteen.txt',\n",
              " 'patti-smith.txt',\n",
              " 'lin-manuel-miranda.txt',\n",
              " 'nicki-minaj.txt',\n",
              " 'paul-simon.txt',\n",
              " 'cake.txt',\n",
              " 'notorious_big.txt',\n",
              " 'beatles.txt',\n",
              " 'alicia-keys.txt',\n",
              " 'missy-elliott.txt',\n",
              " 'britney-spears.txt',\n",
              " 'disney.txt',\n",
              " 'Lil_Wayne.txt',\n",
              " 'bieber.txt',\n",
              " 'leonard-cohen.txt',\n",
              " 'eminem.txt',\n",
              " 'joni-mitchell.txt',\n",
              " 'adele.txt',\n",
              " 'lil-wayne.txt',\n",
              " 'jimi-hendrix.txt',\n",
              " 'dr-seuss.txt',\n",
              " 'kanye-west.txt',\n",
              " 'bob-dylan.txt',\n",
              " 'johnny-cash.txt',\n",
              " 'prince.txt']"
            ]
          },
          "metadata": {},
          "execution_count": 3
        }
      ],
      "source": [
        "# Posibles bandas\n",
        "os.listdir(\"./songs_dataset/\")"
      ]
    },
    {
      "cell_type": "code",
      "execution_count": 4,
      "metadata": {
        "id": "Gb39v3PaZmRH",
        "colab": {
          "base_uri": "https://localhost:8080/",
          "height": 261
        },
        "outputId": "59e31933-1389-4c91-b8ff-8106c49d53a0"
      },
      "outputs": [
        {
          "output_type": "stream",
          "name": "stderr",
          "text": [
            "<ipython-input-4-48474518626e>:3: ParserWarning: Falling back to the 'python' engine because the 'c' engine does not support regex separators (separators > 1 char and different from '\\s+' are interpreted as regex); you can avoid this warning by specifying engine='python'.\n",
            "  df = pd.read_csv('songs_dataset/radiohead.txt', sep='/n', header=None)\n"
          ]
        },
        {
          "output_type": "execute_result",
          "data": {
            "text/plain": [
              "                              0\n",
              "0              Come on, come on\n",
              "1  You think you drive me crazy\n",
              "2              Come on, come on\n",
              "3           You and whose army?\n",
              "4          You and your cronies"
            ],
            "text/html": [
              "\n",
              "  <div id=\"df-78296d84-9123-4267-a0b6-15399c5c47f6\">\n",
              "    <div class=\"colab-df-container\">\n",
              "      <div>\n",
              "<style scoped>\n",
              "    .dataframe tbody tr th:only-of-type {\n",
              "        vertical-align: middle;\n",
              "    }\n",
              "\n",
              "    .dataframe tbody tr th {\n",
              "        vertical-align: top;\n",
              "    }\n",
              "\n",
              "    .dataframe thead th {\n",
              "        text-align: right;\n",
              "    }\n",
              "</style>\n",
              "<table border=\"1\" class=\"dataframe\">\n",
              "  <thead>\n",
              "    <tr style=\"text-align: right;\">\n",
              "      <th></th>\n",
              "      <th>0</th>\n",
              "    </tr>\n",
              "  </thead>\n",
              "  <tbody>\n",
              "    <tr>\n",
              "      <th>0</th>\n",
              "      <td>Come on, come on</td>\n",
              "    </tr>\n",
              "    <tr>\n",
              "      <th>1</th>\n",
              "      <td>You think you drive me crazy</td>\n",
              "    </tr>\n",
              "    <tr>\n",
              "      <th>2</th>\n",
              "      <td>Come on, come on</td>\n",
              "    </tr>\n",
              "    <tr>\n",
              "      <th>3</th>\n",
              "      <td>You and whose army?</td>\n",
              "    </tr>\n",
              "    <tr>\n",
              "      <th>4</th>\n",
              "      <td>You and your cronies</td>\n",
              "    </tr>\n",
              "  </tbody>\n",
              "</table>\n",
              "</div>\n",
              "      <button class=\"colab-df-convert\" onclick=\"convertToInteractive('df-78296d84-9123-4267-a0b6-15399c5c47f6')\"\n",
              "              title=\"Convert this dataframe to an interactive table.\"\n",
              "              style=\"display:none;\">\n",
              "        \n",
              "  <svg xmlns=\"http://www.w3.org/2000/svg\" height=\"24px\"viewBox=\"0 0 24 24\"\n",
              "       width=\"24px\">\n",
              "    <path d=\"M0 0h24v24H0V0z\" fill=\"none\"/>\n",
              "    <path d=\"M18.56 5.44l.94 2.06.94-2.06 2.06-.94-2.06-.94-.94-2.06-.94 2.06-2.06.94zm-11 1L8.5 8.5l.94-2.06 2.06-.94-2.06-.94L8.5 2.5l-.94 2.06-2.06.94zm10 10l.94 2.06.94-2.06 2.06-.94-2.06-.94-.94-2.06-.94 2.06-2.06.94z\"/><path d=\"M17.41 7.96l-1.37-1.37c-.4-.4-.92-.59-1.43-.59-.52 0-1.04.2-1.43.59L10.3 9.45l-7.72 7.72c-.78.78-.78 2.05 0 2.83L4 21.41c.39.39.9.59 1.41.59.51 0 1.02-.2 1.41-.59l7.78-7.78 2.81-2.81c.8-.78.8-2.07 0-2.86zM5.41 20L4 18.59l7.72-7.72 1.47 1.35L5.41 20z\"/>\n",
              "  </svg>\n",
              "      </button>\n",
              "      \n",
              "  <style>\n",
              "    .colab-df-container {\n",
              "      display:flex;\n",
              "      flex-wrap:wrap;\n",
              "      gap: 12px;\n",
              "    }\n",
              "\n",
              "    .colab-df-convert {\n",
              "      background-color: #E8F0FE;\n",
              "      border: none;\n",
              "      border-radius: 50%;\n",
              "      cursor: pointer;\n",
              "      display: none;\n",
              "      fill: #1967D2;\n",
              "      height: 32px;\n",
              "      padding: 0 0 0 0;\n",
              "      width: 32px;\n",
              "    }\n",
              "\n",
              "    .colab-df-convert:hover {\n",
              "      background-color: #E2EBFA;\n",
              "      box-shadow: 0px 1px 2px rgba(60, 64, 67, 0.3), 0px 1px 3px 1px rgba(60, 64, 67, 0.15);\n",
              "      fill: #174EA6;\n",
              "    }\n",
              "\n",
              "    [theme=dark] .colab-df-convert {\n",
              "      background-color: #3B4455;\n",
              "      fill: #D2E3FC;\n",
              "    }\n",
              "\n",
              "    [theme=dark] .colab-df-convert:hover {\n",
              "      background-color: #434B5C;\n",
              "      box-shadow: 0px 1px 3px 1px rgba(0, 0, 0, 0.15);\n",
              "      filter: drop-shadow(0px 1px 2px rgba(0, 0, 0, 0.3));\n",
              "      fill: #FFFFFF;\n",
              "    }\n",
              "  </style>\n",
              "\n",
              "      <script>\n",
              "        const buttonEl =\n",
              "          document.querySelector('#df-78296d84-9123-4267-a0b6-15399c5c47f6 button.colab-df-convert');\n",
              "        buttonEl.style.display =\n",
              "          google.colab.kernel.accessAllowed ? 'block' : 'none';\n",
              "\n",
              "        async function convertToInteractive(key) {\n",
              "          const element = document.querySelector('#df-78296d84-9123-4267-a0b6-15399c5c47f6');\n",
              "          const dataTable =\n",
              "            await google.colab.kernel.invokeFunction('convertToInteractive',\n",
              "                                                     [key], {});\n",
              "          if (!dataTable) return;\n",
              "\n",
              "          const docLinkHtml = 'Like what you see? Visit the ' +\n",
              "            '<a target=\"_blank\" href=https://colab.research.google.com/notebooks/data_table.ipynb>data table notebook</a>'\n",
              "            + ' to learn more about interactive tables.';\n",
              "          element.innerHTML = '';\n",
              "          dataTable['output_type'] = 'display_data';\n",
              "          await google.colab.output.renderOutput(dataTable, element);\n",
              "          const docLink = document.createElement('div');\n",
              "          docLink.innerHTML = docLinkHtml;\n",
              "          element.appendChild(docLink);\n",
              "        }\n",
              "      </script>\n",
              "    </div>\n",
              "  </div>\n",
              "  "
            ]
          },
          "metadata": {},
          "execution_count": 4
        }
      ],
      "source": [
        "# Armar el dataset utilizando salto de línea para separar las oraciones/docs\n",
        "# Se usa el dataset de Radiohead\n",
        "df = pd.read_csv('songs_dataset/radiohead.txt', sep='/n', header=None)\n",
        "df.head()"
      ]
    },
    {
      "cell_type": "code",
      "execution_count": 5,
      "metadata": {
        "id": "riT898QlZnmF",
        "colab": {
          "base_uri": "https://localhost:8080/"
        },
        "outputId": "ee5d4752-f3ec-47d6-88ca-1a62eebb9ae7"
      },
      "outputs": [
        {
          "output_type": "stream",
          "name": "stdout",
          "text": [
            "Cantidad de documentos: 2343\n"
          ]
        }
      ],
      "source": [
        "print(\"Cantidad de documentos:\", df.shape[0])"
      ]
    },
    {
      "cell_type": "markdown",
      "metadata": {
        "id": "RDoouHp7Zp6D"
      },
      "source": [
        "### 1 - Ejemplo de Preprocesamiento\n",
        "- Hay que transformar las oraciones en tokens.\n",
        "- Dichas oraciones hay que ajustarlas al tamaño fijo de nuestra sentencia de entrada al modelo.\n",
        "- Hay que separar las palabras objetivos (target) que el modelo debe predecir en cada sentencia armada."
      ]
    },
    {
      "cell_type": "code",
      "execution_count": 6,
      "metadata": {
        "id": "m5FeTaGvbDbw"
      },
      "outputs": [],
      "source": [
        "from keras.preprocessing.text import Tokenizer # equivalente a ltokenizer de nltk\n",
        "from keras.preprocessing.text import text_to_word_sequence # equivalente a word_teokenize de nltk\n",
        "from keras.utils import pad_sequences # se utilizará para padding\n",
        "\n",
        "# largo de la secuencia, incluye seq input + word output\n",
        "train_len = 4"
      ]
    },
    {
      "cell_type": "code",
      "execution_count": 10,
      "metadata": {
        "id": "Zf3O7eK6ZpP8",
        "colab": {
          "base_uri": "https://localhost:8080/",
          "height": 36
        },
        "outputId": "c5883234-9d16-4171-fe25-c1fa82807db1"
      },
      "outputs": [
        {
          "output_type": "execute_result",
          "data": {
            "text/plain": [
              "'You think you drive me crazy'"
            ],
            "application/vnd.google.colaboratory.intrinsic+json": {
              "type": "string"
            }
          },
          "metadata": {},
          "execution_count": 10
        }
      ],
      "source": [
        "# Ejemplo de como transformar una oración a tokens usando keras\n",
        "text = df.loc[1,0]\n",
        "text"
      ]
    },
    {
      "cell_type": "code",
      "execution_count": 11,
      "metadata": {
        "id": "AOv67Sj7aeFH",
        "colab": {
          "base_uri": "https://localhost:8080/"
        },
        "outputId": "bbc02aee-11f4-43c3-8f42-29333e9c46d9"
      },
      "outputs": [
        {
          "output_type": "execute_result",
          "data": {
            "text/plain": [
              "['you', 'think', 'you', 'drive', 'me', 'crazy']"
            ]
          },
          "metadata": {},
          "execution_count": 11
        }
      ],
      "source": [
        "tokens = text_to_word_sequence(text) # entran oraciones -> salen vectores de N posiciones (tokens)\n",
        "tokens"
      ]
    },
    {
      "cell_type": "markdown",
      "metadata": {
        "id": "ZrlyqkoiaymK"
      },
      "source": [
        "1.1 - Transformar las oraciones en secuencias (tokens) de palabras"
      ]
    },
    {
      "cell_type": "code",
      "execution_count": 12,
      "metadata": {
        "id": "XH_L14Wjaowe"
      },
      "outputs": [],
      "source": [
        "# Recorrer todas las filas y transformar las oraciones\n",
        "# en secuencias de palabras\n",
        "sentence_tokens = []\n",
        "for _, row in df[:None].iterrows():\n",
        "    sentence_tokens.append(text_to_word_sequence(row[0]))"
      ]
    },
    {
      "cell_type": "code",
      "execution_count": 13,
      "metadata": {
        "id": "KASzU4CdaxbZ",
        "colab": {
          "base_uri": "https://localhost:8080/"
        },
        "outputId": "18cc37cd-8eb0-4d60-fae8-a35c568d257f"
      },
      "outputs": [
        {
          "output_type": "execute_result",
          "data": {
            "text/plain": [
              "[['come', 'on', 'come', 'on'],\n",
              " ['you', 'think', 'you', 'drive', 'me', 'crazy'],\n",
              " ['come', 'on', 'come', 'on'],\n",
              " ['you', 'and', 'whose', 'army']]"
            ]
          },
          "metadata": {},
          "execution_count": 13
        }
      ],
      "source": [
        "# Demos un vistazo\n",
        "sentence_tokens[:4]"
      ]
    },
    {
      "cell_type": "code",
      "execution_count": 14,
      "metadata": {
        "id": "A659lswTbIIB"
      },
      "outputs": [],
      "source": [
        "# Código para hacer el desfazaje de las palabras\n",
        "# según el train_len\n",
        "text_sequences = []\n",
        "\n",
        "for i in range(train_len, len(tokens)):\n",
        "  seq = tokens[i-train_len:i]\n",
        "  text_sequences.append(seq)"
      ]
    },
    {
      "cell_type": "code",
      "execution_count": 15,
      "metadata": {
        "id": "01JEoPPnbgRF",
        "colab": {
          "base_uri": "https://localhost:8080/"
        },
        "outputId": "0b02bb49-4e38-46f0-a8d9-f6b1988990af"
      },
      "outputs": [
        {
          "output_type": "execute_result",
          "data": {
            "text/plain": [
              "[['you', 'think', 'you', 'drive'], ['think', 'you', 'drive', 'me']]"
            ]
          },
          "metadata": {},
          "execution_count": 15
        }
      ],
      "source": [
        "# Demos un vistazo a nuestros vectores para entrenar el modelo\n",
        "text_sequences "
      ]
    },
    {
      "cell_type": "markdown",
      "metadata": {
        "id": "4B0gHnKVa4W_"
      },
      "source": [
        "1.2 - Crear los vectores de palabras (word2vec)\n",
        "\n",
        "Ahora necesitamos pasarlos a números para que lo entienda la red y separar input de output.\n",
        "- El Input seran integers (word2vec)\n",
        "- Mientras que el output será one hot encodeado (labels) del tamaño del vocabulario"
      ]
    },
    {
      "cell_type": "code",
      "execution_count": 16,
      "metadata": {
        "id": "fkPNvXeQcS0U"
      },
      "outputs": [],
      "source": [
        "tok = Tokenizer() \n",
        "\n",
        "# El tokeinzer \"aprende\" las palabras que se usaran\n",
        "# Se construye (fit) una vez por proyecto, se aplica N veces (tal cual un encoder)\n",
        "# El token 0 es reservado y no es asignado, esta sutileza nos dará un pequeño\n",
        "# problema al momento de hacer la codificación OHE, pero es sencillo de resolver\n",
        "tok.fit_on_texts(text_sequences) \n",
        "\n",
        "# Convertimos las palabras a números\n",
        "# entran palabras -> salen números\n",
        "sequences = tok.texts_to_sequences(text_sequences)"
      ]
    },
    {
      "cell_type": "code",
      "execution_count": 17,
      "metadata": {
        "id": "4SIc44IocyQb",
        "colab": {
          "base_uri": "https://localhost:8080/"
        },
        "outputId": "e87ae0c1-65f0-459a-d8a4-b2321d75e04b"
      },
      "outputs": [
        {
          "output_type": "execute_result",
          "data": {
            "text/plain": [
              "[[1, 2, 1, 3], [2, 1, 3, 4]]"
            ]
          },
          "metadata": {},
          "execution_count": 17
        }
      ],
      "source": [
        "# Ahora sequences tiene los números \"ID\", largo 4\n",
        "sequences"
      ]
    },
    {
      "cell_type": "code",
      "execution_count": 18,
      "metadata": {
        "id": "3ro81yCQc1oX",
        "colab": {
          "base_uri": "https://localhost:8080/"
        },
        "outputId": "05536242-fef4-4e95-e31e-c33e786b83f7"
      },
      "outputs": [
        {
          "output_type": "stream",
          "name": "stdout",
          "text": [
            "2\n"
          ]
        }
      ],
      "source": [
        "# Cantidad de casos (doc) de entrada\n",
        "print(tok.document_count)"
      ]
    },
    {
      "cell_type": "code",
      "execution_count": 19,
      "metadata": {
        "id": "nzAWNfroc4u1",
        "colab": {
          "base_uri": "https://localhost:8080/"
        },
        "outputId": "6b95a3b4-6aa7-4b70-9030-a0a51a946429"
      },
      "outputs": [
        {
          "output_type": "stream",
          "name": "stdout",
          "text": [
            "4\n"
          ]
        }
      ],
      "source": [
        "# Cantidad de veces que aparece cada palabra\n",
        "print(len(tok.word_counts))"
      ]
    },
    {
      "cell_type": "code",
      "execution_count": 20,
      "metadata": {
        "id": "spTBxmFQc6h8",
        "colab": {
          "base_uri": "https://localhost:8080/"
        },
        "outputId": "cd0c394f-64d6-4229-b0d6-b972ac930b56"
      },
      "outputs": [
        {
          "output_type": "stream",
          "name": "stdout",
          "text": [
            "{'you': 1, 'think': 2, 'drive': 3, 'me': 4}\n"
          ]
        }
      ],
      "source": [
        "# El índice para cada palabra\n",
        "# El sistema las ordena de las más populares a las menos populares\n",
        "print(tok.word_index)"
      ]
    },
    {
      "cell_type": "code",
      "execution_count": 21,
      "metadata": {
        "id": "nUDkjy80c77h",
        "colab": {
          "base_uri": "https://localhost:8080/"
        },
        "outputId": "a2d4c462-1429-4062-b8f5-c29dae85c44f"
      },
      "outputs": [
        {
          "output_type": "stream",
          "name": "stdout",
          "text": [
            "defaultdict(<class 'int'>, {'drive': 2, 'you': 2, 'think': 2, 'me': 1})\n"
          ]
        }
      ],
      "source": [
        "# Cantidad de veces quea aparece cada palabra en cada \"documento\"\n",
        "# (1 documento = 1 caso de entrada)\n",
        "print(tok.word_docs)"
      ]
    },
    {
      "cell_type": "markdown",
      "metadata": {
        "id": "ohS5Tao1d2KB"
      },
      "source": [
        "### 2 - Preprocesamiento completo\n",
        "Debemos realizar los mismos pasos que en el ejemplo anterior, pero antes de eso debemos transformar ese dataset de filas de oraciones en un texto completo continuo para poder extraer el vocabulario."
      ]
    },
    {
      "cell_type": "code",
      "execution_count": 23,
      "metadata": {
        "id": "63Z2-Se2t27r",
        "colab": {
          "base_uri": "https://localhost:8080/"
        },
        "outputId": "8cfa7a95-bdaf-4c44-b726-2c0c670a1a3c"
      },
      "outputs": [
        {
          "output_type": "execute_result",
          "data": {
            "text/plain": [
              "0                 Come on, come on\n",
              "1     You think you drive me crazy\n",
              "2                 Come on, come on\n",
              "3              You and whose army?\n",
              "4             You and your cronies\n",
              "5                 Come on, come on\n",
              "6                Holy Roman empire\n",
              "7             Come on if you think\n",
              "8             Come on if you think\n",
              "9               You can take us on\n",
              "10              You can take us on\n",
              "11             You and whose army?\n",
              "12            You and your cronies\n",
              "13            You forget so easily\n",
              "14                 We ride tonight\n",
              "15                 We ride tonight\n",
              "16                    Ghost horses\n",
              "17                    Ghost horses\n",
              "18                 We ride tonight\n",
              "19                 We ride tonight\n",
              "20                    Ghost horses\n",
              "Name: 0, dtype: object"
            ]
          },
          "metadata": {},
          "execution_count": 23
        }
      ],
      "source": [
        "# Vistazo a las primeras filas\n",
        "df.loc[:20,0]"
      ]
    },
    {
      "cell_type": "code",
      "execution_count": 24,
      "metadata": {
        "id": "kILsSoxTuHEr",
        "colab": {
          "base_uri": "https://localhost:8080/",
          "height": 123
        },
        "outputId": "4711740f-ceef-4b19-f107-6a57513a68e4"
      },
      "outputs": [
        {
          "output_type": "execute_result",
          "data": {
            "text/plain": [
              "\"Come on, come on You think you drive me crazy Come on, come on You and whose army? You and your cronies Come on, come on Holy Roman empire Come on if you think Come on if you think You can take us on You can take us on You and whose army? You and your cronies You forget so easily We ride tonight We ride tonight Ghost horses Ghost horses We ride tonight We ride tonight Ghost horses Ghost horses Ghost horses I sail to the moon I spoke too soon And how much did it cost I was dropped from Moonbeam And sailed on shooting stars Maybe you'll Be president But know right from wrong Or in the flood You'll build an Ark And sail us to the moon Sail us to the moon Sail us to the moon Something for the rag and bone man Over my dead body Something big is gonna happen Over my dead body Someone's son or someone's daughter Over my dead body This is how I end up sucked in Over my dead body I'm gonna go to sleep Let this wash all over me We don't really want a monster taking over Tiptoe around, tie him down We don't want the loonies taking over Tiptoe around, tie them down There's a gap in between There's a gap where we meet Where I end and you begin And I'm sorry for us The dinosaurs roam the earth The sky turns green Where I end and you begin (4, 5, 6, 7) I am up in the clouds I am up in the clouds And I can't, and I can't come down I can watch and not take part Where I end and where you start Where you, you left me alone You left me alone X will mark the place Like the parting of the waves Like a house falling in the sea In the sea I will eat you alive I will eat you alive I will eat you alive I will eat you alive And there'll be no more lies There'll be no more lies There'll be no more lies There'll be no more lies I will eat you alive I will eat you alive I will eat you alive I will eat you alive And there'll be no more lies There'll be no more lies There'll be no more lies There'll be no more lies I will eat you alive I will eat you alive I will eat you alive I will eat you alive And there'll be no more lies There'll be no more lies There'll be no more lies There'll be no more lies I will eat you alive I will eat you alive I will eat you alive When you were here before Couldn't look you in the eye You're just like an angel Your skin makes me cry You float like a feather In a beautiful world I wish I was special You're so fuckin' special But I'm a creep, I'm a weirdo What the hell am I doing here? I don't belong here. I don't care if it hurts I wanna have control I wanna a perfect body I wanna a perfect soul I want you to notice When I'm not around You're so fuckin' special I wish I was special But I'm a creep, I'm a weirdo What the hell am I doing here? I don't belong here. She's running out again, She's running out She's run run run run Run Whatever makes you happy Whatever you want You're so fuckin' special I wish I was special But I'm a creep, I'm a weirdo What the hell am I doing here? I don't belong here I don't belong here I'm the next act Waiting in the wings I'm an animal Trapped in your parked car I am holidays That you choose to ignore You are all I need You are all I need I'm in the middle of your picture Lying in the leaves I am a moth Who just wants to share your light I'm just an insect Trying to get out of the night I only stick with you Because there are no others You are all I need You are all I need I'm in the middle of your picture Lying in the leaves It's all wrong It's all right It's all wrong It's all wrong It's all right It's all wrong It's all wrong It's all right It's all wrong It's all right A heart that's full up like a landfill A job that slowly kills you Bruises that won't heal You look so tired, unhappy Bring down the government They don't, they don't speak for us I'll take a quiet life A handshake of carbon monoxide With no alarms and no surprises No alarms and no surprises No alarms and no surprises Silent, silent This is my final fit My final bellyache With no alarms and no surprises No alarms and no surprises No alarms and no surprises, please Such a pretty house And such a pretty garden No alarms and no surprises No alarms and no surprises No alarms and no surprises, please Two jumps in a week I bet you think that's pretty clever, don't you boy? Flying on your motorcycle Watching all the ground beneath you drop Kill yourself for recognition Kill yourself to never ever stop You broke another mirror You're turning into something you are not Don't leave me high Don't leave me dry Don't leave me high Don't leave me dry Drying up in conversation You will be the one who cannot talk All your insides fall to pieces You just sit there wishing you could still make love They're the ones who'll hate you When you think you've got the world all sussed out They're the once who'll spit at you You'll be the one screaming out Don't leave me high Don't leave me dry Don't leave me high Don't leave me dry Oh, it's the best thing that you ever had The best thing you ever, ever had It's the best thing that you ever had The best thing you have had is gone away D-don't leave me high Don't leave me dry Don't leave me high Don't leave me dry Don't leave me high Don't leave me high Don't leave me dry I don't want to be your friend I just want to be your lover No matter how it ends No matter how it starts Forget about your house of cards And I'll do mine Forget about your house of cards And I'll do mine Fall off the table Get swept under Denial, denial The infrastructure will collapse Voltage spikes Throw your keys in the bowl Kiss your husband goodnight Forget about your house of cards And I'll do mine Forget about your house of cards And I'll do mine Fall off the table And get swept under Denial, denial Denial, denial Your ears should be burning Denial, denial Your ears should be burning In the deepest ocean The bottom of the sea Your eyes They turn me Why should I stay here? Why should I stay? I'd be crazy not to follow Follow where you lead Your eyes They turn me Turn me on to phantoms I follow to the edge of the earth And fall off Everybody leaves If they get the chance And this is my chance I get eaten by the worms Weird fishes Get towed by the worms Weird fishes Weird fishes Weird fishes I'll hit the bottom Hit the bottom and escape Escape I'll hit the bottom Hit the bottom and escape Escape Just as you take my hand Just as you write my number down Just as the drinks arrive Just as they play your favorite song As the magic disappears No longer wound up like a spring Before you've had too much Come back and focus again The walls abandon shape You've got a Cheshire cat grin All blurring into one This place is on a mission Before the night owl Before the animal noises Closed circuit cameras Before you're comatose Before you run away from me Before you're lost between the noise The beat goes round and round The beat goes round and round I never really got there I just pretended that I had What's the point of instruments Words are a sawed off shotgun Come on and let it out Come on and let it out Come on and let it out Come on and let it out Before you run away from me Before you start unraveling Before you take my mic Just as you dance, dance, dance Jigsaws falling into place There is nothing to explain You eye each other as you pass She looks back, you look back Not just once Not just twice Wish away the nightmare Wish away the nightmare You've got a light you can feel it on your back You've got a light you can feel it on your back Jigsaws falling into place In pitch dark I go walking in your landscape Broken branches Trip me as I speak Just 'cause you feel it Doesn't mean it's there Just 'cause you feel it Doesn't mean it's there There's always a siren Singing you to shipwreck (Don't reach out, don't reach out Don't reach out, don't reach out) Steer away from these rocks We'd be a walking disaster (Don't reach out, don't reach out Don't reach out, don't reach out) Just 'cause you feel it Doesn't mean it's there (Someone on your shoulder Someone on your shoulder) Just 'cause you feel it Doesn't mean it's there (Someone on your shoulder Someone on your shoulder) There there Why so green and lonely? And lonely, and lonely? Heaven sent you to me To me, to me? We are accidents waiting Waiting to happen We are accidents waiting Waiting to happen Reckoner You can't take it with yer Dancing for your pleasure You are not to blame for Bittersweet distractors Dare not speak its name Dedicated to all human beings Because we separate Like ripples on a blank shore In rainbows Because we separate Like ripples on a blank shore Reckoner Take me with yer Dedicated to all human beings [Backing vocals] A moon shaped pool Dancing clothes won't let me in And now I know it's never gonna be oh me The sweet-faced ones with nothing left inside That we all can love, that we all can love, that we all can The sweet-faced ones with nothing left inside That we all can love, that we all can love, that we all can But now I see you messing me around I don't want to know, I don't want to know, I don't want When I see you messing me around? I don't want to know, I don't want to know, I don't want to know Broken hearts make it rain Broken hearts make it rain Broken hearts make it rain Broken hearts make it rain Broken hearts make it rain Broken hearts make it rain Broken hearts make it rain Broken hearts make it rain Broken hearts make it rain Broken hearts Broken hearts make it rain Broken hearts make it rain Broken hearts make it rain Broken hearts make it rain Broken hearts make it rain Broken hearts make it rain Broken hearts make it rain Broken hearts make it rain The pieces of a ragdoll mankind That we can create, that we can create, that we can The pieces of a ragdoll mankind That we can create, that we can create But when I see you messing me around I don't want to know, I don't want to know, I don't want Now I see you messing me around I don't want to know, I don't want to know, I don't want to know I will shape myself into your pocket Invisible Do what you want Do what you want I will shrink and I will disappear I will slip into the groove and cut me off And cut me off There's an empty space inside my heart Where the weeds take root And now I'll set you free I'll set you free There's an empty space inside my heart Where the weeds take root So now I'll set you free I'll set you free Slowly we unfurl As lotus flowers 'Cause all I want is the moon upon a stick Just to see what if Just to see what is I can't kick your habit Just to fill your fast ballooning head Listen to your heart We will shrink and we'll be quiet as mice And while the cat is away Do what we want Do what we want There's an empty space inside my heart Where the weeds take root So now I'll set you free I'll set you free 'Cause all I want is the moon upon a stick Just to see what if Just to see what is The bird lights float into my room Slowly we unfurl As lotus flowers 'Cause all I want is the moon upon a stick I dance around the pit The darkness is beneath I can't kick your habit Just to feed your fast ballooning head Listen to your heart Don't get any big ideas They're not gonna happen You paint yourself white And fill up with noise There'll be something missing And now that you found it It's gone Now you feel it you don't You've gone off the rails So don't get any big ideas They're not gonna happen You'll go to Hell For what your Dirty mind is thinking Karma police Arrest this man He talks in maths He buzzes like a fridge He's like a detuned radio Karma police Arrest this girl Her Hitler hairdo Is making me feel ill And we have crashed her party This is what you'll get This is what you'll get This is what you'll get When you mess with us Karma police I've given all I can It's not enough I've given all I can But we're still on the payroll This is what you'll get This is what you'll get This is what you'll get When you mess with us For a minute there I lost myself, I lost myself Phew, for a minute there I lost myself, I lost myself For a minute there I lost myself, I lost myself Phew, for a minute there I lost myself, I lost myself Transport, motorways and tramlines Starting and then stopping Taking off and landing The emptiest of feelings Disappointed people, clinging on to bottles When it comes it's so, so, disappointing Let down and hanging around Crushed like a bug in the ground Let down and hanging around Shell smashed, juices flowing Wings twitch, legs are going Don't get sentimental, it always ends up drivel One day, I am gonna grow wings A chemical reaction Hysterical and useless Hysterical and Let down and hanging around Crushed like a bug in the ground Let down and hanging around Let down Let down Let down You know, you know where you are with You know where you are with Floor collapsing, falling Bouncing back and one day, I am gonna grow wings A chemical reaction (you know where you are) Hysterical and useless (you know where you are) Hysterical and (you know where you are) Let down and hanging around Crushed like a bug in the ground Let down and hanging around A green plastic watering can For a fake Chinese rubber plant In the fake plastic earth That she bought from a rubber man In a town full of rubber plans To get rid of itself It wears her out It wears her out It wears her out It wears her out She lives with a broken man A cracked polystyrene man Who just crumbles and burns He used to do surgery For girls in the eighties But gravity always wins And it wears him out It wears him out It wears him out Wears him out She looks like the real thing She tastes like the real thing My fake plastic love But I can't help the feeling I could blow through the ceiling If I just turn and run And it wears me out It wears me out It wears me out It wears me out And if I could be who you wanted If I could be who you wanted All the time All the time I'll drown my beliefs To have you be in peace I'll dress like your niece And wash your swollen feet Just don't leave Don't leave I'm not living, I'm just killing time Your tiny hands Your crazy-kitten smile Just don't leave Don't leave And true love waits In haunted attics And true love lives On lollipops and crisps Just don't leave Don't leave Just don't leave Don't leave And in your life, there comes the darkness This spacecraft blocking out the sky And there's nowhere to hide You run to the back and you cover your ears But it's the loudest sound you've ever heard Now we're trapped, we're dark cloud's people We are helpless to resist In your darkest hour But it was just a lie, just a lie Just a lie, just a lie Even at this angle And so we crumble Still turning heads, you know where it's at This dread still covers us You gotta be kidding me The grass grows over me Your face in the glass, and it's dark now It was just a laugh, it was just a laugh It's whatever you say it is Split infinite And in your life, there comes a darkness And a spacecraft blocking out the sky And there's nowhere to hide You run to the back and you cover your ears It's the loudest sound you've ever heard In your darkest hour If you had another one If you had another name So dark Are you such a dreamer To put the world to rights I'll stay home forever Where two and two always makes a five I'll lay down the tracks Sandbag and hide January has April showers And two and two always makes a five It's the devil's way now There is no way out You can scream and you can shout It is too late now Because you're not there Payin' attention Payin' attention Payin' attention Payin' attention Yeah I feel it, I needed attention Payin' attention Payin' attention Payin' attention Yeah I need it, I needed attention I needed attention I needed attention I needed attention Yeah I love it, the attention Payin' attention Payin' attention Payin' attention Soon oh I try to sing along But the music's all wrong 'Cause I'm not 'Cause I'm not I'll swallow up flies? Back and hide But I'm not Oh hail to the thief Oh hail to the thief But I'm not But I'm not But I'm not But I'm not Don't question my authority or put me in the box 'Cause I'm not 'Cause I'm not Oh go up to the king, and the sky is falling in But it's not But it's not Maybe not Maybe not How come I end up where I started How come I end up where I belong Won't take my eyes off the ball again You reel me out then you cut the string How come I end up where I started How come I end up where I belong Won't take my eyes off the ball again You reel me out then you cut the string You used to be alright What happened? Did the cat get your tongue Did your string come undone One by one One by one It comes to us all It's as soft as your pillow You used to be alright What happened? Etcetera etcetera Facts for whatever Fifteen steps Then a shear drop Please could you stop the noise I'm trying to get some rest From all the unborn chicken voices in my head What's that? What's that? When I am king, you will be first against the wall With your opinion which is of no consequence at all What's that? What's that? Ambition makes you look pretty ugly Kicking, squealing Gucci little piggy You don't remember You don't remember Why don't you remember my name? Off with his head, man Off with his head, man Why don't you remember my name? I guess he does Rain down, rain down Come on rain down on me From a great height From a great height, height Rain down, rain down Come on, rain down on me From a great height From a great height Rain down, rain down (that's it, sir, you're leaving, the crackle of pigskin) Come on rain down on me (the dust and the screaming, the yuppies networking) From a great height (the panic, the vomit, the panic, the vomit) God loves his childrean God loves his children, yeah Dreamers They never learn They never learn Beyond the point Of no return Of no return And it's too late The damage is done The damage is done This goes Beyond me Beyond you A white room By a window Where the sun comes Through We are Just happy to serve Just happy to serve You Efil ym fo flaH Efil ym fo flaH Efil ym fo flaH Efil ym fo flaH Efil ym fo flaH Efil ym fo flaH Efil ym fo flaH Efil ym fo flaH Efil ym fo flaH Efil ym fo flaH Efil ym fo flaH Efil ym fo flaH Efil ym fo flaH Efil ym fo flaH Efil ym fo flaH Efil ym fo flaH I do not Understand What it is I've done wrong Full of holes Check for pulse Blink your eyes One for yes Two for no I have no idea what I am talking about I'm trapped in this body and can't get out Oh, oh Make a sound Move back home Pale imitation With the edges Sawn off I have no idea what you are talking about I'm trapped in this body and can't get out Oh, oh Has the light gone out for you? 'Cause the light's gone for me It is the 21st century It is the 21st century You can fight it like a dog And they brought me to my knees They got scared and they put me in They got scared and they put me in All the lies run around my face All the lies run around my face And for anyone else to see And for anyone else to see I'm alive I've seen it coming I've seen it coming I've seen it coming I've seen it coming Oh Maria, come slowly Come slowly to me I've been waiting Patient, patiently I didn't care but now I can see That there's a way out That there's a way out That there's a way out That there's a way out That there's a way out Can't get the stink off He's been hanging around for days Comes like a comet Suckered you but not your friends One day he'll get to you And teach you how to be a holy cow You do it to yourself, you do And that's what really hurts Is you do it to yourself, just you You and no-one else You do it to yourself You do it to yourself Don't get my sympathy, hanging out the fifteenth floor You've changed the locks three times He still comes reeling through the door One day I'll get to you And teach you how to get to purest hell You do it to yourself you do And that's what really hurts Is you do it to yourself, just you You and no-one else You do it to yourself You do it to yourself You do it to yourself you do And that's what really hurts Is you do it to yourself just you You and no-one else You do it to yourself You do it to yourself, whoa Say, hey You do it to yourself, you do it to yourself Yeah, yeah, you do it to yourself, yes-yes, you Do it to yourself Stay in the shadows Cheer at the gallows This is a round up This is a low flying panic attack Sing a song on the jukebox that goes Burn the witch Burn the witch We know where you live Red crosses on wooden doors And if you float you burn Loose talk around tables Abandon all reason Avoid all eye contact Do not react Shoot the messengers This is a low flying panic attack Sing the song of sixpence that goes Burn the witch Burn the witch We know where you live We know where you live Rows of houses, all bearing down on me I can feel their blue hands touching me All these things into position All these things we'll one day swallow whole And fade out again and fade out This machine will, will not communicate These thoughts and the strain I am under Be a world child, form a circle Before we all go under And fade out again and fade out again Cracked eggs, dead birds Scream as they fight for life I can feel death, can see its beady eyes All these things into position All these things we'll one day swallow whole Fade out again Fade out again Immerse your soul in love Immerse your soul in love When I'm at the pearly gates This will be on my videotape, my videotape Mephistopheles is just beneath And he's reaching up to grab me This is one for the good days And I have it all here In red, blue, green Red, blue, green You are my center When I spin away Out of control on videotape On videotape On videotape On videotape On videotape On videotape This is my way of saying goodbye Because I can't do it face to face I'm talking to you after it's too late No matter what happens now You shouldn't be afraid Because I know today has been the most perfect day I've ever seen This dance This dance Is like a weapon Is like a weapon Of self defense Of self defense Against the present Against the present The present tense I won't get heavy Don't get heavy Keep it light and Keep it moving I am doing No harm As my world Comes crashing down I'll be dancing Freaking out Deaf, dumb, and blind In you I'm lost In you I'm lost I won't turn around at the penny drop Won't stop now I won't slack off Or all this love Will be in vain I stop from falling Down a mine It's no one's business but mine Or all this love Has been in vain In you I'm lost In you I'm lost In you I'm lost In you I'm lost I'm lost, I'm a ghost Dispossessed, taken host My hunger burns a bullet hole A spectre of my mortal soul These rumors and suspicion Anger is a poison The only truth that I can see Is when you put your lips to these Futures tricked by the past Spectre, how he laughs Fear puts a spell on us Always second-guessing love My hunger burns a bullet hole A spectre of my mortal soul The only truth that I can see Spectre has come for me I want to, I want to be someone else or I'll explode. Floating upon the surface for the birds?, the birds?, the birds? You want me, well fucking come and find me. I'll be waiting, with a gun and a pack of sandwiches and nothing, nothing, nothing. Nothing. You want me, well come on and break the door down. You want me, fucking come on and break the door down. I'm ready, I'm ready, I'm ready. I'm ready. I'm ready. I'm ready. Who's in a bunker, who's in a bunker? Women and children first and the children first and the children I'll laugh until my head comes off I'll swallow till I burst Until I burst until I Who's in a bunker who's in a bunker? I have seen too much I haven't seen enough You haven't seen it I'll laugh until my head comes off Women and children first and the children first and the children Here I'm alive Everything all of the time Here I'm alive Everything all of the time Ice age coming ice age coming Let me hear both sides let me hear both sides let me hear both Ice age coming ice age coming Throw it in the fire throw it in the fire throw it on the We're not scaremongering This is really happening happening We're not scaremongering This is really happening happening Mobiles squearking mobiles chirping Take the money run take the money run take the money Here I'm alive (the first of the children) Everything all of the time (the first of the children) Here I'm alive (the first of the children) Everything all of the time (the first of the children) Here I'm alive (the first of the children) Everything all of the time (the first of the children) Here I'm alive (the first of the children) Everything all of the time (the first of the children) (The first of the children) Hey it's me I just got off the train A frightening place Their faces are concrete grey And I'm wondering, should I turn around? Buy another ticket Panic is coming on strong So cold, from the inside out No great job, no message coming in And you're so small Glassy eyed light of day Glassy eyed light of day The path trails off And heads down a mountain Through the dry bush, I don't know where it leads I don't really care And the path trails off And heads down a mountain Through the dry bush, I don't know where it leads I don't really care I feel this often, go I feel this often, go It holds us like a phantom The touch is like a breeze It shines its understanding See the moon smiling Open on all channels Ready to receive And we're not at the mercy Of your shimmerers or spells Your shimmerers or spells Mmmhm We are of the earth To her we do return The future is inside us It's not somewhere else It's not somewhere else It's not somewhere else (One day at a time) One day at a time We call upon the people People have this power The numbers don't decide Your system is a lie The river running dry The wings of a butterfly And you may pour us away like soup Like we're pretty broken flowers We'll take back what is ours Take back what is ours One day at a time You really messed up everything You really messed up everything But you can take it all back again Strike up what's in the box Why should I be good if you're not? This is a foul tasting medicine A foul tasting medicine To be trapped in your full stop Truth will mess you up Truth will mess you up Truth will mess you up Truth will mess you up Truth will mess you up Truth will mess you up Truth will mess you up Truth will mess you up Truth will mess you up (all the good times) Truth will mess you up Truth will mess you up (all the good times) Truth will mess you up Truth will mess you up (all the good times) Truth will mess you up Truth will mess you up (all the good times) All the good times All the good times All the good times All the good times All the good times Take me back again Take me back Take me back again Oh You really me Really mess Ah You really messed up You really messed up You really messed up You really messed up this time (ah) You really messed up You really messed up You really messed up You really messed up this time (ah) Now as I go upon my way So let me go upon my way Born of a light Born of a light The wind rushing round my open heart An open ravine In my spirit white Totally alive In my spirit light Through an open doorway Across a street To another life And catching my reflection in a window Switching on a light One I didn't know Totally alive Totally released Waking, waking up from shutdown From a thousand years of sleep Yeah you, you know what I mean You know what I mean You know what I mean Kid A, kid A Kid A, kid A Everything Everything Everything Everything In its right place In its right place In its right place In its right place Yesterday I woke up sucking on a lemon Yesterday I woke up sucking on a lemon Yesterday I woke up sucking on a lemon Yesterday I woke up sucking on a lemon Everything Everything Everything In its right place In its right place In its right place Right place There are two colors in my head There are two colors in my head What is that you tried to say What is was you tried to say Tried to say Tried to say Tried to say Tried to say Everything Everything Everything All the holes at once are coming alive, set free Out of sight and out of mind, lonely And they pray The ones you light your fires to keep away Crawling out upon, expending And all you have to do is say yeah All the birds stay up in the trees All the fish swim down too deep lonely And they pray Honey, come to me before it's too late The ones you light your fires to keep away Is crawling out upon, expelling And all you have to do is say yeah One two three four Wakey wakey Rise and shine It's on again, off again, on again Watch me fall Like domino's In pretty patterns Fingers in the blackbird pie I'm tingling tingling tingling It's what you feel now What you ought to, what you ought to Reasonable and sensible Dead from the neck up Because I'm stuffed, stuffed, stuffed We thought you had it in you But no, no, no For no real reason Squeeze the tubes and empty bottles Take a bow take a bow take a bow It's what you feel now What you ought to What you ought to An elephant thats in the room is Tumbling tumbling tumbling In duplicate and duplicate Plastic bags and Duplicate and triplicate Dead from the neck up Guess I'm stuffed, stuffed, stuffed We thought you had it in you But no, no, no Exactly where do you get off Is enough is enough is enough I love you but enough is enough, enough A last stop There's no real reason Been thinking about you, your records are here Your eyes are on my wall, your teeth are over there But I'm still no one, and you're now a star What do you care? Been thinking about you, and there's no rest Should I still love you, still see you in bed But I'm playing with myself? What do you care when the other men are far, far better? All the things you got, All the things you need Who bought you cigarettes, Who bribed the company to come and see you, honey I've been thinking about you, so how can you sleep? These people aren't your friends, they're paid to kiss your feet They don't know what I know Why should you care when I'm not there? Been thinking about you, and there's no rest Should I still love you, still see you in bed When I'm playing with myself? What do you care when I'm not there? All the things you got That you'll never need All the things you got I'm played out and bleed to please you Been thinking about you I jumped in the river, what did I see? Black-eyed angels swam with me A moon full of stars and astral cars And all the figures I used to see All my lovers were there with me All my past and futures And we all went to heaven in a little row boat There was nothing to fear and nothing to doubt I jumped into the river Black-eyed angels swam with me A moon full of stars and astral cars And all the figures I used to see All my lovers were there with me All my past and futures And we all went to heaven in a little row boat There was nothing to fear, nothing to doubt You bit me, bit me, bit me, ow You bit me, bit me and I want more I'm standing in the hall, I'm puking on the wall It's all heading south to the Conger Hill The bangers in the mash, the negatives for cash You're either in the club, baby, or you're not Whatever turns you on, whatever gets you up Chief of Police or Vice Chancellor Lord and Lady blah blah, the vicar and the judge You're all dancing to my little red book Because you bit me, bit me, bit me, ow I got the poison, poison and now I want more If you are on the top then it is a long drop The pyramid is power, we're changing by the hour If you are on the top then it is a long drop If you stare into the dark the dark will stare back Back into your soul I'm taking you down, I'm taking you down I'm taking you down when I go down I'm taking you down, I'm taking you down I'm standing in the hall, I'm puking on the wall Yeah, because you bit me, bit me, bit me, ow The poison, I got the poison, I got the poison now Yeah, I got the poison Wake From your sleep The drying of Your tears Today We escape We escape Pack And get dressed Before your father hears us Before All hell Breaks loose Breathe Keep breathing Don't loose Your nerve Breathe Keep breathing I can't do this Alone Sing Us a song A song to keep Us warm There's Such a chill Such a chill You can laugh A spineless laugh We hope your Rules and wisdom choke you Now We are one In everlasting peace We hope that you choke That you choke We hope that you choke That you choke We hope That you choke That you choke Open your mouth wide A universal sigh And while the ocean blooms It's what keeps me alive So why does this still hurt? Don't blow your mind with why I'm moving out of orbit (Turning in somersaults) Turning in somersaults (A giant turtle's eyes) A giant turtle's eyes (And jellyfish float by) And jellyfish float by (It's what keeps me alive) That there That's not me I go Where I please I walk through walls I float down the Liffey I'm not here This isn't happening I'm not here I'm not here In a little while I'll be gone The moment's already passed Yeah it's gone And I'm not here This isn't happening I'm not here I'm not here Strobe lights and blown speakers Fireworks and hurricanes I'm not here I'm not here This isn't happening I'm not here I'm not here Bloom Open your mouth wide The universe will sigh And while the ocean blooms It's what keeps me alive So why does it still hurt? Don't blow your mind with whys I'm moving out of orbit Turning in somersaults A giant turtle's eyes As jellyfish float by Morning Mr. Magpie You got some nerve coming here You got some nerve coming here You stole it all Give it back You stole it all Give it back Good morning Mr. Magpie How are we today? Now you've stolen all the magic And took my memory You know you should But you don't You know you should But you don't Good morning Mr. Magpie How are we today? Now you've stolen all the magic Took my melody Little By Little Turned so nasty now The dark's there The pillar of my soul The last one out of the box The one who broke the spell Little by little by hook or by crook I'm such a tease and you're such a flirt Once you've been around you've been around enough Little by little by hook or by crook Never living earnest, never get judged I don't know where it is I should look You could want it all, the flag and pole I'm curling with my love The last one out of the box The one who broke the seal Obligations Complications Routines and schedules A job that's killing you Killing you Little by little by hook or by crook Never living earnest, never get judged I don't know where it is I should look Little by little by hook or by crook I am such a tease, and you're such a flirt Feral - instrumental -- Lotus Flower I would shape myself into your pocket Invisible Do what you want Do what you want I would shrink and I would disappear I would slip into the groove And cut me up And cut me up There's an empty space inside my heart Where the weeds take root So now I set you free I'll set you free Slowly we unfold As lotus flowers Cause all I want is the moon upon a stick Just to see what if Just to see what is I can't kick your habit Just to feed your fast-ballooning head Listen to your heart We would shrink and then be quiet as mice And while the cat is away Do what we want Do what we want There's an empty space inside my heart Where the weeds take root So now I set you free I'll set you free Cause all I want is the moon upon a stick just to see what if Just to see what is The bird that's flown into my room Slowly we unfold As lotus flowers Cause all I want is the moon upon a stick I dance around the pit The darkness is beneath I can't kick your habit Just to feed your fast-ballooning head Listen to your heart Codex Sleight of hand Jump off the end Into a clear lake No one around Just dragonflies Flying to our side No one gets hurt You've done nothing wrong Slide your hand Jump off the end The water's clear And innocent The water's clear And innocent Give Up The Ghost Don't haunt me Don't hurt me Gather up the lust and soul In your arms Gather up the pitiful In your arms What seems impossible In your arms I think I have had my fill In your arms I think I should give up the ghost In your arms Separator it's like i've fallen out of bed from a long and vivid dream the sweetest flowers and fruits were hanging from the trees falling off a giant bird that's been carrying me it's like i've fallen out of bed from a long and vivid dream Just exactly as I remember Every word, every gesture I've my heart in my mouth It's like I've fallen out of bed from a long and vivid dream Finally I'm free of all the weight I've been carrying And as that woman blows her cover In the eye of the Beholder I'm a fish now, out of water Falling off a giant bird that's been carrying me I fell open, I lay under At the tea parlour I lost your number And once it's over Hid back under If you think this is over, then you're wrong If you think this is over, then you're wrong If you think this is over, then you're wrong If you think this is over, then you're wrong It's like I've fallen out of bed from a long and vivid dream Finally I'm free of all the weight I've been carrying Wake me up Genie let out the bottle It is now the witching hour Genie let out the bottle It is now the witching hour Murderers you're murderers We are not the same as you Genie let out the bottle Funny ha ha funny how When the walls bend When the walls bend With your breathing With your breathing When the walls bend When the walls bend With your breathing With your breathing With your breathing They will suck you down To the other side They will suck you down To the other side They will suck you down To the other side They will suck you down To the other side To the shadows blue and red Shadows blue and red Your alarm bells Your alarm bells Shadows blue and red Shadows blue and red Your alarm bells Your alarm bells They should be ringing They should be ringing They should be ringing They should be ringing They should be ringing They should be ringing They should be ringing They should be ringing They should be ringing They should be ringing They should be ringing They should be ringing This is the gloaming Faith, you're driving me away You do it everyday You don't mean it but it hurts like hell My brain says I'm receiving pain A lack of oxygen from my life support My iron lung We're too young to fall asleep Too cynical to speak We are loosing it, can't you tell? We scratch our eternal itch Our twentieth century bitch and we are grateful for our Iron lung Suck, suck your teenage thumb Toilet trained and dumb When the power runs out we'll just hum This this is our new song Just like the last one A total waste of time My iron lung If you're frightened You can be frightened You can be, it's okay If you're frightened You can be frightened You can be, it's okay Flies are buzzing round my head Vultures circling the dead Picking up every last crumb The big fish eat the little ones The big fish eat the little ones Not my problem, give me some You can try the best you can You can try the best you can? The best you can is good enough If you try the best you can If you try the best you can The best you can is good enough This one's optimistic This one went to market This one just came out of the swamp This one dropped a payload Fodder for the animals Living on animal farm You can try the best you can You can try the best you can The best you can is good enough If you try the best you can If you try the best you can The best you can is good enough Oh oh oh Oh oh oh Ah ah ah Oh oh oh I'd really like to help you, man I'd really like to help you, man Nervous messed up marionettes Floating around on a prison ship You can try the best you can You can try the best you can The best you can is good enough You can try the best you can You can try the best you can Dinosaurs roaming the Earth Dinosaurs roaming the Earth Dinosaurs roaming the Earth Ah ah ah (oh oh oh) Ah ah ah (oh oh oh) Ah ah ah Oh oh oh Appliances have gone berserk I cannot keep up Treading on people's toes Snot-nosed little punk And I can't face the evening straight And you can't offer me escape Houses move and houses speak If you take me there you'll get relief Believe, believe, believe, believe And if I'm gonna talk I just wanna talk Please don't interrupt Just sit back and listen 'Cause I can't face the evening straight And you can't offer me escape Houses move and houses speak If you take me there you'll get relief Believe, believe, believe, believe It's too much Too bright Too powerful Too much Too bright Too powerful Too much Too bright Too powerful Too much Too bright Too powerful I am the key to the lock in your house That keeps your toys in the basement And if you get too far inside You'll only see my reflection It's always best when the light is off I am the pick in the ice Do not cry out or hit the alarm You know we're friends till we die And either way you turn I'll be there Open up your skull I'll be there Climbing up the walls It's always best when the light is off It's always better on the outside Fifteen blows to the back of your head Fifteen blows to your mind So lock the kids up safe tonight Shut the eyes in the cupboard I've got the smell of a local man Who's got the loneliest feeling That either way he turns I'll be there Open up your skull I'll be there Climbing up the walls Climbing up the walls Climbing up the walls You are the sun the moon and stars Are you and I could never run away from you You try at working out chaotic things And why should I believe myself, not you It's like the world is gonna end so soon And why should I believe myself? Yeah You, me, and everything Caught in the fire I can see you drowning Caught in the fire You, me, and everything Caught in the fire I can see you drowning Caught in the fire There's a gap in between There's a gap where we meet Where I end and you begin And I'm sorry for us The dinosaurs roam the earth The sky turns green Where I end and you begin (4, 5, 6, 7) I am up in the clouds I am up in the clouds And I can't, and I can't come down I can watch and not take part Where I end and where you start Where you, you left me alone You left me alone X will mark the place Like the parting of the waves Like a house falling in the sea In the sea I will eat you alive I will eat you alive I will eat you alive I will eat you alive And there'll be no more lies There'll be no more lies There'll be no more lies There'll be no more lies I will eat you alive I will eat you alive I will eat you alive I will eat you alive And there'll be no more lies There'll be no more lies There'll be no more lies There'll be no more lies I will eat you alive I will eat you alive I will eat you alive I will eat you alive And there'll be no more lies There'll be no more lies There'll be no more lies There'll be no more lies I will eat you alive I will eat you alive I will eat you alive I'm on a roll I'm on a roll this time I feel my luck could change Kill me, Sarah Kill me again with love It's gonna be a glorious day Pull me out of the aircrash Pull me out of the lake 'Cause I'm your superhero We are standing on the edge The head of state has called for me by name But I don't have time for him It's gonna be a glorious day I feel my luck could change Pull me out of the aircrash Pull me out of the lake 'Cause I'm your superhero We are standing on the edge We are standing on the edge Drag him out your window Dragging out the dead Singing I miss you Snakes and ladders flip the lid Out pops the cracker Smacks you in the head Knives you in the neck Kicks you in the teeth Steel toe caps Takes all your credit cards Get up get the gunge Get the eggs Get the flan in the face The flan in the face The flan in the face Dance you fucker dance you fucker Don't you dare Don't you dare Don't you flan in the face Take it with the love its given Take it with a pinch of salt Take it to the tax man Let me back Let me back I promise to be good Don't look in the mirror at the face you don't recognize Help me, call the doctor, put me inside Put me inside Put me inside Put me inside Put me inside I keep the wolf from the door But he calls me up Calls me on the phone Tells me all the ways that he's gonna mess me up Steal all my children if I don't pay the ransom And I'll never see them again if I squeal to the cops Walking like giant cranes And with my X-ray eyes I strip you naked In a tight little world And are you on the list? Stepford wives who are we to complain? Investments and dealers Investments and dealers Cold wives and mistresses Cold wives and Sunday papers city Boys in first class don't know we're born just know Someone else is gonna come and clean it up Born and raised for the job Someone always does I wish you'd get up get over Get up get over and turn the tape off I keep the wolf from the door But he calls me up Calls me on the phone Tells me all the ways that he's gonna mess me up Steal all my children if I don't pay the ransom And I'll never see them again if I squeal to the cops They love me like I was their brother They protect me Listen to me They dug me my very own garden Gave me sunshine Made me happy Nice dream Nice dream Nice dream I call up my friend the good angel But she's out with Her answer-phone She says she'd love to come help but The sea would Electrocute us all Nice dream Nice dream Nice dream Nice dream Nice dream Nice dream Nice dream, if you think that you're strong enough Nice dream, if you think you belong enough Nice dream, if you think that you're strong enough Nice dream, if you think you belong enough Now come home Now come home Now come home Now come home The mongrel cat came home Holding half a head Proceeded to show it off To all his new found friends He said, I been where I liked I slept with who I liked She ate me up for breakfast She screwed me in a vice But now I don't know why I feel so tongue tied I sat in the cupboard And wrote it down in neat They were cheering and waving Cheering and waving Twitching and salivating Like with myxomatosis But it got edited, fucked up Strangled, beaten up Used as a photo in Time magazine Buried in a burning black hole in Devon I don't know why I feel so tongue tied Don't know why I feel so skinned alive My thoughts are misguided and a little naive I twitch and salivate Like with myxomatosis You should put me in a home or you Should put me down I got myxomatosis I got myxomatosis Yeah no one likes a smart arse But we all like stars That wasn't my intention I did it for a reason It must have got mixed up Strangled beaten up I got myxomatosis I got myxomatosis I don't know why I Feel so tongue tied Get yourself together Let the light pour in Pour yourself a hot bath Pour yourself a drink Nothing's gonna happen without warning Down is the new up What is up, buttercup? Down is the new up Is the new up Won't you be my girl? Won't you be my girl? Your services Are not required Your future's bleak You're so last week Ladies and gentlemen Without a safety net I shall now perform a 180 flip-flop I shall now amputate I shall now contort Because down is the new up What if I just flip-flop? Down is the new up Down is the new up Down is the new up Is the new up You crawled off and left us You crawled off and left us You crawled off and left us All on candid camera The chink in your armour Topsy turvy town Topsy turvy town Shake your pockets out Pass it on Pass it down Topsy turvy town Topsy turvy town I want to see you smile again Like diamonds in the dust The amazing sound of the killing hordes The day the banks collapse on us Cease this endless chattering Like everything is fine When sorry is not good enough Sit in the back while no-one drives So glad, so glad you're mine So glad, so glad you're mine So glad, so glad you're mine So glad, so glad you're mine I might be wrong I might be wrong I could have sworn I saw a light coming on I used to think I used to think There was no future left at all I used to think Start again begin again Let's go down the waterfall Think about the good times and never go back Never go back What would I do? What would I do? If I did not have you? Open up, let me in Let's go down the waterfall Have ourselves a good time It's nothing at all Nothing at all Nothing at all Come back Come back Ah, ah Ah I want you to know He's not coming back Look into my mouth I'm not coming back So knives out Cut him up Don't look down Shove it in your mouth If you'd been a dog They would have drowned you at birth Look into my mouth It's the only way you'll know I'm telling the truth So knives out Cut him up Squash his head Put him in the pot I want you to know He's not coming back His blood is frozen Still there is no point letting it go to waste So knives out Catch the mouse Squash his head Put him in the pot Rows of houses, all bearing down on me I can feel their blue hands touching me All these things into position All these things we'll one day swallow whole And fade out again and fade out This machine will, will not communicate These thoughts and the strain I am under Be a world child, form a circle Before we all go under And fade out again and fade out again Cracked eggs, dead birds Scream as they fight for life I can feel death, can see its beady eyes All these things into position All these things we'll one day swallow whole Fade out again Fade out again Immerse your soul in love Immerse your soul in love You really messed up everything You really messed up everything If you could take it all back again Rows and rows of enemies I'd love to set you free I bet you really miss me This is a foul tasting medicine This is a foul tasting medicine You really messed up this time You just ain't got the message yet Still trapped in your full stop You messed up everything The truth will mess you up The good times Take me back home again Take me back home again Oh, oh, oh Oh, oh, oh Where do we go from here? The words are coming out all weird Where are you now? When I need you Alone on an airplane Falling asleep against the windowpane My blood will thicken I need to wash myself again To hide all the dirt and pain 'Cause I'd be scared That there's nothing underneath And who are my real friends Have they all got the bends? Am I really sinking This slow My baby's got the bends Oh, no We don't have any real friends No, no, no Just lying in a bar with my drip feed on Talking to my girlfriend, waiting for something to happen And I wish it was the sixties, I wish I could be happy I wish, I wish, I wish that something would happen Where do we go from here? The planet is a gunboat in a sea of fear And where are you? They brought in the C.I.A The tanks and the whole marines to blow me away To blow me sky-high Baby's got the bends We don't have any real friends Just lying in a bar with my drip feed on Talking to my girlfriend, waiting for something to happen I wish it was the sixties, I wish I could be happy I wish, I wish, I wish that something would- I want to live, breathe I want to be part of the human race I want to live, breathe I want to be part of the human race, race, race? Where do we go from here? The words are coming out all weird, where are you now? When I need you Slight of hand Jump off the end Into a clear lake No one around Just dragonflies Fantasize No one gets hurt You've done nothing wrong Slide your hand Jump off the end The water's clear And innocent The water's clear And innocent I want to I want to be someone else or I'll explode Floatin' upon this surface for the birds The birds The birds You want me? Fuckin' well, come and find me I'll be waitin' With a gun and a pack of sandwiches And nothin' Nothin' Nothin' You want me? Well, come and break the door down You want me? Fuckin' come and break the door down I'm ready, I'm ready, I'm ready I'm ready, I'm ready I get home from work and you're still standing in your dressing gown Well what am I to do? I know all the things around your head and what they do to you What are we coming to? What are we gonna do? Blame it on the black star Blame it on the falling sky Blame it on the satellite that beams me home The troubled words of a troubled mind I try to understand what is eating you I try to stay awake but its 58 hours since that I last slept with you What are we coming to? I just don't know anymore Blame it on the black star Blame it on the falling sky Blame it on the satellite that beams me home I get on the train and I just stand about now that I don't think of you I keep falling over I keep passing out when I see a face like you What am I coming to? I'm gonna melt down Blame it on the black star Blame it on the falling sky Blame it on the satellite that beams me home This is killing me This is killing me Don't hurt me Don't hurt me Don't hurt me Don't hurt me Gather up the lost and sold (don't hurt me) In your arms (don't hurt me) In your arms (don't hurt me) Gather up the pitiful (don't hurt me) In your arms (don't hurt me) In your arms (don't hurt me) In your arms (don't hurt me) In your arms (don't hurt me) What seems impossible (don't hurt me) In your arms (don't hurt me) I think I have had my fill (don't hurt me) In your arms (don't hurt me) In your arms (don't hurt me) In your arms (don't hurt me) In your arms (don't hurt me) I think I should give up the ghost (don't hurt me) In your arms (don't hurt me) In your arms (don't hurt me) In your arms (don't hurt me) In your arms (don't hurt me) In your arms (don't hurt me) In your arms (don't hurt me) In your arms (don't hurt me) In your arms (don't hurt me) I will Lay me down In a bunker Underground I won't let this happen To my children Meet the real-world coming Out of your shell With white elephants Sitting ducks I will Rise up Little baby's eyes Eyes, eyes, eyes Little baby's eyes Eyes, eyes, eyes In the next world war In a jack knifed juggernaut I am born again In the neon sign Scrolling up and down I am born again In an interstellar burst I am back to save the universe In a deep, deep sleep Of the innocent I am born again In a fast German car I'm amazed that I survived An airbag saved my life In an interstellar burst I am back to save the universe In an interstellar burst I am back to save the universe In an interstellar burst I am back to save the universe Fitter, happier More productive Comfortable Not drinking too much Regular exercise at the gym, three days a week Getting on better with your associate employee contemporaries At ease Eating well, no more microwave dinners and saturated fats A patient, better driver A safer car, baby smiling in back seat Sleeping well, no bad dreams No paranoia Careful to all animals, never washing spiders down the plughole Keep in contact with old friends, enjoy a drink now and then Will frequently check credit at moral bank, hole in wall Favours for favours, fond but not in love Charity standing orders on sundays, ring-road supermarket No killing moths or putting boiling water on the ants Car wash, also on sundays No longer afraid of the dark or midday shadows, nothing so ridiculously teenage and desperate Nothing so childish At a better pace, slower and more calculated No chance of escape Now self-employed Concerned, but powerless An empowered and informed member of societ, pragmatism not idealism Will not cry in public Less chance of illness Tires that grip in the wet, shot of baby strapped in backseat A good memory Still cries at a good film Still kisses with saliva No longer empty and frantic Like a cat Tied to a stick That's driven into Frozen winter shit, the ability to laugh at weakness Calm, fitter, healthier and more productive A pig in a cage on antibiotics When you were here before Couldn't look you in the eye You're just like an angel Your skin makes me cry You float like a feather In a beautiful world I wish I was special You're so fuckin' special But I'm a creep, I'm a weirdo What the hell am I doing here? I don't belong here. I don't care if it hurts I wanna have control I wanna a perfect body I wanna a perfect soul I want you to notice When I'm not around You're so fuckin' special I wish I was special But I'm a creep, I'm a weirdo What the hell am I doing here? I don't belong here. She's running out again, She's running out She's run run run run Run Whatever makes you happy Whatever you want You're so fuckin' special I wish I was special But I'm a creep, I'm a weirdo What the hell am I doing here? I don't belong here I don't belong here You don't wanna talk to me, You don't wanna say the words, You try to get off the hook, You try to get off the hook. Sprawling on a pin, Hanging off the hook, Trying to get yourself away, Trying to get yourself away. There's no use dwelling on, On what might have been, Just think of all the fun, You could be having. We know the way you talk, We know what you want, We know what you want, What you really wanted. Take a look around, There's candles on the cake, On what might have been, The road you should have took, Mistakes mistaken There's no use dwelling on, No use dwelling on. It's such a beautiful day, It's such a beautiful day, Find yourself a ????, Go and get some rest. It's such a beautiful day. It's such a beautiful day. Go up to the mic, Go up to the mic, Go and get some rest. The breath of the morning I keep forgetting The smell of the warm summer air I live in a town Where you can't smell a thing You watch your feet For cracks in the pavement Up above Aliens hover Making home movies For the folks back home Of all these weird creatures Who lock up their spirits Drill holes in themselves And live for their secrets They're all Uptight Uptight Uptight Uptight Uptight Uptight Oh I wish that they'd swoop down in a country lane Late at night when I'm driving Take me on board their beautiful ship Show me the world as I'd love to see it I'd tell all my friends but they'd never believe me They'd think that I'd finally lost it completely I'd show them the stars and the meaning of life They'd shut me away But I'd be alright Alright I'm alright Alright I'm just Uptight Uptight Uptight Uptight Uptight Uptight Uptight Uptight Uptight Everyone Everyone around here Everyone is so near It's holding on It's holding on Everyone Everyone is so near Everyone has got the fear It's holding on It's holding on It's holding on It's holding on It's holding on Wish that I could come out of the fog Superhero powers Burst out of the sand in a bunch of flowers you just say the word, apparition comes with a long and winning handsome smile wish we could connect Step into the fog of the diving board blend into the light down the cable lines roll onto the earth reforming on the wind two places at once taste the air with you undo all the ties wish that I could flip one of those lies lift us on the wind see that stretchy smile go Right across your Face Cut a hole (2x) a hole (2x).\""
            ],
            "application/vnd.google.colaboratory.intrinsic+json": {
              "type": "string"
            }
          },
          "metadata": {},
          "execution_count": 24
        }
      ],
      "source": [
        "# Concatenamos todos los rows en un solo valor\n",
        "corpus = df.apply(lambda row: ' '.join(row.values.astype(str)), axis=0)[0]\n",
        "corpus"
      ]
    },
    {
      "cell_type": "code",
      "execution_count": 25,
      "metadata": {
        "id": "_KlsYd7_uOez",
        "colab": {
          "base_uri": "https://localhost:8080/"
        },
        "outputId": "ff0b0e77-7bc2-4237-aab0-867e9448d52e"
      },
      "outputs": [
        {
          "output_type": "execute_result",
          "data": {
            "text/plain": [
              "['come',\n",
              " 'on',\n",
              " 'come',\n",
              " 'on',\n",
              " 'you',\n",
              " 'think',\n",
              " 'you',\n",
              " 'drive',\n",
              " 'me',\n",
              " 'crazy',\n",
              " 'come',\n",
              " 'on',\n",
              " 'come',\n",
              " 'on',\n",
              " 'you',\n",
              " 'and',\n",
              " 'whose',\n",
              " 'army',\n",
              " 'you',\n",
              " 'and']"
            ]
          },
          "metadata": {},
          "execution_count": 25
        }
      ],
      "source": [
        "# Transformar el corpus a tokens\n",
        "tokens=text_to_word_sequence(corpus)\n",
        "# Vistazo general de los primeros tokens\n",
        "tokens[:20]"
      ]
    },
    {
      "cell_type": "code",
      "execution_count": 26,
      "metadata": {
        "id": "GlqpZSJOJ1xQ",
        "colab": {
          "base_uri": "https://localhost:8080/"
        },
        "outputId": "fa5969ba-507d-4767-a10e-faac1a0496b4"
      },
      "outputs": [
        {
          "output_type": "stream",
          "name": "stdout",
          "text": [
            "Cantidad de tokens en el corpus: 11803\n"
          ]
        }
      ],
      "source": [
        "print(\"Cantidad de tokens en el corpus:\", len(tokens))"
      ]
    },
    {
      "cell_type": "code",
      "execution_count": 27,
      "metadata": {
        "id": "RhQevOynuYk2"
      },
      "outputs": [],
      "source": [
        "# Código para hacer el desfazaje de las palabras\n",
        "# según el train_len\n",
        "text_sequences = []\n",
        "for i in range(train_len, len(tokens)):\n",
        "  seq = tokens[i-train_len:i]\n",
        "  text_sequences.append(seq)"
      ]
    },
    {
      "cell_type": "code",
      "execution_count": 28,
      "metadata": {
        "id": "FU3FuqHSuhzq",
        "colab": {
          "base_uri": "https://localhost:8080/"
        },
        "outputId": "5dc49016-71b6-42bb-cba9-4eca81dbe676"
      },
      "outputs": [
        {
          "output_type": "execute_result",
          "data": {
            "text/plain": [
              "[['come', 'on', 'come', 'on'],\n",
              " ['on', 'come', 'on', 'you'],\n",
              " ['come', 'on', 'you', 'think'],\n",
              " ['on', 'you', 'think', 'you'],\n",
              " ['you', 'think', 'you', 'drive'],\n",
              " ['think', 'you', 'drive', 'me'],\n",
              " ['you', 'drive', 'me', 'crazy'],\n",
              " ['drive', 'me', 'crazy', 'come'],\n",
              " ['me', 'crazy', 'come', 'on'],\n",
              " ['crazy', 'come', 'on', 'come'],\n",
              " ['come', 'on', 'come', 'on'],\n",
              " ['on', 'come', 'on', 'you'],\n",
              " ['come', 'on', 'you', 'and'],\n",
              " ['on', 'you', 'and', 'whose'],\n",
              " ['you', 'and', 'whose', 'army'],\n",
              " ['and', 'whose', 'army', 'you'],\n",
              " ['whose', 'army', 'you', 'and'],\n",
              " ['army', 'you', 'and', 'your'],\n",
              " ['you', 'and', 'your', 'cronies'],\n",
              " ['and', 'your', 'cronies', 'come']]"
            ]
          },
          "metadata": {},
          "execution_count": 28
        }
      ],
      "source": [
        "# Demos un vistazo a nuestros vectores para entrenar el modelo\n",
        "text_sequences[:20]"
      ]
    },
    {
      "cell_type": "code",
      "execution_count": 29,
      "metadata": {
        "id": "064N2jtLvHRg",
        "colab": {
          "base_uri": "https://localhost:8080/"
        },
        "outputId": "ce16a9fd-e69a-48de-a39d-e2b8b6ef036e"
      },
      "outputs": [
        {
          "output_type": "execute_result",
          "data": {
            "text/plain": [
              "[[47, 13, 47, 13],\n",
              " [13, 47, 13, 2],\n",
              " [47, 13, 2, 82],\n",
              " [13, 2, 82, 2],\n",
              " [2, 82, 2, 915],\n",
              " [82, 2, 915, 7],\n",
              " [2, 915, 7, 492],\n",
              " [915, 7, 492, 47],\n",
              " [7, 492, 47, 13],\n",
              " [492, 47, 13, 47],\n",
              " [47, 13, 47, 13],\n",
              " [13, 47, 13, 2],\n",
              " [47, 13, 2, 4],\n",
              " [13, 2, 4, 617],\n",
              " [2, 4, 617, 618],\n",
              " [4, 617, 618, 2],\n",
              " [617, 618, 2, 4],\n",
              " [618, 2, 4, 9],\n",
              " [2, 4, 9, 619],\n",
              " [4, 9, 619, 47]]"
            ]
          },
          "metadata": {},
          "execution_count": 29
        }
      ],
      "source": [
        "# Proceso de tokenizacion\n",
        "tok = Tokenizer() \n",
        "tok.fit_on_texts(text_sequences) \n",
        "\n",
        "# Convertimos las palabras a números\n",
        "# entran palabras -> salen números\n",
        "sequences = tok.texts_to_sequences(text_sequences)\n",
        "\n",
        "# Damos un vistazo\n",
        "sequences[:20]"
      ]
    },
    {
      "cell_type": "code",
      "execution_count": 30,
      "metadata": {
        "id": "vwsvmvDKKXSP",
        "colab": {
          "base_uri": "https://localhost:8080/"
        },
        "outputId": "c6f282f9-fe5d-4e89-91a6-4f328c7a0335"
      },
      "outputs": [
        {
          "output_type": "stream",
          "name": "stdout",
          "text": [
            "Cantidad de rows del dataset: 11799\n"
          ]
        }
      ],
      "source": [
        "print(\"Cantidad de rows del dataset:\", len(sequences))"
      ]
    },
    {
      "cell_type": "markdown",
      "metadata": {
        "id": "QMVP4bj0vL2e"
      },
      "source": [
        "### 3 - Input y target"
      ]
    },
    {
      "cell_type": "code",
      "execution_count": 31,
      "metadata": {
        "id": "mx2xwdz3KloJ",
        "colab": {
          "base_uri": "https://localhost:8080/"
        },
        "outputId": "eeae6b83-abb5-45be-ca5e-36fa0b216214"
      },
      "outputs": [
        {
          "output_type": "execute_result",
          "data": {
            "text/plain": [
              "array([[1, 2, 3, 4],\n",
              "       [5, 6, 7, 8]])"
            ]
          },
          "metadata": {},
          "execution_count": 31
        }
      ],
      "source": [
        "# Con numpy es muy fácil realizar el slicing de vectores\n",
        "ex = np.array([[1,2,3,4],[5,6,7,8]])\n",
        "ex"
      ]
    },
    {
      "cell_type": "code",
      "execution_count": 32,
      "metadata": {
        "id": "BEod7qghvTVt",
        "colab": {
          "base_uri": "https://localhost:8080/"
        },
        "outputId": "607125b4-91ef-493b-c2e8-207e1e276825"
      },
      "outputs": [
        {
          "output_type": "stream",
          "name": "stdout",
          "text": [
            "Dimension: (2, 4)\n",
            "Todos los elementos: [[1 2 3 4]\n",
            " [5 6 7 8]]\n",
            "Todos los elementos menos el último: [[1 2 3]\n",
            " [5 6 7]]\n"
          ]
        }
      ],
      "source": [
        "# Con numpy es muy fácil realizar el slicing de vectores\n",
        "print(\"Dimension:\", ex.shape)\n",
        "print(\"Todos los elementos:\", ex)\n",
        "print(\"Todos los elementos menos el último:\", ex[:, :-1])"
      ]
    },
    {
      "cell_type": "code",
      "execution_count": 33,
      "metadata": {
        "id": "i95xWqtCvp8T",
        "colab": {
          "base_uri": "https://localhost:8080/"
        },
        "outputId": "a57f4562-e92c-42c8-a671-3e3fa32ecb0b"
      },
      "outputs": [
        {
          "output_type": "stream",
          "name": "stdout",
          "text": [
            "Input: [[1 2 3]\n",
            " [5 6 7]]\n",
            "Target: [4 8]\n"
          ]
        }
      ],
      "source": [
        "input = ex[:,:-1] # todos los rows, menos la ultima col\n",
        "target = ex[:, -1] # última col de cada row\n",
        "\n",
        "print(\"Input:\", input)\n",
        "print(\"Target:\", target)"
      ]
    },
    {
      "cell_type": "code",
      "execution_count": 34,
      "metadata": {
        "id": "e1vJTG65v4Qn",
        "colab": {
          "base_uri": "https://localhost:8080/"
        },
        "outputId": "3eb8ce2a-44eb-4368-c924-3da126bc4edd"
      },
      "outputs": [
        {
          "output_type": "stream",
          "name": "stdout",
          "text": [
            "(11799, 3)\n",
            "(11799,)\n"
          ]
        }
      ],
      "source": [
        "arr_sequences = np.array(sequences)\n",
        "x_data = arr_sequences[:,:-1]\n",
        "y_data_int = arr_sequences[:,-1] # aún falta el oneHotEncoder\n",
        "\n",
        "print(x_data.shape)\n",
        "print(y_data_int.shape)"
      ]
    },
    {
      "cell_type": "code",
      "execution_count": 35,
      "metadata": {
        "id": "ln6kVWVlwBBs",
        "colab": {
          "base_uri": "https://localhost:8080/"
        },
        "outputId": "45c06384-a726-444b-ae9f-aaf848cb4dad"
      },
      "outputs": [
        {
          "output_type": "execute_result",
          "data": {
            "text/plain": [
              "{1: 'the',\n",
              " 2: 'you',\n",
              " 3: 'i',\n",
              " 4: 'and',\n",
              " 5: 'a',\n",
              " 6: 'to',\n",
              " 7: 'me',\n",
              " 8: 'in',\n",
              " 9: 'your',\n",
              " 10: 'it',\n",
              " 11: \"don't\",\n",
              " 12: 'all',\n",
              " 13: 'on',\n",
              " 14: 'is',\n",
              " 15: \"i'm\",\n",
              " 16: 'of',\n",
              " 17: 'up',\n",
              " 18: 'out',\n",
              " 19: 'no',\n",
              " 20: 'be',\n",
              " 21: 'my',\n",
              " 22: 'we',\n",
              " 23: 'what',\n",
              " 24: 'will',\n",
              " 25: \"it's\",\n",
              " 26: 'not',\n",
              " 27: 'just',\n",
              " 28: 'can',\n",
              " 29: 'this',\n",
              " 30: 'down',\n",
              " 31: 'that',\n",
              " 32: 'are',\n",
              " 33: 'want',\n",
              " 34: 'do',\n",
              " 35: 'get',\n",
              " 36: 'know',\n",
              " 37: 'with',\n",
              " 38: 'so',\n",
              " 39: 'but',\n",
              " 40: 'where',\n",
              " 41: 'like',\n",
              " 42: 'if',\n",
              " 43: 'for',\n",
              " 44: 'alive',\n",
              " 45: 'one',\n",
              " 46: 'now',\n",
              " 47: 'come',\n",
              " 48: 'they',\n",
              " 49: 'back',\n",
              " 50: 'here',\n",
              " 51: 'take',\n",
              " 52: 'oh',\n",
              " 53: 'off',\n",
              " 54: \"you're\",\n",
              " 55: 'there',\n",
              " 56: \"i'll\",\n",
              " 57: 'see',\n",
              " 58: 'again',\n",
              " 59: 'hurt',\n",
              " 60: 'from',\n",
              " 61: 'am',\n",
              " 62: 'eat',\n",
              " 63: 'should',\n",
              " 64: 'when',\n",
              " 65: 'around',\n",
              " 66: 'more',\n",
              " 67: 'got',\n",
              " 68: 'really',\n",
              " 69: 'at',\n",
              " 70: 'let',\n",
              " 71: 'lies',\n",
              " 72: 'have',\n",
              " 73: 'love',\n",
              " 74: 'as',\n",
              " 75: 'rain',\n",
              " 76: 'good',\n",
              " 77: 'us',\n",
              " 78: 'go',\n",
              " 79: \"there's\",\n",
              " 80: \"there'll\",\n",
              " 81: 'yourself',\n",
              " 82: 'think',\n",
              " 83: 'too',\n",
              " 84: 'into',\n",
              " 85: 'by',\n",
              " 86: 'everything',\n",
              " 87: 'arms',\n",
              " 88: 'wish',\n",
              " 89: 'leave',\n",
              " 90: 'best',\n",
              " 91: 'feel',\n",
              " 92: 'coming',\n",
              " 93: 'little',\n",
              " 94: \"can't\",\n",
              " 95: 'eyes',\n",
              " 96: 'broken',\n",
              " 97: 'mess',\n",
              " 98: 'day',\n",
              " 99: 'an',\n",
              " 100: 'run',\n",
              " 101: 'time',\n",
              " 102: 'or',\n",
              " 103: 'make',\n",
              " 104: 'lost',\n",
              " 105: 'nothing',\n",
              " 106: 'head',\n",
              " 107: 'enough',\n",
              " 108: 'children',\n",
              " 109: 'been',\n",
              " 110: 'truth',\n",
              " 111: 'light',\n",
              " 112: 'away',\n",
              " 113: 'hearts',\n",
              " 114: \"i've\",\n",
              " 115: 'try',\n",
              " 116: 'ah',\n",
              " 117: 'was',\n",
              " 118: 'wrong',\n",
              " 119: 'over',\n",
              " 120: 'gonna',\n",
              " 121: 'never',\n",
              " 122: 'could',\n",
              " 123: 'still',\n",
              " 124: 'dream',\n",
              " 125: 'end',\n",
              " 126: 'before',\n",
              " 127: 'why',\n",
              " 128: \"'cause\",\n",
              " 129: 'home',\n",
              " 130: 'attention',\n",
              " 131: 'efil',\n",
              " 132: 'ym',\n",
              " 133: 'fo',\n",
              " 134: 'flah',\n",
              " 135: 'moon',\n",
              " 136: 'how',\n",
              " 137: \"you'll\",\n",
              " 138: \"you've\",\n",
              " 139: 'these',\n",
              " 140: 'inside',\n",
              " 141: 'myself',\n",
              " 142: 'first',\n",
              " 143: 'messed',\n",
              " 144: 'uptight',\n",
              " 145: 'right',\n",
              " 146: 'place',\n",
              " 147: 'falling',\n",
              " 148: 'free',\n",
              " 149: 'face',\n",
              " 150: 'put',\n",
              " 151: 'way',\n",
              " 152: 'yeah',\n",
              " 153: 'things',\n",
              " 154: 'keep',\n",
              " 155: 'who',\n",
              " 156: 'such',\n",
              " 157: 'about',\n",
              " 158: 'its',\n",
              " 159: 'upon',\n",
              " 160: 'nice',\n",
              " 161: 'look',\n",
              " 162: 'world',\n",
              " 163: 'special',\n",
              " 164: 'belong',\n",
              " 165: 'heart',\n",
              " 166: \"that's\",\n",
              " 167: 'had',\n",
              " 168: 'set',\n",
              " 169: 'then',\n",
              " 170: 'wears',\n",
              " 171: 'say',\n",
              " 172: 'times',\n",
              " 173: 'fade',\n",
              " 174: 'ready',\n",
              " 175: 'ringing',\n",
              " 176: 'man',\n",
              " 177: 'him',\n",
              " 178: 'soul',\n",
              " 179: \"won't\",\n",
              " 180: \"we're\",\n",
              " 181: 'comes',\n",
              " 182: 'else',\n",
              " 183: 'bit',\n",
              " 184: 'would',\n",
              " 185: 'believe',\n",
              " 186: 'dead',\n",
              " 187: 'happen',\n",
              " 188: 'left',\n",
              " 189: 'hell',\n",
              " 190: 'need',\n",
              " 191: 'because',\n",
              " 192: 'two',\n",
              " 193: 'dry',\n",
              " 194: 'mine',\n",
              " 195: \"i'd\",\n",
              " 196: 'walls',\n",
              " 197: 'always',\n",
              " 198: 'blame',\n",
              " 199: 'he',\n",
              " 200: 'hanging',\n",
              " 201: \"payin'\",\n",
              " 202: 'open',\n",
              " 203: 'new',\n",
              " 204: 'ghost',\n",
              " 205: 'earth',\n",
              " 206: 'sky',\n",
              " 207: 'care',\n",
              " 208: 'wanna',\n",
              " 209: 'waiting',\n",
              " 210: 'life',\n",
              " 211: 'alarms',\n",
              " 212: 'surprises',\n",
              " 213: 'high',\n",
              " 214: 'escape',\n",
              " 215: 'dance',\n",
              " 216: 'cut',\n",
              " 217: 'her',\n",
              " 218: 'used',\n",
              " 219: 'friends',\n",
              " 220: 'birds',\n",
              " 221: 'much',\n",
              " 222: 'something',\n",
              " 223: 'body',\n",
              " 224: 'taking',\n",
              " 225: 'house',\n",
              " 226: 'float',\n",
              " 227: \"fuckin'\",\n",
              " 228: 'whatever',\n",
              " 229: 'stick',\n",
              " 230: 'ever',\n",
              " 231: 'gone',\n",
              " 232: 'under',\n",
              " 233: 'denial',\n",
              " 234: 'turn',\n",
              " 235: 'she',\n",
              " 236: 'mean',\n",
              " 237: 'reach',\n",
              " 238: 'someone',\n",
              " 239: 'real',\n",
              " 240: 'his',\n",
              " 241: 'seen',\n",
              " 242: 'red',\n",
              " 243: 'blue',\n",
              " 244: 'videotape',\n",
              " 245: 'holding',\n",
              " 246: 'glad',\n",
              " 247: 'sea',\n",
              " 248: 'makes',\n",
              " 249: 'beautiful',\n",
              " 250: 'doing',\n",
              " 251: \"she's\",\n",
              " 252: 'happy',\n",
              " 253: 'full',\n",
              " 254: 'slowly',\n",
              " 255: 'stop',\n",
              " 256: 'ones',\n",
              " 257: 'thing',\n",
              " 258: 'weird',\n",
              " 259: 'round',\n",
              " 260: 'dark',\n",
              " 261: 'empty',\n",
              " 262: 'flowers',\n",
              " 263: \"we'll\",\n",
              " 264: \"he's\",\n",
              " 265: 'through',\n",
              " 266: 'killing',\n",
              " 267: 'laugh',\n",
              " 268: 'has',\n",
              " 269: 'door',\n",
              " 270: 'live',\n",
              " 271: 'their',\n",
              " 272: 'poison',\n",
              " 273: 'well',\n",
              " 274: 'burst',\n",
              " 275: 'happening',\n",
              " 276: 'born',\n",
              " 277: 'last',\n",
              " 278: 'standing',\n",
              " 279: 'long',\n",
              " 280: 'breathing',\n",
              " 281: 'choke',\n",
              " 282: 'hook',\n",
              " 283: 'did',\n",
              " 284: 'stars',\n",
              " 285: 'green',\n",
              " 286: 'alone',\n",
              " 287: 'were',\n",
              " 288: 'creep',\n",
              " 289: 'weirdo',\n",
              " 290: 'hurts',\n",
              " 291: 'trapped',\n",
              " 292: 'speak',\n",
              " 293: 'please',\n",
              " 294: 'pretty',\n",
              " 295: 'talk',\n",
              " 296: 'fall',\n",
              " 297: \"they're\",\n",
              " 298: 'once',\n",
              " 299: 'stay',\n",
              " 300: 'song',\n",
              " 301: 'cat',\n",
              " 302: \"what's\",\n",
              " 303: 'other',\n",
              " 304: 'listen',\n",
              " 305: 'while',\n",
              " 306: 'mind',\n",
              " 307: 'thinking',\n",
              " 308: 'town',\n",
              " 309: 'swallow',\n",
              " 310: 'alright',\n",
              " 311: 'some',\n",
              " 312: 'great',\n",
              " 313: 'height',\n",
              " 314: 'shadows',\n",
              " 315: 'houses',\n",
              " 316: 'fire',\n",
              " 317: 'tried',\n",
              " 318: 'stuffed',\n",
              " 319: 'bed',\n",
              " 320: 'black',\n",
              " 321: 'mouth',\n",
              " 322: 'giant',\n",
              " 323: 'give',\n",
              " 324: 'clear',\n",
              " 325: 'suck',\n",
              " 326: 'myxomatosis',\n",
              " 327: 'everyone',\n",
              " 328: 'hole',\n",
              " 329: 'forget',\n",
              " 330: 'tonight',\n",
              " 331: 'horses',\n",
              " 332: 'big',\n",
              " 333: 'sleep',\n",
              " 334: 'begin',\n",
              " 335: 'dinosaurs',\n",
              " 336: 'eye',\n",
              " 337: 'perfect',\n",
              " 338: 'running',\n",
              " 339: 'wings',\n",
              " 340: 'only',\n",
              " 341: 'drop',\n",
              " 342: 'another',\n",
              " 343: 'turning',\n",
              " 344: 'cards',\n",
              " 345: 'bottom',\n",
              " 346: 'hit',\n",
              " 347: 'hand',\n",
              " 348: 'goes',\n",
              " 349: 'words',\n",
              " 350: 'lonely',\n",
              " 351: 'name',\n",
              " 352: 'space',\n",
              " 353: 'weeds',\n",
              " 354: 'root',\n",
              " 355: 'lotus',\n",
              " 356: 'fast',\n",
              " 357: 'feed',\n",
              " 358: 'people',\n",
              " 359: 'help',\n",
              " 360: 'blow',\n",
              " 361: 'hide',\n",
              " 362: 'hour',\n",
              " 363: 'lie',\n",
              " 364: 'late',\n",
              " 365: 'needed',\n",
              " 366: 'rest',\n",
              " 367: 'wall',\n",
              " 368: 'remember',\n",
              " 369: 'panic',\n",
              " 370: 'done',\n",
              " 371: 'talking',\n",
              " 372: 'burn',\n",
              " 373: 'whole',\n",
              " 374: 'fear',\n",
              " 375: \"who's\",\n",
              " 376: 'bunker',\n",
              " 377: 'ice',\n",
              " 378: 'better',\n",
              " 379: 'universe',\n",
              " 380: 'our',\n",
              " 381: 'side',\n",
              " 382: 'innocent',\n",
              " 383: 'alarm',\n",
              " 384: 'ride',\n",
              " 385: 'sail',\n",
              " 386: 'wash',\n",
              " 387: 'them',\n",
              " 388: 'gap',\n",
              " 389: 'turns',\n",
              " 390: 'clouds',\n",
              " 391: 'watch',\n",
              " 392: 'part',\n",
              " 393: 'start',\n",
              " 394: 'cry',\n",
              " 395: 'car',\n",
              " 396: 'lying',\n",
              " 397: 'trying',\n",
              " 398: 'job',\n",
              " 399: 'flying',\n",
              " 400: 'ground',\n",
              " 401: 'beneath',\n",
              " 402: 'kill',\n",
              " 403: 'throw',\n",
              " 404: 'ears',\n",
              " 405: 'edge',\n",
              " 406: 'chance',\n",
              " 407: 'fishes',\n",
              " 408: \"doesn't\",\n",
              " 409: 'shoulder',\n",
              " 410: 'dancing',\n",
              " 411: 'human',\n",
              " 412: 'messing',\n",
              " 413: 'create',\n",
              " 414: 'shrink',\n",
              " 415: 'kick',\n",
              " 416: 'habit',\n",
              " 417: 'fill',\n",
              " 418: 'ballooning',\n",
              " 419: 'bird',\n",
              " 420: 'room',\n",
              " 421: 'darkness',\n",
              " 422: 'any',\n",
              " 423: 'white',\n",
              " 424: 'police',\n",
              " 425: 'minute',\n",
              " 426: 'hysterical',\n",
              " 427: 'plastic',\n",
              " 428: 'living',\n",
              " 429: 'smile',\n",
              " 430: 'sound',\n",
              " 431: 'sing',\n",
              " 432: 'box',\n",
              " 433: 'tongue',\n",
              " 434: 'against',\n",
              " 435: 'does',\n",
              " 436: 'witch',\n",
              " 437: 'reason',\n",
              " 438: 'rows',\n",
              " 439: 'position',\n",
              " 440: 'immerse',\n",
              " 441: 'today',\n",
              " 442: 'spectre',\n",
              " 443: 'break',\n",
              " 444: 'until',\n",
              " 445: 'age',\n",
              " 446: 'eyed',\n",
              " 447: 'pour',\n",
              " 448: 'foul',\n",
              " 449: 'tasting',\n",
              " 450: 'medicine',\n",
              " 451: 'kid',\n",
              " 452: 'yesterday',\n",
              " 453: 'woke',\n",
              " 454: 'sucking',\n",
              " 455: 'lemon',\n",
              " 456: 'fish',\n",
              " 457: 'ought',\n",
              " 458: 'star',\n",
              " 459: 'breathe',\n",
              " 460: 'hope',\n",
              " 461: 'keeps',\n",
              " 462: 'morning',\n",
              " 463: 'crook',\n",
              " 464: 'jump',\n",
              " 465: 'lake',\n",
              " 466: \"water's\",\n",
              " 467: 'gather',\n",
              " 468: 'fallen',\n",
              " 469: 'vivid',\n",
              " 470: 'carrying',\n",
              " 471: 'bend',\n",
              " 472: 'bells',\n",
              " 473: 'frightened',\n",
              " 474: 'bright',\n",
              " 475: 'powerful',\n",
              " 476: 'climbing',\n",
              " 477: 'caught',\n",
              " 478: 'pull',\n",
              " 479: 'flip',\n",
              " 480: 'knives',\n",
              " 481: 'flan',\n",
              " 482: 'calls',\n",
              " 483: 'tied',\n",
              " 484: 'topsy',\n",
              " 485: 'turvy',\n",
              " 486: 'might',\n",
              " 487: \"baby's\",\n",
              " 488: 'race',\n",
              " 489: 'interstellar',\n",
              " 490: 'save',\n",
              " 491: \"they'd\",\n",
              " 492: 'crazy',\n",
              " 493: 'soon',\n",
              " 494: 'maybe',\n",
              " 495: 'between',\n",
              " 496: 'meet',\n",
              " 497: 'sorry',\n",
              " 498: 'x',\n",
              " 499: 'angel',\n",
              " 500: 'control',\n",
              " 501: 'animal',\n",
              " 502: 'leaves',\n",
              " 503: 'night',\n",
              " 504: 'quiet',\n",
              " 505: 'week',\n",
              " 506: 'broke',\n",
              " 507: 'pieces',\n",
              " 508: 'sit',\n",
              " 509: 'matter',\n",
              " 510: 'burning',\n",
              " 511: 'ocean',\n",
              " 512: 'follow',\n",
              " 513: 'magic',\n",
              " 514: 'longer',\n",
              " 515: 'shape',\n",
              " 516: 'noise',\n",
              " 517: 'point',\n",
              " 518: 'mic',\n",
              " 519: 'pass',\n",
              " 520: 'walking',\n",
              " 521: 'heaven',\n",
              " 522: 'dare',\n",
              " 523: 'karma',\n",
              " 524: 'girl',\n",
              " 525: 'given',\n",
              " 526: 'crushed',\n",
              " 527: 'bug',\n",
              " 528: 'fake',\n",
              " 529: 'rubber',\n",
              " 530: 'cracked',\n",
              " 531: 'burns',\n",
              " 532: 'wanted',\n",
              " 533: 'feet',\n",
              " 534: 'hands',\n",
              " 535: 'cover',\n",
              " 536: 'heads',\n",
              " 537: 'lay',\n",
              " 538: 'scream',\n",
              " 539: 'string',\n",
              " 540: 'fifteen',\n",
              " 541: 'beyond',\n",
              " 542: 'return',\n",
              " 543: 'window',\n",
              " 544: 'holes',\n",
              " 545: 'yes',\n",
              " 546: 'move',\n",
              " 547: 'century',\n",
              " 548: 'fight',\n",
              " 549: 'scared',\n",
              " 550: 'days',\n",
              " 551: 'three',\n",
              " 552: 'loose',\n",
              " 553: 'thoughts',\n",
              " 554: 'eggs',\n",
              " 555: 'self',\n",
              " 556: 'present',\n",
              " 557: 'moving',\n",
              " 558: 'futures',\n",
              " 559: 'past',\n",
              " 560: 'find',\n",
              " 561: 'pack',\n",
              " 562: 'hear',\n",
              " 563: 'both',\n",
              " 564: 'money',\n",
              " 565: 'strong',\n",
              " 566: 'cold',\n",
              " 567: 'somewhere',\n",
              " 568: 'call',\n",
              " 569: 'power',\n",
              " 570: 'river',\n",
              " 571: 'wind',\n",
              " 572: 'totally',\n",
              " 573: 'deep',\n",
              " 574: 'tingling',\n",
              " 575: 'neck',\n",
              " 576: 'bow',\n",
              " 577: 'tumbling',\n",
              " 578: 'duplicate',\n",
              " 579: 'far',\n",
              " 580: 'went',\n",
              " 581: 'ow',\n",
              " 582: 'either',\n",
              " 583: 'baby',\n",
              " 584: 'gets',\n",
              " 585: 'nerve',\n",
              " 586: 'somersaults',\n",
              " 587: \"turtle's\",\n",
              " 588: 'jellyfish',\n",
              " 589: \"isn't\",\n",
              " 590: 'mr',\n",
              " 591: 'magpie',\n",
              " 592: 'took',\n",
              " 593: 'cause',\n",
              " 594: 'every',\n",
              " 595: 'finally',\n",
              " 596: 'blows',\n",
              " 597: 'genie',\n",
              " 598: 'bottle',\n",
              " 599: 'iron',\n",
              " 600: 'lung',\n",
              " 601: 'roaming',\n",
              " 602: 'lock',\n",
              " 603: 'smell',\n",
              " 604: 'roll',\n",
              " 605: 'superhero',\n",
              " 606: 'phone',\n",
              " 607: 'wives',\n",
              " 608: 'show',\n",
              " 609: 'shall',\n",
              " 610: 'crawled',\n",
              " 611: 'bends',\n",
              " 612: \"nothin'\",\n",
              " 613: 'satellite',\n",
              " 614: 'beams',\n",
              " 615: 'use',\n",
              " 616: 'dwelling',\n",
              " 617: 'whose',\n",
              " 618: 'army',\n",
              " 619: 'cronies',\n",
              " 620: 'holy',\n",
              " 621: 'dropped',\n",
              " 622: \"someone's\",\n",
              " 623: 'tiptoe',\n",
              " 624: 'tie',\n",
              " 625: 'roam',\n",
              " 626: '4',\n",
              " 627: '5',\n",
              " 628: '6',\n",
              " 629: '7',\n",
              " 630: 'mark',\n",
              " 631: 'parting',\n",
              " 632: 'waves',\n",
              " 633: \"couldn't\",\n",
              " 634: 'skin',\n",
              " 635: 'feather',\n",
              " 636: 'notice',\n",
              " 637: 'next',\n",
              " 638: 'middle',\n",
              " 639: 'picture',\n",
              " 640: 'silent',\n",
              " 641: 'final',\n",
              " 642: 'garden',\n",
              " 643: 'bet',\n",
              " 644: 'mirror',\n",
              " 645: 'drying',\n",
              " 646: 'cannot',\n",
              " 647: \"who'll\",\n",
              " 648: 'screaming',\n",
              " 649: 'friend',\n",
              " 650: 'ends',\n",
              " 651: 'table',\n",
              " 652: 'swept',\n",
              " 653: 'collapse',\n",
              " 654: 'kiss',\n",
              " 655: 'worms',\n",
              " 656: 'number',\n",
              " 657: 'abandon',\n",
              " 658: 'beat',\n",
              " 659: 'jigsaws',\n",
              " 660: 'looks',\n",
              " 661: 'nightmare',\n",
              " 662: 'singing',\n",
              " 663: 'accidents',\n",
              " 664: 'reckoner',\n",
              " 665: 'yer',\n",
              " 666: 'dedicated',\n",
              " 667: 'beings',\n",
              " 668: 'separate',\n",
              " 669: 'ripples',\n",
              " 670: 'blank',\n",
              " 671: 'shore',\n",
              " 672: 'sweet',\n",
              " 673: 'faced',\n",
              " 674: 'ragdoll',\n",
              " 675: 'mankind',\n",
              " 676: 'pocket',\n",
              " 677: 'invisible',\n",
              " 678: 'disappear',\n",
              " 679: 'slip',\n",
              " 680: 'groove',\n",
              " 681: 'unfurl',\n",
              " 682: 'mice',\n",
              " 683: 'lights',\n",
              " 684: 'pit',\n",
              " 685: 'ideas',\n",
              " 686: 'found',\n",
              " 687: 'arrest',\n",
              " 688: 'making',\n",
              " 689: 'phew',\n",
              " 690: 'bottles',\n",
              " 691: 'shell',\n",
              " 692: 'twitch',\n",
              " 693: 'grow',\n",
              " 694: 'chemical',\n",
              " 695: 'reaction',\n",
              " 696: 'useless',\n",
              " 697: 'floor',\n",
              " 698: 'bought',\n",
              " 699: 'lives',\n",
              " 700: 'feeling',\n",
              " 701: 'peace',\n",
              " 702: 'true',\n",
              " 703: 'spacecraft',\n",
              " 704: 'blocking',\n",
              " 705: 'nowhere',\n",
              " 706: 'loudest',\n",
              " 707: 'heard',\n",
              " 708: 'darkest',\n",
              " 709: 'five',\n",
              " 710: 'flies',\n",
              " 711: 'hail',\n",
              " 712: 'thief',\n",
              " 713: 'king',\n",
              " 714: 'started',\n",
              " 715: 'ball',\n",
              " 716: 'reel',\n",
              " 717: 'happened',\n",
              " 718: 'etcetera',\n",
              " 719: 'guess',\n",
              " 720: 'dust',\n",
              " 721: 'vomit',\n",
              " 722: 'god',\n",
              " 723: 'loves',\n",
              " 724: 'learn',\n",
              " 725: 'damage',\n",
              " 726: 'sun',\n",
              " 727: 'serve',\n",
              " 728: 'understand',\n",
              " 729: 'check',\n",
              " 730: 'idea',\n",
              " 731: '21st',\n",
              " 732: 'dog',\n",
              " 733: 'brought',\n",
              " 734: 'anyone',\n",
              " 735: 'patient',\n",
              " 736: \"didn't\",\n",
              " 737: 'teach',\n",
              " 738: 'hey',\n",
              " 739: 'low',\n",
              " 740: 'attack',\n",
              " 741: 'contact',\n",
              " 742: 'bearing',\n",
              " 743: 'touching',\n",
              " 744: 'machine',\n",
              " 745: 'communicate',\n",
              " 746: 'strain',\n",
              " 747: 'child',\n",
              " 748: 'form',\n",
              " 749: 'circle',\n",
              " 750: 'death',\n",
              " 751: 'beady',\n",
              " 752: 'afraid',\n",
              " 753: 'weapon',\n",
              " 754: 'defense',\n",
              " 755: 'heavy',\n",
              " 756: 'dumb',\n",
              " 757: 'vain',\n",
              " 758: \"one's\",\n",
              " 759: 'hunger',\n",
              " 760: 'bullet',\n",
              " 761: 'mortal',\n",
              " 762: 'spell',\n",
              " 763: 'explode',\n",
              " 764: 'floating',\n",
              " 765: 'surface',\n",
              " 766: 'fucking',\n",
              " 767: 'gun',\n",
              " 768: 'sandwiches',\n",
              " 769: 'women',\n",
              " 770: 'till',\n",
              " 771: \"haven't\",\n",
              " 772: 'sides',\n",
              " 773: 'scaremongering',\n",
              " 774: 'mobiles',\n",
              " 775: 'train',\n",
              " 776: 'message',\n",
              " 777: 'glassy',\n",
              " 778: 'path',\n",
              " 779: 'trails',\n",
              " 780: 'mountain',\n",
              " 781: 'bush',\n",
              " 782: 'leads',\n",
              " 783: 'often',\n",
              " 784: 'smiling',\n",
              " 785: 'shimmerers',\n",
              " 786: 'spells',\n",
              " 787: 'future',\n",
              " 788: 'ours',\n",
              " 789: 'spirit',\n",
              " 790: 'across',\n",
              " 791: 'reflection',\n",
              " 792: 'waking',\n",
              " 793: 'colors',\n",
              " 794: 'pray',\n",
              " 795: 'fires',\n",
              " 796: 'crawling',\n",
              " 797: 'trees',\n",
              " 798: 'honey',\n",
              " 799: 'wakey',\n",
              " 800: 'rise',\n",
              " 801: 'thought',\n",
              " 802: 'exactly',\n",
              " 803: 'teeth',\n",
              " 804: 'playing',\n",
              " 805: 'jumped',\n",
              " 806: 'angels',\n",
              " 807: 'swam',\n",
              " 808: 'astral',\n",
              " 809: 'cars',\n",
              " 810: 'figures',\n",
              " 811: 'lovers',\n",
              " 812: 'row',\n",
              " 813: 'boat',\n",
              " 814: 'doubt',\n",
              " 815: 'hall',\n",
              " 816: 'puking',\n",
              " 817: 'vice',\n",
              " 818: 'blah',\n",
              " 819: 'top',\n",
              " 820: 'stare',\n",
              " 821: 'wake',\n",
              " 822: 'warm',\n",
              " 823: 'chill',\n",
              " 824: 'wide',\n",
              " 825: 'sigh',\n",
              " 826: 'blooms',\n",
              " 827: 'orbit',\n",
              " 828: 'stole',\n",
              " 829: 'stolen',\n",
              " 830: 'memory',\n",
              " 831: 'tease',\n",
              " 832: 'flirt',\n",
              " 833: 'earnest',\n",
              " 834: 'judged',\n",
              " 835: 'unfold',\n",
              " 836: 'dragonflies',\n",
              " 837: 'slide',\n",
              " 838: 'pitiful',\n",
              " 839: 'seems',\n",
              " 840: 'impossible',\n",
              " 841: 'word',\n",
              " 842: 'weight',\n",
              " 843: 'water',\n",
              " 844: 'witching',\n",
              " 845: 'murderers',\n",
              " 846: 'funny',\n",
              " 847: 'ha',\n",
              " 848: 'driving',\n",
              " 849: 'says',\n",
              " 850: 'pain',\n",
              " 851: 'asleep',\n",
              " 852: 'tell',\n",
              " 853: 'teenage',\n",
              " 854: 'waste',\n",
              " 855: 'okay',\n",
              " 856: 'came',\n",
              " 857: 'animals',\n",
              " 858: 'ship',\n",
              " 859: 'evening',\n",
              " 860: 'straight',\n",
              " 861: 'offer',\n",
              " 862: 'relief',\n",
              " 863: 'skull',\n",
              " 864: 'shut',\n",
              " 865: 'cupboard',\n",
              " 866: 'drowning',\n",
              " 867: 'luck',\n",
              " 868: 'change',\n",
              " 869: 'glorious',\n",
              " 870: 'aircrash',\n",
              " 871: 'miss',\n",
              " 872: 'credit',\n",
              " 873: 'fucker',\n",
              " 874: 'wolf',\n",
              " 875: 'tells',\n",
              " 876: 'ways',\n",
              " 877: 'steal',\n",
              " 878: 'pay',\n",
              " 879: 'ransom',\n",
              " 880: 'squeal',\n",
              " 881: 'cops',\n",
              " 882: 'investments',\n",
              " 883: 'dealers',\n",
              " 884: \"you'd\",\n",
              " 885: 'liked',\n",
              " 886: 'slept',\n",
              " 887: 'cheering',\n",
              " 888: 'waving',\n",
              " 889: 'strangled',\n",
              " 890: 'beaten',\n",
              " 891: 'drink',\n",
              " 892: 'without',\n",
              " 893: 'flop',\n",
              " 894: \"let's\",\n",
              " 895: 'waterfall',\n",
              " 896: 'squash',\n",
              " 897: 'pot',\n",
              " 898: 'blood',\n",
              " 899: 'frozen',\n",
              " 900: 'bar',\n",
              " 901: 'drip',\n",
              " 902: 'girlfriend',\n",
              " 903: 'sixties',\n",
              " 904: 'troubled',\n",
              " 905: 'eating',\n",
              " 906: 'fitter',\n",
              " 907: 'productive',\n",
              " 908: 'favours',\n",
              " 909: 'sundays',\n",
              " 910: 'road',\n",
              " 911: 'air',\n",
              " 912: 'board',\n",
              " 913: 'near',\n",
              " 914: 'fog',\n",
              " 915: 'drive',\n",
              " 916: 'roman',\n",
              " 917: 'empire',\n",
              " 918: 'easily',\n",
              " 919: 'spoke',\n",
              " 920: 'cost',\n",
              " 921: 'moonbeam',\n",
              " 922: 'sailed',\n",
              " 923: 'shooting',\n",
              " 924: 'president',\n",
              " 925: 'flood',\n",
              " 926: 'build',\n",
              " 927: 'ark',\n",
              " 928: 'rag',\n",
              " 929: 'bone',\n",
              " 930: 'son',\n",
              " 931: 'daughter',\n",
              " 932: 'sucked',\n",
              " 933: 'monster',\n",
              " 934: 'loonies',\n",
              " 935: 'act',\n",
              " 936: 'parked',\n",
              " 937: 'holidays',\n",
              " 938: 'choose',\n",
              " 939: 'ignore',\n",
              " 940: 'moth',\n",
              " 941: 'wants',\n",
              " 942: 'share',\n",
              " 943: 'insect',\n",
              " 944: 'others',\n",
              " 945: 'landfill',\n",
              " 946: 'kills',\n",
              " 947: 'bruises',\n",
              " 948: 'heal',\n",
              " 949: 'tired',\n",
              " 950: 'unhappy',\n",
              " 951: 'bring',\n",
              " 952: 'government',\n",
              " 953: 'handshake',\n",
              " 954: 'carbon',\n",
              " 955: 'monoxide',\n",
              " 956: 'fit',\n",
              " 957: 'bellyache',\n",
              " 958: 'jumps',\n",
              " 959: 'clever',\n",
              " 960: 'boy',\n",
              " 961: 'motorcycle',\n",
              " 962: 'watching',\n",
              " 963: 'recognition',\n",
              " 964: 'conversation',\n",
              " 965: 'insides',\n",
              " 966: 'wishing',\n",
              " 967: 'hate',\n",
              " 968: 'sussed',\n",
              " 969: 'spit',\n",
              " 970: 'd',\n",
              " 971: 'lover',\n",
              " 972: 'starts',\n",
              " 973: 'infrastructure',\n",
              " 974: 'voltage',\n",
              " 975: 'spikes',\n",
              " 976: 'keys',\n",
              " 977: 'bowl',\n",
              " 978: 'husband',\n",
              " 979: 'goodnight',\n",
              " 980: 'deepest',\n",
              " 981: 'lead',\n",
              " 982: 'phantoms',\n",
              " 983: 'everybody',\n",
              " 984: 'eaten',\n",
              " 985: 'towed',\n",
              " 986: 'write',\n",
              " 987: 'drinks',\n",
              " 988: 'arrive',\n",
              " 989: 'play',\n",
              " 990: 'favorite',\n",
              " 991: 'disappears',\n",
              " 992: 'wound',\n",
              " 993: 'spring',\n",
              " 994: 'focus',\n",
              " 995: 'cheshire',\n",
              " 996: 'grin',\n",
              " 997: 'blurring',\n",
              " 998: 'mission',\n",
              " 999: 'owl',\n",
              " 1000: 'noises',\n",
              " ...}"
            ]
          },
          "metadata": {},
          "execution_count": 35
        }
      ],
      "source": [
        "# Palabras del vocabulario\n",
        "tok.index_word"
      ]
    },
    {
      "cell_type": "code",
      "execution_count": 36,
      "metadata": {
        "id": "gJgVhq1zwEpf",
        "colab": {
          "base_uri": "https://localhost:8080/"
        },
        "outputId": "40565191-9854-483d-cfd8-10d658ce49a7"
      },
      "outputs": [
        {
          "output_type": "execute_result",
          "data": {
            "text/plain": [
              "1715"
            ]
          },
          "metadata": {},
          "execution_count": 36
        }
      ],
      "source": [
        "# Cantidad de palabras en el vocabulario\n",
        "vocab_size = len(tok.word_counts)\n",
        "vocab_size"
      ]
    },
    {
      "cell_type": "code",
      "execution_count": 37,
      "metadata": {
        "id": "gIg2e2WCwXbG",
        "colab": {
          "base_uri": "https://localhost:8080/"
        },
        "outputId": "b9442773-e0e2-49f3-849e-8947bb5aa9ad"
      },
      "outputs": [
        {
          "output_type": "execute_result",
          "data": {
            "text/plain": [
              "(11799, 1715)"
            ]
          },
          "metadata": {},
          "execution_count": 37
        }
      ],
      "source": [
        "y_data_int_offset = y_data_int - 1\n",
        "y_data = to_categorical(y_data_int_offset, num_classes=vocab_size) \n",
        "y_data.shape"
      ]
    },
    {
      "cell_type": "markdown",
      "metadata": {
        "id": "GmJWNyxQwfCE"
      },
      "source": [
        "### 4 - Entrenar el modelo"
      ]
    },
    {
      "cell_type": "code",
      "execution_count": 39,
      "metadata": {
        "id": "0cOmNZT_weK2",
        "colab": {
          "base_uri": "https://localhost:8080/"
        },
        "outputId": "fbe6f09d-8c9d-42c4-ab9b-000bb47a8fbc"
      },
      "outputs": [
        {
          "output_type": "execute_result",
          "data": {
            "text/plain": [
              "3"
            ]
          },
          "metadata": {},
          "execution_count": 39
        }
      ],
      "source": [
        "# largo de la secuencia de entrada\n",
        "input_seq_len = x_data.shape[1] \n",
        "input_seq_len"
      ]
    },
    {
      "cell_type": "code",
      "execution_count": 40,
      "metadata": {
        "id": "qtwITjgnwlgp",
        "colab": {
          "base_uri": "https://localhost:8080/"
        },
        "outputId": "eb9b4445-2c8d-4f08-8792-581829175f30"
      },
      "outputs": [
        {
          "output_type": "execute_result",
          "data": {
            "text/plain": [
              "1715"
            ]
          },
          "metadata": {},
          "execution_count": 40
        }
      ],
      "source": [
        "# Largo del vector de salida --> vocab_size\n",
        "output_size = vocab_size\n",
        "output_size"
      ]
    },
    {
      "cell_type": "code",
      "execution_count": 47,
      "metadata": {
        "id": "jzTZRXrrwrvi",
        "colab": {
          "base_uri": "https://localhost:8080/"
        },
        "outputId": "e1dee160-fc75-4aee-e614-16fe09f19d4e"
      },
      "outputs": [
        {
          "output_type": "stream",
          "name": "stdout",
          "text": [
            "Model: \"sequential_2\"\n",
            "_________________________________________________________________\n",
            " Layer (type)                Output Shape              Param #   \n",
            "=================================================================\n",
            " embedding_1 (Embedding)     (None, 3, 5)              8580      \n",
            "                                                                 \n",
            " lstm_3 (LSTM)               (None, 3, 64)             17920     \n",
            "                                                                 \n",
            " dropout_2 (Dropout)         (None, 3, 64)             0         \n",
            "                                                                 \n",
            " lstm_4 (LSTM)               (None, 3, 64)             33024     \n",
            "                                                                 \n",
            " dropout_3 (Dropout)         (None, 3, 64)             0         \n",
            "                                                                 \n",
            " lstm_5 (LSTM)               (None, 3, 64)             33024     \n",
            "                                                                 \n",
            " dropout_4 (Dropout)         (None, 3, 64)             0         \n",
            "                                                                 \n",
            " lstm_6 (LSTM)               (None, 64)                33024     \n",
            "                                                                 \n",
            " dense_2 (Dense)             (None, 32)                2080      \n",
            "                                                                 \n",
            " dense_3 (Dense)             (None, 1715)              56595     \n",
            "                                                                 \n",
            "=================================================================\n",
            "Total params: 184,247\n",
            "Trainable params: 184,247\n",
            "Non-trainable params: 0\n",
            "_________________________________________________________________\n"
          ]
        }
      ],
      "source": [
        "model = Sequential()\n",
        "\n",
        "# Embedding:\n",
        "# input_seq_len = 3 --> ingreso 3 palabras\n",
        "# input_dim = vocab_size --> 1628 palabras distintas\n",
        "# output_dim = 5 --> crear embeddings de tamaño 3 (tamaño variable y ajustable)\n",
        "model.add(Embedding(input_dim=vocab_size+1, output_dim=5, input_length=input_seq_len))\n",
        "\n",
        "model.add(LSTM(64, return_sequences=True))\n",
        "model.add(Dropout(0.2))\n",
        "model.add(LSTM(64, return_sequences=True))\n",
        "model.add(Dropout(0.2))\n",
        "model.add(LSTM(64, return_sequences=True))\n",
        "model.add(Dropout(0.2))\n",
        "model.add(LSTM(64)) # La última capa LSTM no lleva return_sequences\n",
        "model.add(Dense(32, activation='relu'))\n",
        "\n",
        "# Predicción de clasificación con softmax\n",
        "# La salida vuelve al espacio de 1628 palabras posibles\n",
        "model.add(Dense(vocab_size, activation='softmax'))\n",
        "\n",
        "# Clasificación multiple categórica --> loss = categorical_crossentropy\n",
        "model.compile(loss='categorical_crossentropy', optimizer='adam', metrics=['accuracy'])\n",
        "\n",
        "model.summary()"
      ]
    },
    {
      "cell_type": "code",
      "execution_count": 48,
      "metadata": {
        "id": "oQq1PHDkxDvN",
        "colab": {
          "base_uri": "https://localhost:8080/"
        },
        "outputId": "ea1b324d-e6c0-4276-e950-465df6d27452"
      },
      "outputs": [
        {
          "output_type": "stream",
          "name": "stdout",
          "text": [
            "Epoch 1/50\n",
            "295/295 [==============================] - 15s 27ms/step - loss: 6.3528 - accuracy: 0.0433 - val_loss: 6.4582 - val_accuracy: 0.0479\n",
            "Epoch 2/50\n",
            "295/295 [==============================] - 4s 13ms/step - loss: 5.9329 - accuracy: 0.0475 - val_loss: 6.6909 - val_accuracy: 0.0479\n",
            "Epoch 3/50\n",
            "295/295 [==============================] - 4s 14ms/step - loss: 5.8783 - accuracy: 0.0463 - val_loss: 6.6434 - val_accuracy: 0.0479\n",
            "Epoch 4/50\n",
            "295/295 [==============================] - 4s 12ms/step - loss: 5.8481 - accuracy: 0.0464 - val_loss: 6.8453 - val_accuracy: 0.0237\n",
            "Epoch 5/50\n",
            "295/295 [==============================] - 4s 13ms/step - loss: 5.8248 - accuracy: 0.0461 - val_loss: 6.8293 - val_accuracy: 0.0424\n",
            "Epoch 6/50\n",
            "295/295 [==============================] - 5s 16ms/step - loss: 5.7857 - accuracy: 0.0498 - val_loss: 6.9498 - val_accuracy: 0.0398\n",
            "Epoch 7/50\n",
            "295/295 [==============================] - 4s 12ms/step - loss: 5.6952 - accuracy: 0.0532 - val_loss: 6.9291 - val_accuracy: 0.0415\n",
            "Epoch 8/50\n",
            "295/295 [==============================] - 3s 12ms/step - loss: 5.6016 - accuracy: 0.0553 - val_loss: 6.9950 - val_accuracy: 0.0411\n",
            "Epoch 9/50\n",
            "295/295 [==============================] - 5s 17ms/step - loss: 5.5362 - accuracy: 0.0586 - val_loss: 7.0059 - val_accuracy: 0.0424\n",
            "Epoch 10/50\n",
            "295/295 [==============================] - 4s 15ms/step - loss: 5.4885 - accuracy: 0.0620 - val_loss: 7.2685 - val_accuracy: 0.0407\n",
            "Epoch 11/50\n",
            "295/295 [==============================] - 3s 11ms/step - loss: 5.4486 - accuracy: 0.0611 - val_loss: 7.3622 - val_accuracy: 0.0411\n",
            "Epoch 12/50\n",
            "295/295 [==============================] - 4s 13ms/step - loss: 5.4077 - accuracy: 0.0647 - val_loss: 7.2800 - val_accuracy: 0.0415\n",
            "Epoch 13/50\n",
            "295/295 [==============================] - 4s 13ms/step - loss: 5.3648 - accuracy: 0.0661 - val_loss: 7.4674 - val_accuracy: 0.0407\n",
            "Epoch 14/50\n",
            "295/295 [==============================] - 3s 11ms/step - loss: 5.3125 - accuracy: 0.0685 - val_loss: 7.4848 - val_accuracy: 0.0441\n",
            "Epoch 15/50\n",
            "295/295 [==============================] - 3s 11ms/step - loss: 5.2602 - accuracy: 0.0707 - val_loss: 7.6050 - val_accuracy: 0.0419\n",
            "Epoch 16/50\n",
            "295/295 [==============================] - 4s 14ms/step - loss: 5.2112 - accuracy: 0.0711 - val_loss: 7.7405 - val_accuracy: 0.0381\n",
            "Epoch 17/50\n",
            "295/295 [==============================] - 4s 13ms/step - loss: 5.1641 - accuracy: 0.0777 - val_loss: 7.7800 - val_accuracy: 0.0449\n",
            "Epoch 18/50\n",
            "295/295 [==============================] - 4s 12ms/step - loss: 5.1102 - accuracy: 0.0789 - val_loss: 8.0754 - val_accuracy: 0.0424\n",
            "Epoch 19/50\n",
            "295/295 [==============================] - 4s 13ms/step - loss: 5.0610 - accuracy: 0.0838 - val_loss: 8.0418 - val_accuracy: 0.0407\n",
            "Epoch 20/50\n",
            "295/295 [==============================] - 4s 14ms/step - loss: 5.0081 - accuracy: 0.0863 - val_loss: 7.9765 - val_accuracy: 0.0411\n",
            "Epoch 21/50\n",
            "295/295 [==============================] - 4s 13ms/step - loss: 4.9617 - accuracy: 0.0883 - val_loss: 8.1878 - val_accuracy: 0.0428\n",
            "Epoch 22/50\n",
            "295/295 [==============================] - 3s 11ms/step - loss: 4.9155 - accuracy: 0.0941 - val_loss: 8.1878 - val_accuracy: 0.0466\n",
            "Epoch 23/50\n",
            "295/295 [==============================] - 5s 16ms/step - loss: 4.8555 - accuracy: 0.0995 - val_loss: 8.4059 - val_accuracy: 0.0436\n",
            "Epoch 24/50\n",
            "295/295 [==============================] - 4s 13ms/step - loss: 4.7999 - accuracy: 0.1019 - val_loss: 8.4688 - val_accuracy: 0.0483\n",
            "Epoch 25/50\n",
            "295/295 [==============================] - 3s 12ms/step - loss: 4.7410 - accuracy: 0.1063 - val_loss: 8.5669 - val_accuracy: 0.0411\n",
            "Epoch 26/50\n",
            "295/295 [==============================] - 4s 15ms/step - loss: 4.6736 - accuracy: 0.1069 - val_loss: 8.6512 - val_accuracy: 0.0415\n",
            "Epoch 27/50\n",
            "295/295 [==============================] - 3s 12ms/step - loss: 4.6193 - accuracy: 0.1106 - val_loss: 8.8784 - val_accuracy: 0.0398\n",
            "Epoch 28/50\n",
            "295/295 [==============================] - 4s 12ms/step - loss: 4.5634 - accuracy: 0.1138 - val_loss: 8.6917 - val_accuracy: 0.0453\n",
            "Epoch 29/50\n",
            "295/295 [==============================] - 4s 13ms/step - loss: 4.5089 - accuracy: 0.1188 - val_loss: 9.1035 - val_accuracy: 0.0394\n",
            "Epoch 30/50\n",
            "295/295 [==============================] - 5s 16ms/step - loss: 4.4638 - accuracy: 0.1220 - val_loss: 9.0590 - val_accuracy: 0.0411\n",
            "Epoch 31/50\n",
            "295/295 [==============================] - 3s 11ms/step - loss: 4.4148 - accuracy: 0.1231 - val_loss: 9.2461 - val_accuracy: 0.0428\n",
            "Epoch 32/50\n",
            "295/295 [==============================] - 4s 12ms/step - loss: 4.3772 - accuracy: 0.1270 - val_loss: 9.3151 - val_accuracy: 0.0411\n",
            "Epoch 33/50\n",
            "295/295 [==============================] - 4s 15ms/step - loss: 4.3343 - accuracy: 0.1314 - val_loss: 9.6564 - val_accuracy: 0.0415\n",
            "Epoch 34/50\n",
            "295/295 [==============================] - 3s 11ms/step - loss: 4.2924 - accuracy: 0.1360 - val_loss: 9.7323 - val_accuracy: 0.0415\n",
            "Epoch 35/50\n",
            "295/295 [==============================] - 3s 11ms/step - loss: 4.2486 - accuracy: 0.1395 - val_loss: 10.0208 - val_accuracy: 0.0394\n",
            "Epoch 36/50\n",
            "295/295 [==============================] - 4s 14ms/step - loss: 4.2133 - accuracy: 0.1398 - val_loss: 9.9996 - val_accuracy: 0.0398\n",
            "Epoch 37/50\n",
            "295/295 [==============================] - 4s 14ms/step - loss: 4.1635 - accuracy: 0.1440 - val_loss: 10.1532 - val_accuracy: 0.0445\n",
            "Epoch 38/50\n",
            "295/295 [==============================] - 3s 12ms/step - loss: 4.1283 - accuracy: 0.1512 - val_loss: 10.4192 - val_accuracy: 0.0390\n",
            "Epoch 39/50\n",
            "295/295 [==============================] - 4s 12ms/step - loss: 4.0962 - accuracy: 0.1510 - val_loss: 10.6037 - val_accuracy: 0.0458\n",
            "Epoch 40/50\n",
            "295/295 [==============================] - 4s 15ms/step - loss: 4.0688 - accuracy: 0.1555 - val_loss: 10.6737 - val_accuracy: 0.0356\n",
            "Epoch 41/50\n",
            "295/295 [==============================] - 4s 12ms/step - loss: 4.0380 - accuracy: 0.1554 - val_loss: 10.8578 - val_accuracy: 0.0419\n",
            "Epoch 42/50\n",
            "295/295 [==============================] - 3s 12ms/step - loss: 3.9960 - accuracy: 0.1599 - val_loss: 10.9817 - val_accuracy: 0.0403\n",
            "Epoch 43/50\n",
            "295/295 [==============================] - 4s 15ms/step - loss: 3.9789 - accuracy: 0.1630 - val_loss: 11.1320 - val_accuracy: 0.0441\n",
            "Epoch 44/50\n",
            "295/295 [==============================] - 4s 12ms/step - loss: 3.9355 - accuracy: 0.1689 - val_loss: 11.2584 - val_accuracy: 0.0479\n",
            "Epoch 45/50\n",
            "295/295 [==============================] - 4s 12ms/step - loss: 3.9125 - accuracy: 0.1645 - val_loss: 11.5209 - val_accuracy: 0.0377\n",
            "Epoch 46/50\n",
            "295/295 [==============================] - 4s 13ms/step - loss: 3.8755 - accuracy: 0.1736 - val_loss: 11.6942 - val_accuracy: 0.0453\n",
            "Epoch 47/50\n",
            "295/295 [==============================] - 4s 14ms/step - loss: 3.8576 - accuracy: 0.1771 - val_loss: 11.9643 - val_accuracy: 0.0415\n",
            "Epoch 48/50\n",
            "295/295 [==============================] - 3s 11ms/step - loss: 3.8320 - accuracy: 0.1790 - val_loss: 12.0017 - val_accuracy: 0.0419\n",
            "Epoch 49/50\n",
            "295/295 [==============================] - 3s 11ms/step - loss: 3.8110 - accuracy: 0.1856 - val_loss: 12.0392 - val_accuracy: 0.0424\n",
            "Epoch 50/50\n",
            "295/295 [==============================] - 4s 15ms/step - loss: 3.7814 - accuracy: 0.1835 - val_loss: 12.3476 - val_accuracy: 0.0432\n"
          ]
        }
      ],
      "source": [
        "hist = model.fit(x_data, y_data, epochs=50, validation_split=0.2)"
      ]
    },
    {
      "cell_type": "code",
      "execution_count": 49,
      "metadata": {
        "id": "q_orBXOrCsNn",
        "colab": {
          "base_uri": "https://localhost:8080/",
          "height": 430
        },
        "outputId": "863d8e47-e167-4ee1-9766-51072839ea86"
      },
      "outputs": [
        {
          "output_type": "display_data",
          "data": {
            "text/plain": [
              "<Figure size 640x480 with 1 Axes>"
            ],
            "image/png": "[encoded data removed]"
          },
          "metadata": {}
        }
      ],
      "source": [
        "import matplotlib.pyplot as plt\n",
        "import seaborn as sns\n",
        "\n",
        "# Entrenamiento\n",
        "epoch_count = range(1, len(hist.history['accuracy']) + 1)\n",
        "sns.lineplot(x=epoch_count,  y=hist.history['accuracy'], label='train')\n",
        "sns.lineplot(x=epoch_count,  y=hist.history['val_accuracy'], label='valid')\n",
        "plt.show()"
      ]
    },
    {
      "cell_type": "markdown",
      "metadata": {
        "id": "KN6Fg_BsxJe6"
      },
      "source": [
        "### 5 - Predicción de próxima palabra"
      ]
    },
    {
      "cell_type": "code",
      "execution_count": 44,
      "metadata": {
        "id": "iy_AXWQWzeeE"
      },
      "outputs": [],
      "source": [
        "# Keras pad_sequences\n",
        "# https://www.tensorflow.org/api_docs/python/tf/keras/preprocessing/sequence/pad_sequences\n",
        "# Si la secuencia de entrada supera al input_seq_len (3) se trunca\n",
        "# Si la secuencia es más corta se agregna ceros al comienzo"
      ]
    },
    {
      "cell_type": "code",
      "execution_count": 45,
      "metadata": {
        "id": "IBvKHFPmzpy2",
        "colab": {
          "base_uri": "https://localhost:8080/"
        },
        "outputId": "b1228980-ba69-47f1-c0c5-27dd2b7a83d3"
      },
      "outputs": [
        {
          "output_type": "stream",
          "name": "stdout",
          "text": [
            "\u001b[2K     \u001b[90m━━━━━━━━━━━━━━━━━━━━━━━━━━━━━━━━━━━━━━━━\u001b[0m \u001b[32m17.3/17.3 MB\u001b[0m \u001b[31m86.8 MB/s\u001b[0m eta \u001b[36m0:00:00\u001b[0m\n",
            "\u001b[2K     \u001b[90m━━━━━━━━━━━━━━━━━━━━━━━━━━━━━━━━━━━━━━━━\u001b[0m \u001b[32m45.7/45.7 kB\u001b[0m \u001b[31m5.8 MB/s\u001b[0m eta \u001b[36m0:00:00\u001b[0m\n",
            "\u001b[2K     \u001b[90m━━━━━━━━━━━━━━━━━━━━━━━━━━━━━━━━━━━━━━━━\u001b[0m \u001b[32m58.3/58.3 kB\u001b[0m \u001b[31m7.8 MB/s\u001b[0m eta \u001b[36m0:00:00\u001b[0m\n",
            "\u001b[2K     \u001b[90m━━━━━━━━━━━━━━━━━━━━━━━━━━━━━━━━━━━━━━\u001b[0m \u001b[32m135.6/135.6 kB\u001b[0m \u001b[31m18.1 MB/s\u001b[0m eta \u001b[36m0:00:00\u001b[0m\n",
            "\u001b[2K     \u001b[90m━━━━━━━━━━━━━━━━━━━━━━━━━━━━━━━━━━━━━━\u001b[0m \u001b[32m129.9/129.9 kB\u001b[0m \u001b[31m16.1 MB/s\u001b[0m eta \u001b[36m0:00:00\u001b[0m\n",
            "\u001b[?25h  Preparing metadata (setup.py) ... \u001b[?25l\u001b[?25hdone\n",
            "\u001b[2K     \u001b[90m━━━━━━━━━━━━━━━━━━━━━━━━━━━━━━━━━━━━━━\u001b[0m \u001b[32m224.5/224.5 kB\u001b[0m \u001b[31m27.5 MB/s\u001b[0m eta \u001b[36m0:00:00\u001b[0m\n",
            "\u001b[2K     \u001b[90m━━━━━━━━━━━━━━━━━━━━━━━━━━━━━━━━━━━━━━━━\u001b[0m \u001b[32m57.0/57.0 kB\u001b[0m \u001b[31m6.2 MB/s\u001b[0m eta \u001b[36m0:00:00\u001b[0m\n",
            "\u001b[2K     \u001b[90m━━━━━━━━━━━━━━━━━━━━━━━━━━━━━━━━━━━━━━━━\u001b[0m \u001b[32m75.3/75.3 kB\u001b[0m \u001b[31m10.7 MB/s\u001b[0m eta \u001b[36m0:00:00\u001b[0m\n",
            "\u001b[2K     \u001b[90m━━━━━━━━━━━━━━━━━━━━━━━━━━━━━━━━━━━━━━━━\u001b[0m \u001b[32m1.0/1.0 MB\u001b[0m \u001b[31m57.7 MB/s\u001b[0m eta \u001b[36m0:00:00\u001b[0m\n",
            "\u001b[2K     \u001b[90m━━━━━━━━━━━━━━━━━━━━━━━━━━━━━━━━━━━━━━━━\u001b[0m \u001b[32m50.5/50.5 kB\u001b[0m \u001b[31m5.8 MB/s\u001b[0m eta \u001b[36m0:00:00\u001b[0m\n",
            "\u001b[2K     \u001b[90m━━━━━━━━━━━━━━━━━━━━━━━━━━━━━━━━━━━━━━\u001b[0m \u001b[32m286.7/286.7 kB\u001b[0m \u001b[31m34.5 MB/s\u001b[0m eta \u001b[36m0:00:00\u001b[0m\n",
            "\u001b[2K     \u001b[90m━━━━━━━━━━━━━━━━━━━━━━━━━━━━━━━━━━━━━━\u001b[0m \u001b[32m268.8/268.8 kB\u001b[0m \u001b[31m31.1 MB/s\u001b[0m eta \u001b[36m0:00:00\u001b[0m\n",
            "\u001b[2K     \u001b[90m━━━━━━━━━━━━━━━━━━━━━━━━━━━━━━━━━━━━━━\u001b[0m \u001b[32m114.5/114.5 kB\u001b[0m \u001b[31m14.9 MB/s\u001b[0m eta \u001b[36m0:00:00\u001b[0m\n",
            "\u001b[2K     \u001b[90m━━━━━━━━━━━━━━━━━━━━━━━━━━━━━━━━━━━━━━\u001b[0m \u001b[32m149.6/149.6 kB\u001b[0m \u001b[31m17.2 MB/s\u001b[0m eta \u001b[36m0:00:00\u001b[0m\n",
            "\u001b[2K     \u001b[90m━━━━━━━━━━━━━━━━━━━━━━━━━━━━━━━━━━━━━━━━\u001b[0m \u001b[32m66.9/66.9 kB\u001b[0m \u001b[31m9.1 MB/s\u001b[0m eta \u001b[36m0:00:00\u001b[0m\n",
            "\u001b[2K     \u001b[90m━━━━━━━━━━━━━━━━━━━━━━━━━━━━━━━━━━━━━━━━\u001b[0m \u001b[32m70.6/70.6 kB\u001b[0m \u001b[31m10.7 MB/s\u001b[0m eta \u001b[36m0:00:00\u001b[0m\n",
            "\u001b[2K     \u001b[90m━━━━━━━━━━━━━━━━━━━━━━━━━━━━━━━━━━━━━━━━\u001b[0m \u001b[32m58.3/58.3 kB\u001b[0m \u001b[31m8.5 MB/s\u001b[0m eta \u001b[36m0:00:00\u001b[0m\n",
            "\u001b[?25h  Building wheel for ffmpy (setup.py) ... \u001b[?25l\u001b[?25hdone\n"
          ]
        }
      ],
      "source": [
        "# Se utilizará gradio para ensayar el modelo\n",
        "# Herramienta poderosa para crear interfaces rápidas para ensayar modelos\n",
        "# https://gradio.app/\n",
        "import sys\n",
        "!{sys.executable} -m pip install gradio --quiet"
      ]
    },
    {
      "cell_type": "code",
      "execution_count": 46,
      "metadata": {
        "id": "HNyBykvhzs7-",
        "colab": {
          "base_uri": "https://localhost:8080/",
          "height": 912
        },
        "outputId": "9ece496d-b2a7-45b0-cf09-c6ab88bd5ac8"
      },
      "outputs": [
        {
          "output_type": "stream",
          "name": "stderr",
          "text": [
            "/usr/local/lib/python3.10/dist-packages/gradio/deprecation.py:40: UserWarning: `layout` parameter is deprecated, and it has no effect\n",
            "  warnings.warn(value)\n"
          ]
        },
        {
          "output_type": "stream",
          "name": "stdout",
          "text": [
            "Colab notebook detected. This cell will run indefinitely so that you can see errors and logs. To turn off, set debug=False in launch().\n",
            "Note: opening Chrome Inspector may crash demo inside Colab notebooks.\n",
            "\n",
            "To create a public link, set `share=True` in `launch()`.\n"
          ]
        },
        {
          "output_type": "display_data",
          "data": {
            "text/plain": [
              "<IPython.core.display.Javascript object>"
            ],
            "application/javascript": [
              "(async (port, path, width, height, cache, element) => {\n",
              "                        if (!google.colab.kernel.accessAllowed && !cache) {\n",
              "                            return;\n",
              "                        }\n",
              "                        element.appendChild(document.createTextNode(''));\n",
              "                        const url = await google.colab.kernel.proxyPort(port, {cache});\n",
              "\n",
              "                        const external_link = document.createElement('div');\n",
              "                        external_link.innerHTML = `\n",
              "                            <div style=\"font-family: monospace; margin-bottom: 0.5rem\">\n",
              "                                Running on <a href=${new URL(path, url).toString()} target=\"_blank\">\n",
              "                                    https://localhost:${port}${path}\n",
              "                                </a>\n",
              "                            </div>\n",
              "                        `;\n",
              "                        element.appendChild(external_link);\n",
              "\n",
              "                        const iframe = document.createElement('iframe');\n",
              "                        iframe.src = new URL(path, url).toString();\n",
              "                        iframe.height = height;\n",
              "                        iframe.allow = \"autoplay; camera; microphone; clipboard-read; clipboard-write;\"\n",
              "                        iframe.width = width;\n",
              "                        iframe.style.border = 0;\n",
              "                        element.appendChild(iframe);\n",
              "                    })(7860, \"/\", \"100%\", 500, false, window.element)"
            ]
          },
          "metadata": {}
        },
        {
          "output_type": "stream",
          "name": "stdout",
          "text": [
            "1/1 [==============================] - 1s 1s/step\n",
            "Texto ingresado: ghost - Predicción: i\n",
            "1/1 [==============================] - 0s 20ms/step\n",
            "Texto ingresado: you - Predicción: i\n",
            "1/1 [==============================] - 0s 20ms/step\n",
            "Texto ingresado: will - Predicción: the\n",
            "1/1 [==============================] - 0s 22ms/step\n",
            "Texto ingresado: all - Predicción: great\n",
            "1/1 [==============================] - 0s 20ms/step\n",
            "Texto ingresado: come - Predicción: i\n",
            "1/1 [==============================] - 0s 19ms/step\n",
            "Texto ingresado: broken - Predicción: eyes\n",
            "1/1 [==============================] - 0s 21ms/step\n",
            "Texto ingresado: hearts - Predicción: the\n",
            "Keyboard interruption in main thread... closing server.\n"
          ]
        },
        {
          "output_type": "execute_result",
          "data": {
            "text/plain": []
          },
          "metadata": {},
          "execution_count": 46
        }
      ],
      "source": [
        "import gradio as gr\n",
        "\n",
        "def model_response(human_text):\n",
        "\n",
        "    # Encodeamos\n",
        "    encoded = tok.texts_to_sequences([human_text])[0]\n",
        "    # Si tienen distinto largo\n",
        "    encoded = pad_sequences([encoded], maxlen=3, padding='pre')\n",
        "    \n",
        "    # Predicción softmax\n",
        "    y_hat = model.predict(encoded).argmax(axis=-1)\n",
        "\n",
        "    # Debemos buscar en el vocabulario la palabra\n",
        "    # que corresopnde al indice (y_hat) predicho por le modelo\n",
        "    out_word = ''\n",
        "    for word, index in tok.word_index.items():\n",
        "        if index == y_hat:\n",
        "            out_word = word\n",
        "            break\n",
        "\n",
        "    # Agrego la palabra a la frase predicha\n",
        "    print(\"Texto ingresado:\", human_text,\"- Predicción:\", out_word)\n",
        "    return human_text + ' ' + out_word\n",
        "\n",
        "iface = gr.Interface(\n",
        "    fn=model_response,\n",
        "    inputs=[\"textbox\"],\n",
        "    outputs=\"text\",\n",
        "    layout=\"vertical\")\n",
        "\n",
        "iface.launch(debug=True)"
      ]
    },
    {
      "cell_type": "markdown",
      "metadata": {
        "id": "T2SHmXbgxQH9"
      },
      "source": [
        "### 7 - Conclusion\n",
        "- La metrica accuracy tiene a mejorar pero la metrica loss empeora.\n",
        "- En la validación el modelo no mejora.\n",
        "- Se ralizaron pruebas con palabras que se repiten bastante en la canción y, en su mayoría, no coicidió con la palabra que sigue.\n"
      ]
    },
    {
      "cell_type": "markdown",
      "source": [
        "### Prueba de arquitectura mejorada\n",
        "Se le pide a Chat GPT que proponga una arquitectura mejorada para la anterior y responde lo siguiente:\n",
        "\n",
        "  \"Aquí hay algunas posibles mejoras que se pueden hacer a esta arquitectura de red para mejorar la métrica de accuracy:\n",
        "\n",
        "Regularización adicional: Además de la capa Dropout existente, se puede agregar regularización L2 o L1 a las capas LSTM y densas para reducir aún más el sobreajuste.\n",
        "\n",
        "Batch normalization: Agregar capas de normalización por lotes (batch normalization) entre las capas LSTM y densas puede ayudar a estabilizar la salida de cada capa y mejorar la convergencia del modelo.\n",
        "\n",
        "Aumentar el número de unidades en las capas LSTM: Aumentar el número de unidades en las capas LSTM puede ayudar a que la red capture patrones más complejos en los datos.\n",
        "\n",
        "Añadir capas de atención: Agregar capas de atención a la red puede ayudar a la red a centrarse en las partes importantes de las secuencias de entrada y mejorar su capacidad para predecir la siguiente palabra o caracter.\n",
        "\n",
        "Utilizar técnicas de aprendizaje semi-supervisado: Si se tiene una gran cantidad de datos no etiquetados, se pueden utilizar técnicas de aprendizaje semi-supervisado para mejorar el rendimiento de la red. Por ejemplo, se puede utilizar un modelo de lenguaje previamente entrenado para inicializar los pesos de la red y mejorar su capacidad para capturar patrones en los datos.\"\n",
        "\n",
        "Y es la red que se prueba a continuación."
      ],
      "metadata": {
        "id": "yT6QT-D2cbif"
      }
    },
    {
      "cell_type": "code",
      "source": [
        "from keras.models import Sequential\n",
        "from keras.layers import LSTM, Dropout, Dense, BatchNormalization, Attention\n",
        "from keras.regularizers import l2\n",
        "\n",
        "model1 = Sequential()\n",
        "model1.add(Embedding(input_dim=vocab_size+1, output_dim=5, input_length=input_seq_len))\n",
        "\n",
        "# Capa LSTM con regularización L2 y batch normalization\n",
        "model1.add(LSTM(128, return_sequences=True, kernel_regularizer=l2(0.01)))\n",
        "model1.add(BatchNormalization())\n",
        "model1.add(Dropout(0.3))\n",
        "\n",
        "# Capa LSTM con regularización L2 y atención\n",
        "model1.add(LSTM(128, return_sequences=True, kernel_regularizer=l2(0.01)))\n",
        "#model1.add(Attention())\n",
        "model1.add(Dropout(0.3))\n",
        "\n",
        "# Capa LSTM con regularización L2 y batch normalization\n",
        "model1.add(LSTM(128, kernel_regularizer=l2(0.01)))\n",
        "model1.add(BatchNormalization())\n",
        "model1.add(Dropout(0.3))\n",
        "\n",
        "# Capa densa con regularización L2 y batch normalization\n",
        "model1.add(Dense(64, activation='relu', kernel_regularizer=l2(0.01)))\n",
        "model1.add(BatchNormalization())\n",
        "model1.add(Dropout(0.3))\n",
        "\n",
        "# Capa de salida\n",
        "model1.add(Dense(vocab_size, activation='softmax'))\n",
        "\n",
        "# Compilar el modelo\n",
        "model1.compile(loss='categorical_crossentropy', optimizer='adam', metrics=['accuracy'])\n",
        "\n",
        "# Imprimir un resumen del modelo\n",
        "model1.summary()"
      ],
      "metadata": {
        "colab": {
          "base_uri": "https://localhost:8080/"
        },
        "id": "F9JR-YItXpaf",
        "outputId": "874d6146-4078-4bca-fd26-c81716089574"
      },
      "execution_count": 55,
      "outputs": [
        {
          "output_type": "stream",
          "name": "stdout",
          "text": [
            "Model: \"sequential_7\"\n",
            "_________________________________________________________________\n",
            " Layer (type)                Output Shape              Param #   \n",
            "=================================================================\n",
            " embedding_3 (Embedding)     (None, 3, 5)              8580      \n",
            "                                                                 \n",
            " lstm_18 (LSTM)              (None, 3, 128)            68608     \n",
            "                                                                 \n",
            " batch_normalization_10 (Bat  (None, 3, 128)           512       \n",
            " chNormalization)                                                \n",
            "                                                                 \n",
            " dropout_18 (Dropout)        (None, 3, 128)            0         \n",
            "                                                                 \n",
            " lstm_19 (LSTM)              (None, 3, 128)            131584    \n",
            "                                                                 \n",
            " dropout_19 (Dropout)        (None, 3, 128)            0         \n",
            "                                                                 \n",
            " lstm_20 (LSTM)              (None, 128)               131584    \n",
            "                                                                 \n",
            " batch_normalization_11 (Bat  (None, 128)              512       \n",
            " chNormalization)                                                \n",
            "                                                                 \n",
            " dropout_20 (Dropout)        (None, 128)               0         \n",
            "                                                                 \n",
            " dense_10 (Dense)            (None, 64)                8256      \n",
            "                                                                 \n",
            " batch_normalization_12 (Bat  (None, 64)               256       \n",
            " chNormalization)                                                \n",
            "                                                                 \n",
            " dropout_21 (Dropout)        (None, 64)                0         \n",
            "                                                                 \n",
            " dense_11 (Dense)            (None, 1715)              111475    \n",
            "                                                                 \n",
            "=================================================================\n",
            "Total params: 461,367\n",
            "Trainable params: 460,727\n",
            "Non-trainable params: 640\n",
            "_________________________________________________________________\n"
          ]
        }
      ]
    },
    {
      "cell_type": "code",
      "source": [
        "hist = model1.fit(x_data, y_data, epochs=50, validation_split=0.3)"
      ],
      "metadata": {
        "colab": {
          "base_uri": "https://localhost:8080/"
        },
        "id": "OMlK-_9xYGRG",
        "outputId": "a018e268-bb4e-4f4f-f9db-2875f145350f"
      },
      "execution_count": 59,
      "outputs": [
        {
          "output_type": "stream",
          "name": "stdout",
          "text": [
            "Epoch 1/50\n",
            "259/259 [==============================] - 5s 18ms/step - loss: 3.5609 - accuracy: 0.2825 - val_loss: 8.6581 - val_accuracy: 0.0864\n",
            "Epoch 2/50\n",
            "259/259 [==============================] - 4s 16ms/step - loss: 3.5444 - accuracy: 0.2735 - val_loss: 8.7380 - val_accuracy: 0.0881\n",
            "Epoch 3/50\n",
            "259/259 [==============================] - 4s 16ms/step - loss: 3.5865 - accuracy: 0.2672 - val_loss: 8.8386 - val_accuracy: 0.0886\n",
            "Epoch 4/50\n",
            "259/259 [==============================] - 4s 15ms/step - loss: 3.5217 - accuracy: 0.2768 - val_loss: 8.6915 - val_accuracy: 0.0996\n",
            "Epoch 5/50\n",
            "259/259 [==============================] - 4s 15ms/step - loss: 3.5528 - accuracy: 0.2688 - val_loss: 8.6364 - val_accuracy: 0.0907\n",
            "Epoch 6/50\n",
            "259/259 [==============================] - 4s 14ms/step - loss: 3.4819 - accuracy: 0.2816 - val_loss: 8.7740 - val_accuracy: 0.0894\n",
            "Epoch 7/50\n",
            "259/259 [==============================] - 5s 18ms/step - loss: 3.4982 - accuracy: 0.2689 - val_loss: 8.6668 - val_accuracy: 0.1034\n",
            "Epoch 8/50\n",
            "259/259 [==============================] - 4s 15ms/step - loss: 3.4285 - accuracy: 0.2918 - val_loss: 8.7398 - val_accuracy: 0.1021\n",
            "Epoch 9/50\n",
            "259/259 [==============================] - 4s 15ms/step - loss: 3.4277 - accuracy: 0.2877 - val_loss: 8.8033 - val_accuracy: 0.1000\n",
            "Epoch 10/50\n",
            "259/259 [==============================] - 4s 17ms/step - loss: 3.4561 - accuracy: 0.2828 - val_loss: 8.7881 - val_accuracy: 0.0945\n",
            "Epoch 11/50\n",
            "259/259 [==============================] - 4s 14ms/step - loss: 3.4849 - accuracy: 0.2833 - val_loss: 8.8589 - val_accuracy: 0.0742\n",
            "Epoch 12/50\n",
            "259/259 [==============================] - 4s 15ms/step - loss: 3.4322 - accuracy: 0.2916 - val_loss: 8.7210 - val_accuracy: 0.1047\n",
            "Epoch 13/50\n",
            "259/259 [==============================] - 6s 22ms/step - loss: 3.4402 - accuracy: 0.2799 - val_loss: 8.7164 - val_accuracy: 0.0966\n",
            "Epoch 14/50\n",
            "259/259 [==============================] - 4s 15ms/step - loss: 3.3651 - accuracy: 0.2971 - val_loss: 8.8939 - val_accuracy: 0.0919\n",
            "Epoch 15/50\n",
            "259/259 [==============================] - 4s 15ms/step - loss: 3.3816 - accuracy: 0.2971 - val_loss: 8.7524 - val_accuracy: 0.0924\n",
            "Epoch 16/50\n",
            "259/259 [==============================] - 5s 19ms/step - loss: 3.4242 - accuracy: 0.2910 - val_loss: 8.8497 - val_accuracy: 0.0860\n",
            "Epoch 17/50\n",
            "259/259 [==============================] - 4s 15ms/step - loss: 3.3590 - accuracy: 0.3000 - val_loss: 8.7950 - val_accuracy: 0.0992\n",
            "Epoch 18/50\n",
            "259/259 [==============================] - 3s 13ms/step - loss: 3.3800 - accuracy: 0.2907 - val_loss: 9.0390 - val_accuracy: 0.0979\n",
            "Epoch 19/50\n",
            "259/259 [==============================] - 6s 25ms/step - loss: 3.3503 - accuracy: 0.2986 - val_loss: 8.9785 - val_accuracy: 0.0992\n",
            "Epoch 20/50\n",
            "259/259 [==============================] - 4s 15ms/step - loss: 3.3296 - accuracy: 0.3068 - val_loss: 8.8079 - val_accuracy: 0.0996\n",
            "Epoch 21/50\n",
            "259/259 [==============================] - 3s 13ms/step - loss: 3.3343 - accuracy: 0.2931 - val_loss: 9.0048 - val_accuracy: 0.1055\n",
            "Epoch 22/50\n",
            "259/259 [==============================] - 4s 17ms/step - loss: 3.3417 - accuracy: 0.3044 - val_loss: 9.0147 - val_accuracy: 0.0975\n",
            "Epoch 23/50\n",
            "259/259 [==============================] - 4s 14ms/step - loss: 3.3634 - accuracy: 0.3020 - val_loss: 8.9972 - val_accuracy: 0.0987\n",
            "Epoch 24/50\n",
            "259/259 [==============================] - 4s 14ms/step - loss: 3.3012 - accuracy: 0.3063 - val_loss: 9.0177 - val_accuracy: 0.1021\n",
            "Epoch 25/50\n",
            "259/259 [==============================] - 4s 14ms/step - loss: 3.3125 - accuracy: 0.2985 - val_loss: 9.1860 - val_accuracy: 0.0949\n",
            "Epoch 26/50\n",
            "259/259 [==============================] - 4s 17ms/step - loss: 3.2795 - accuracy: 0.3146 - val_loss: 9.1130 - val_accuracy: 0.0915\n",
            "Epoch 27/50\n",
            "259/259 [==============================] - 4s 15ms/step - loss: 3.3371 - accuracy: 0.3000 - val_loss: 8.9866 - val_accuracy: 0.1081\n",
            "Epoch 28/50\n",
            "259/259 [==============================] - 4s 15ms/step - loss: 3.3208 - accuracy: 0.2989 - val_loss: 9.0528 - val_accuracy: 0.1068\n",
            "Epoch 29/50\n",
            "259/259 [==============================] - 5s 18ms/step - loss: 3.2678 - accuracy: 0.3107 - val_loss: 9.0554 - val_accuracy: 0.0941\n",
            "Epoch 30/50\n",
            "259/259 [==============================] - 4s 14ms/step - loss: 3.3554 - accuracy: 0.2992 - val_loss: 9.0100 - val_accuracy: 0.1089\n",
            "Epoch 31/50\n",
            "259/259 [==============================] - 3s 13ms/step - loss: 3.2948 - accuracy: 0.3069 - val_loss: 9.1445 - val_accuracy: 0.0987\n",
            "Epoch 32/50\n",
            "259/259 [==============================] - 5s 18ms/step - loss: 3.2638 - accuracy: 0.3165 - val_loss: 9.0900 - val_accuracy: 0.1055\n",
            "Epoch 33/50\n",
            "259/259 [==============================] - 4s 15ms/step - loss: 3.2947 - accuracy: 0.3061 - val_loss: 9.0534 - val_accuracy: 0.1114\n",
            "Epoch 34/50\n",
            "259/259 [==============================] - 3s 13ms/step - loss: 3.2665 - accuracy: 0.3104 - val_loss: 9.0462 - val_accuracy: 0.1059\n",
            "Epoch 35/50\n",
            "259/259 [==============================] - 4s 16ms/step - loss: 3.2794 - accuracy: 0.3126 - val_loss: 9.1149 - val_accuracy: 0.1127\n",
            "Epoch 36/50\n",
            "259/259 [==============================] - 4s 15ms/step - loss: 3.2519 - accuracy: 0.3135 - val_loss: 9.1717 - val_accuracy: 0.1127\n",
            "Epoch 37/50\n",
            "259/259 [==============================] - 4s 14ms/step - loss: 3.2509 - accuracy: 0.3147 - val_loss: 9.1281 - val_accuracy: 0.1051\n",
            "Epoch 38/50\n",
            "259/259 [==============================] - 4s 14ms/step - loss: 3.2200 - accuracy: 0.3200 - val_loss: 9.1999 - val_accuracy: 0.1038\n",
            "Epoch 39/50\n",
            "259/259 [==============================] - 5s 18ms/step - loss: 3.2200 - accuracy: 0.3205 - val_loss: 9.0780 - val_accuracy: 0.1030\n",
            "Epoch 40/50\n",
            "259/259 [==============================] - 4s 14ms/step - loss: 3.2210 - accuracy: 0.3221 - val_loss: 9.2459 - val_accuracy: 0.1047\n",
            "Epoch 41/50\n",
            "259/259 [==============================] - 4s 15ms/step - loss: 3.2387 - accuracy: 0.3154 - val_loss: 9.1453 - val_accuracy: 0.1068\n",
            "Epoch 42/50\n",
            "259/259 [==============================] - 5s 18ms/step - loss: 3.2663 - accuracy: 0.3120 - val_loss: 9.2636 - val_accuracy: 0.1030\n",
            "Epoch 43/50\n",
            "259/259 [==============================] - 4s 14ms/step - loss: 3.2214 - accuracy: 0.3194 - val_loss: 9.1559 - val_accuracy: 0.1025\n",
            "Epoch 44/50\n",
            "259/259 [==============================] - 4s 14ms/step - loss: 3.2506 - accuracy: 0.3142 - val_loss: 9.1619 - val_accuracy: 0.1110\n",
            "Epoch 45/50\n",
            "259/259 [==============================] - 4s 17ms/step - loss: 3.1737 - accuracy: 0.3253 - val_loss: 9.2157 - val_accuracy: 0.0996\n",
            "Epoch 46/50\n",
            "259/259 [==============================] - 4s 15ms/step - loss: 3.1635 - accuracy: 0.3325 - val_loss: 9.0649 - val_accuracy: 0.1144\n",
            "Epoch 47/50\n",
            "259/259 [==============================] - 4s 15ms/step - loss: 3.2312 - accuracy: 0.3203 - val_loss: 9.2699 - val_accuracy: 0.1093\n",
            "Epoch 48/50\n",
            "259/259 [==============================] - 4s 14ms/step - loss: 3.2057 - accuracy: 0.3245 - val_loss: 9.1219 - val_accuracy: 0.1178\n",
            "Epoch 49/50\n",
            "259/259 [==============================] - 5s 18ms/step - loss: 3.2030 - accuracy: 0.3263 - val_loss: 9.1071 - val_accuracy: 0.1064\n",
            "Epoch 50/50\n",
            "259/259 [==============================] - 4s 15ms/step - loss: 3.1924 - accuracy: 0.3264 - val_loss: 9.0486 - val_accuracy: 0.1148\n"
          ]
        }
      ]
    },
    {
      "cell_type": "code",
      "source": [
        "# Entrenamiento\n",
        "epoch_count = range(1, len(hist.history['accuracy']) + 1)\n",
        "sns.lineplot(x=epoch_count,  y=hist.history['accuracy'], label='train')\n",
        "sns.lineplot(x=epoch_count,  y=hist.history['val_accuracy'], label='valid')\n",
        "plt.show()"
      ],
      "metadata": {
        "colab": {
          "base_uri": "https://localhost:8080/",
          "height": 430
        },
        "id": "xcmCcyeMaF0W",
        "outputId": "cb8e08eb-6e59-4e8e-87d2-93e1dab14f5d"
      },
      "execution_count": 60,
      "outputs": [
        {
          "output_type": "display_data",
          "data": {
            "text/plain": [
              "<Figure size 640x480 with 1 Axes>"
            ],
            "image/png": "[encoded data removed]"
          },
          "metadata": {}
        }
      ]
    },
    {
      "cell_type": "code",
      "source": [
        "import sys\n",
        "!{sys.executable} -m pip install gradio --quiet"
      ],
      "metadata": {
        "id": "Ae4BgckaaVz_"
      },
      "execution_count": 61,
      "outputs": []
    },
    {
      "cell_type": "code",
      "source": [
        "import gradio as gr\n",
        "\n",
        "def model_response(human_text):\n",
        "\n",
        "    # Encodeamos\n",
        "    encoded = tok.texts_to_sequences([human_text])[0]\n",
        "    # Si tienen distinto largo\n",
        "    encoded = pad_sequences([encoded], maxlen=3, padding='pre')\n",
        "    \n",
        "    # Predicción softmax\n",
        "    y_hat = model1.predict(encoded).argmax(axis=-1)\n",
        "\n",
        "    # Debemos buscar en el vocabulario la palabra\n",
        "    # que corresopnde al indice (y_hat) predicho por le modelo\n",
        "    out_word = ''\n",
        "    for word, index in tok.word_index.items():\n",
        "        if index == y_hat:\n",
        "            out_word = word\n",
        "            break\n",
        "\n",
        "    # Agrego la palabra a la frase predicha\n",
        "    print(\"Texto ingresado:\", human_text,\"- Predicción:\", out_word)\n",
        "    return human_text + ' ' + out_word\n",
        "\n",
        "iface = gr.Interface(\n",
        "    fn=model_response,\n",
        "    inputs=[\"textbox\"],\n",
        "    outputs=\"text\",\n",
        "    layout=\"vertical\")\n",
        "\n",
        "iface.launch(debug=True)"
      ],
      "metadata": {
        "colab": {
          "base_uri": "https://localhost:8080/",
          "height": 877
        },
        "id": "5DAa3Ps4aWdn",
        "outputId": "c19bd6e9-6de8-4514-e583-9890b2c3dea2"
      },
      "execution_count": 62,
      "outputs": [
        {
          "output_type": "stream",
          "name": "stderr",
          "text": [
            "/usr/local/lib/python3.10/dist-packages/gradio/deprecation.py:40: UserWarning: `layout` parameter is deprecated, and it has no effect\n",
            "  warnings.warn(value)\n"
          ]
        },
        {
          "output_type": "stream",
          "name": "stdout",
          "text": [
            "Colab notebook detected. This cell will run indefinitely so that you can see errors and logs. To turn off, set debug=False in launch().\n",
            "Note: opening Chrome Inspector may crash demo inside Colab notebooks.\n",
            "\n",
            "To create a public link, set `share=True` in `launch()`.\n"
          ]
        },
        {
          "output_type": "display_data",
          "data": {
            "text/plain": [
              "<IPython.core.display.Javascript object>"
            ],
            "application/javascript": [
              "(async (port, path, width, height, cache, element) => {\n",
              "                        if (!google.colab.kernel.accessAllowed && !cache) {\n",
              "                            return;\n",
              "                        }\n",
              "                        element.appendChild(document.createTextNode(''));\n",
              "                        const url = await google.colab.kernel.proxyPort(port, {cache});\n",
              "\n",
              "                        const external_link = document.createElement('div');\n",
              "                        external_link.innerHTML = `\n",
              "                            <div style=\"font-family: monospace; margin-bottom: 0.5rem\">\n",
              "                                Running on <a href=${new URL(path, url).toString()} target=\"_blank\">\n",
              "                                    https://localhost:${port}${path}\n",
              "                                </a>\n",
              "                            </div>\n",
              "                        `;\n",
              "                        element.appendChild(external_link);\n",
              "\n",
              "                        const iframe = document.createElement('iframe');\n",
              "                        iframe.src = new URL(path, url).toString();\n",
              "                        iframe.height = height;\n",
              "                        iframe.allow = \"autoplay; camera; microphone; clipboard-read; clipboard-write;\"\n",
              "                        iframe.width = width;\n",
              "                        iframe.style.border = 0;\n",
              "                        element.appendChild(iframe);\n",
              "                    })(7860, \"/\", \"100%\", 500, false, window.element)"
            ]
          },
          "metadata": {}
        },
        {
          "output_type": "stream",
          "name": "stdout",
          "text": [
            "1/1 [==============================] - 2s 2s/step\n",
            "Texto ingresado: let - Predicción: your\n",
            "1/1 [==============================] - 0s 30ms/step\n",
            "Texto ingresado: broken - Predicción: and\n",
            "1/1 [==============================] - 0s 24ms/step\n",
            "Texto ingresado: before - Predicción: on\n",
            "1/1 [==============================] - 0s 22ms/step\n",
            "Texto ingresado: just - Predicción: on\n",
            "1/1 [==============================] - 0s 21ms/step\n",
            "Texto ingresado: all - Predicción: \n",
            "1/1 [==============================] - 0s 29ms/step\n",
            "Texto ingresado: will - Predicción: the\n",
            "Keyboard interruption in main thread... closing server.\n"
          ]
        },
        {
          "output_type": "execute_result",
          "data": {
            "text/plain": []
          },
          "metadata": {},
          "execution_count": 62
        }
      ]
    },
    {
      "cell_type": "markdown",
      "source": [
        "###Conclusión:\n",
        " - No se evidenciaron mejoras en las metricas\n",
        " - Se realizaron pruebas con palabras y se obtienen resultados similares"
      ],
      "metadata": {
        "id": "KR067ztUcMRf"
      }
    }
  ],
  "metadata": {
    "accelerator": "GPU",
    "colab": {
      "provenance": []
    },
    "kernelspec": {
      "display_name": "Python 3",
      "name": "python3"
    },
    "language_info": {
      "name": "python"
    }
  },
  "nbformat": 4,
  "nbformat_minor": 0
}