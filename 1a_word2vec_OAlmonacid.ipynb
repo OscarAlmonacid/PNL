{
  "nbformat": 4,
  "nbformat_minor": 0,
  "metadata": {
    "colab": {
      "provenance": []
    },
    "kernelspec": {
      "name": "python3",
      "display_name": "Python 3"
    },
    "language_info": {
      "name": "python"
    }
  },
  "cells": [
    {
      "cell_type": "markdown",
      "metadata": {
        "id": "Ue5hxxkdAQJg"
      },
      "source": [
        "<img src=\"https://github.com/FIUBA-Posgrado-Inteligencia-Artificial/procesamiento_lenguaje_natural/raw/main/logoFIUBA.jpg\" width=\"500\" align=\"center\">\n",
        "\n",
        "\n",
        "# Procesamiento de lenguaje natural\n",
        "## Word2vect\n"
      ]
    },
    {
      "cell_type": "code",
      "metadata": {
        "id": "kCED1hh-Ioyf"
      },
      "source": [
        "import numpy as np"
      ],
      "execution_count": 1,
      "outputs": []
    },
    {
      "cell_type": "code",
      "metadata": {
        "id": "PUbfVnzIIoMj"
      },
      "source": [
        "def cosine_similarity(a, b):\n",
        "    return np.dot(a, b) / (np.linalg.norm(a) * (np.linalg.norm(b)))"
      ],
      "execution_count": 2,
      "outputs": []
    },
    {
      "cell_type": "markdown",
      "metadata": {
        "id": "DMOa4JPSCJ29"
      },
      "source": [
        "### Datos"
      ]
    },
    {
      "cell_type": "code",
      "metadata": {
        "id": "RIO7b8GjAC17"
      },
      "source": [
        "corpus = np.array(['que dia es hoy', 'martes el dia de hoy es martes', 'martes muchas gracias'])"
      ],
      "execution_count": 3,
      "outputs": []
    },
    {
      "cell_type": "markdown",
      "metadata": {
        "id": "8WqdaTmO8P1r"
      },
      "source": [
        "Documento 1 --> que dia es hoy \\\n",
        "Documento 2 --> martes el dia de hoy es martes \\\n",
        "Documento 3 --> martes muchas gracias"
      ]
    },
    {
      "cell_type": "markdown",
      "metadata": {
        "id": "FVHxBRNzCMOS"
      },
      "source": [
        "### 1 - Obtener el vocabulario del corpus (los términos utilizados)\n",
        "- Cada documento transformarlo en una lista de términos\n",
        "- Armar un vector de términos no repetidos de todos los documentos"
      ]
    },
    {
      "cell_type": "code",
      "metadata": {
        "id": "3ZqTOZzDI7uv",
        "colab": {
          "base_uri": "https://localhost:8080/"
        },
        "outputId": "f780fd62-fe0d-4ab2-c543-08ada663c783"
      },
      "source": [
        "lineas = [linea.split() for linea in corpus]\n",
        "\n",
        "for linea in lineas:\n",
        "    print(linea)"
      ],
      "execution_count": 4,
      "outputs": [
        {
          "output_type": "stream",
          "name": "stdout",
          "text": [
            "['que', 'dia', 'es', 'hoy']\n",
            "['martes', 'el', 'dia', 'de', 'hoy', 'es', 'martes']\n",
            "['martes', 'muchas', 'gracias']\n"
          ]
        }
      ]
    },
    {
      "cell_type": "code",
      "source": [
        "lista = \" \".join(corpus)\n",
        "\n",
        "print(lista)"
      ],
      "metadata": {
        "colab": {
          "base_uri": "https://localhost:8080/"
        },
        "id": "_mQrmkJvui9B",
        "outputId": "4ddff870-9e81-41df-b023-c4a9dcffe897"
      },
      "execution_count": 5,
      "outputs": [
        {
          "output_type": "stream",
          "name": "stdout",
          "text": [
            "que dia es hoy martes el dia de hoy es martes martes muchas gracias\n"
          ]
        }
      ]
    },
    {
      "cell_type": "code",
      "source": [
        "wlista = lista.split()\n",
        "print(wlista)"
      ],
      "metadata": {
        "colab": {
          "base_uri": "https://localhost:8080/"
        },
        "id": "bOsz1wnVzi0E",
        "outputId": "bdd72338-6635-4a35-c9dd-17d396276dfb"
      },
      "execution_count": 6,
      "outputs": [
        {
          "output_type": "stream",
          "name": "stdout",
          "text": [
            "['que', 'dia', 'es', 'hoy', 'martes', 'el', 'dia', 'de', 'hoy', 'es', 'martes', 'martes', 'muchas', 'gracias']\n"
          ]
        }
      ]
    },
    {
      "cell_type": "code",
      "source": [
        "norepetidos = set(wlista)\n",
        "print(norepetidos)"
      ],
      "metadata": {
        "colab": {
          "base_uri": "https://localhost:8080/"
        },
        "id": "oCfEaJ_uv_M_",
        "outputId": "2ba94d46-9543-4fe5-f0e8-e846f91c863d"
      },
      "execution_count": 7,
      "outputs": [
        {
          "output_type": "stream",
          "name": "stdout",
          "text": [
            "{'el', 'martes', 'muchas', 'que', 'dia', 'de', 'hoy', 'gracias', 'es'}\n"
          ]
        }
      ]
    },
    {
      "cell_type": "markdown",
      "metadata": {
        "id": "RUhH983FI7It"
      },
      "source": [
        "### 2- OneHot encoding\n",
        "Data una lista de textos, devolver una matriz con la representación oneHotEncoding de estos"
      ]
    },
    {
      "cell_type": "code",
      "metadata": {
        "id": "Os0AAQo6I6Z1",
        "colab": {
          "base_uri": "https://localhost:8080/"
        },
        "outputId": "ca20905b-49a3-4284-8f12-40392666a931"
      },
      "source": [
        "words = sorted(list(set(\" \".join(corpus).split())))\n",
        "onehot = np.zeros((len(corpus), len(words)))\n",
        "for i, text in enumerate(corpus):\n",
        "    for j, word in enumerate(words):\n",
        "        if word in text.split():\n",
        "            onehot[i][j] = 1\n",
        "print(onehot)"
      ],
      "execution_count": 8,
      "outputs": [
        {
          "output_type": "stream",
          "name": "stdout",
          "text": [
            "[[0. 1. 0. 1. 0. 1. 0. 0. 1.]\n",
            " [1. 1. 1. 1. 0. 1. 1. 0. 0.]\n",
            " [0. 0. 0. 0. 1. 0. 1. 1. 0.]]\n"
          ]
        }
      ]
    },
    {
      "cell_type": "markdown",
      "source": [
        "Para realizar este ejercicio, utilizé ChatGPT por primera vez. La sentencia que le escribí es la siguiente:\n",
        "\"Utilizando numpy con lenguaje pyton, y los siguientes datos: corpus = np.array(['que dia es hoy', 'martes el dia de hoy es martes', 'martes muchas gracias']) realizar un codigo que dada la lista de textos en el vector corpus que devuelva una matriz con la representación oneHotEncoding de estos\".\n",
        "Impresionante"
      ],
      "metadata": {
        "id": "UVhgneibnQOd"
      }
    },
    {
      "cell_type": "markdown",
      "metadata": {
        "id": "IIyWGmCpJVQL"
      },
      "source": [
        "### 3- Vectores de frecuencia\n",
        "Data una lista de textos, devolver una matriz con la representación de frecuencia de estos"
      ]
    },
    {
      "cell_type": "code",
      "metadata": {
        "id": "yqij_7eHJbUi",
        "colab": {
          "base_uri": "https://localhost:8080/"
        },
        "outputId": "cfc27b4c-4c23-4432-e5bb-3aa2d43837b1"
      },
      "source": [
        "print(wlista)"
      ],
      "execution_count": 9,
      "outputs": [
        {
          "output_type": "stream",
          "name": "stdout",
          "text": [
            "['que', 'dia', 'es', 'hoy', 'martes', 'el', 'dia', 'de', 'hoy', 'es', 'martes', 'martes', 'muchas', 'gracias']\n"
          ]
        }
      ]
    },
    {
      "cell_type": "code",
      "source": [
        "frecuenciaPalab = []\n",
        "for w in wlista:\n",
        "    frecuenciaPalab.append(wlista.count(w))\n",
        "print(frecuenciaPalab)"
      ],
      "metadata": {
        "colab": {
          "base_uri": "https://localhost:8080/"
        },
        "id": "ied4Y4Tc0Y4d",
        "outputId": "64dfd06e-8eb3-490b-93b8-856a5b330e72"
      },
      "execution_count": 10,
      "outputs": [
        {
          "output_type": "stream",
          "name": "stdout",
          "text": [
            "[1, 2, 2, 2, 3, 1, 2, 1, 2, 2, 3, 3, 1, 1]\n"
          ]
        }
      ]
    },
    {
      "cell_type": "code",
      "source": [
        "print(lineas)"
      ],
      "metadata": {
        "colab": {
          "base_uri": "https://localhost:8080/"
        },
        "id": "ZI8JIDAG48ES",
        "outputId": "8730f0c1-326b-4ec0-e2af-7a71f2c49689"
      },
      "execution_count": 11,
      "outputs": [
        {
          "output_type": "stream",
          "name": "stdout",
          "text": [
            "[['que', 'dia', 'es', 'hoy'], ['martes', 'el', 'dia', 'de', 'hoy', 'es', 'martes'], ['martes', 'muchas', 'gracias']]\n"
          ]
        }
      ]
    },
    {
      "cell_type": "code",
      "source": [
        "frecuenciaW = []\n",
        "for w in lineas:\n",
        "    frecuenciaW.append(lineas.count(w))\n",
        "print(frecuenciaW)"
      ],
      "metadata": {
        "colab": {
          "base_uri": "https://localhost:8080/"
        },
        "id": "yg6UITl25AHJ",
        "outputId": "59178ac3-2ef4-4643-b17b-bbdb5eb27345"
      },
      "execution_count": 12,
      "outputs": [
        {
          "output_type": "stream",
          "name": "stdout",
          "text": [
            "[1, 1, 1]\n"
          ]
        }
      ]
    },
    {
      "cell_type": "markdown",
      "metadata": {
        "id": "z_Ot8HvWJcBu"
      },
      "source": [
        "### 4- TF-IDF\n",
        "Data una lista de textos, devolver una matriz con la representacion TFIDF"
      ]
    },
    {
      "cell_type": "code",
      "metadata": {
        "id": "waG_oWtpJjRw",
        "colab": {
          "base_uri": "https://localhost:8080/"
        },
        "outputId": "5d7374c1-27e6-4a68-ceb1-3957cf1fcfab"
      },
      "source": [
        "tf = np.zeros((len(corpus), len(words)))\n",
        "tf"
      ],
      "execution_count": 14,
      "outputs": [
        {
          "output_type": "execute_result",
          "data": {
            "text/plain": [
              "array([[0., 0., 0., 0., 0., 0., 0., 0., 0.],\n",
              "       [0., 0., 0., 0., 0., 0., 0., 0., 0.],\n",
              "       [0., 0., 0., 0., 0., 0., 0., 0., 0.]])"
            ]
          },
          "metadata": {},
          "execution_count": 14
        }
      ]
    },
    {
      "cell_type": "code",
      "source": [
        "for i, text in enumerate(corpus):\n",
        "    for j, word in enumerate(words):\n",
        "        if word in text.split():\n",
        "            tf[i][j] = text.split().count(word)\n",
        "tf"
      ],
      "metadata": {
        "colab": {
          "base_uri": "https://localhost:8080/"
        },
        "id": "0eOI8l_FphqU",
        "outputId": "d88d2d6d-7289-481a-c004-5b51a3c195ca"
      },
      "execution_count": 16,
      "outputs": [
        {
          "output_type": "execute_result",
          "data": {
            "text/plain": [
              "array([[0., 1., 0., 1., 0., 1., 0., 0., 1.],\n",
              "       [1., 1., 1., 1., 0., 1., 2., 0., 0.],\n",
              "       [0., 0., 0., 0., 1., 0., 1., 1., 0.]])"
            ]
          },
          "metadata": {},
          "execution_count": 16
        }
      ]
    },
    {
      "cell_type": "code",
      "source": [
        "idf = np.zeros((1, len(words)))\n",
        "for j, word in enumerate(words):\n",
        "    for text in corpus:\n",
        "        if word in text.split():\n",
        "            idf[0][j] += 1\n",
        "    idf[0][j] = np.log(len(corpus) / idf[0][j])\n",
        "idf"
      ],
      "metadata": {
        "colab": {
          "base_uri": "https://localhost:8080/"
        },
        "id": "gS62IOnqpzVp",
        "outputId": "0f33d45a-a849-4942-c88d-9bfaee459ac6"
      },
      "execution_count": 18,
      "outputs": [
        {
          "output_type": "execute_result",
          "data": {
            "text/plain": [
              "array([[1.09861229, 0.40546511, 1.09861229, 0.40546511, 1.09861229,\n",
              "        0.40546511, 0.40546511, 1.09861229, 1.09861229]])"
            ]
          },
          "metadata": {},
          "execution_count": 18
        }
      ]
    },
    {
      "cell_type": "code",
      "source": [
        "tfidf = tf * idf\n",
        "print(tfidf)"
      ],
      "metadata": {
        "colab": {
          "base_uri": "https://localhost:8080/"
        },
        "id": "PPbN6l3rqHhv",
        "outputId": "c35a759b-9242-4896-a101-a3c034abf7b8"
      },
      "execution_count": 19,
      "outputs": [
        {
          "output_type": "stream",
          "name": "stdout",
          "text": [
            "[[0.         0.40546511 0.         0.40546511 0.         0.40546511\n",
            "  0.         0.         1.09861229]\n",
            " [1.09861229 0.40546511 1.09861229 0.40546511 0.         0.40546511\n",
            "  0.81093022 0.         0.        ]\n",
            " [0.         0.         0.         0.         1.09861229 0.\n",
            "  0.40546511 1.09861229 0.        ]]\n"
          ]
        }
      ]
    },
    {
      "cell_type": "markdown",
      "metadata": {
        "id": "xMcsfndWJjm_"
      },
      "source": [
        "### 5 - Comparación de documentos\n",
        "Realizar una funcion que reciba el corpus y el índice de un documento y devuelva los documentos ordenados por la similitud coseno"
      ]
    },
    {
      "cell_type": "code",
      "metadata": {
        "id": "CZdiop6IJpZN"
      },
      "source": [],
      "execution_count": 21,
      "outputs": []
    }
  ]
}