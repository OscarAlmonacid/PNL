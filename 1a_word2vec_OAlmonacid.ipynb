{
  "nbformat": 4,
  "nbformat_minor": 0,
  "metadata": {
    "colab": {
      "provenance": []
    },
    "kernelspec": {
      "name": "python3",
      "display_name": "Python 3"
    },
    "language_info": {
      "name": "python"
    }
  },
  "cells": [
    {
      "cell_type": "markdown",
      "metadata": {
        "id": "Ue5hxxkdAQJg"
      },
      "source": [
        "<img src=\"https://github.com/FIUBA-Posgrado-Inteligencia-Artificial/procesamiento_lenguaje_natural/raw/main/logoFIUBA.jpg\" width=\"500\" align=\"center\">\n",
        "\n",
        "\n",
        "# Procesamiento de lenguaje natural\n",
        "## Word2vect\n"
      ]
    },
    {
      "cell_type": "code",
      "metadata": {
        "id": "kCED1hh-Ioyf"
      },
      "source": [
        "import numpy as np"
      ],
      "execution_count": 24,
      "outputs": []
    },
    {
      "cell_type": "code",
      "metadata": {
        "id": "PUbfVnzIIoMj"
      },
      "source": [
        "def cosine_similarity(a, b):\n",
        "    return np.dot(a, b) / (np.linalg.norm(a) * (np.linalg.norm(b)))"
      ],
      "execution_count": 25,
      "outputs": []
    },
    {
      "cell_type": "markdown",
      "metadata": {
        "id": "DMOa4JPSCJ29"
      },
      "source": [
        "### Datos"
      ]
    },
    {
      "cell_type": "code",
      "metadata": {
        "id": "RIO7b8GjAC17"
      },
      "source": [
        "corpus = np.array(['que dia es hoy', 'martes el dia de hoy es martes', 'martes muchas gracias'])"
      ],
      "execution_count": 26,
      "outputs": []
    },
    {
      "cell_type": "markdown",
      "metadata": {
        "id": "8WqdaTmO8P1r"
      },
      "source": [
        "Documento 1 --> que dia es hoy \\\n",
        "Documento 2 --> martes el dia de hoy es martes \\\n",
        "Documento 3 --> martes muchas gracias"
      ]
    },
    {
      "cell_type": "markdown",
      "metadata": {
        "id": "FVHxBRNzCMOS"
      },
      "source": [
        "### 1 - Obtener el vocabulario del corpus (los términos utilizados)\n",
        "- Cada documento transformarlo en una lista de términos\n",
        "- Armar un vector de términos no repetidos de todos los documentos"
      ]
    },
    {
      "cell_type": "code",
      "metadata": {
        "id": "3ZqTOZzDI7uv",
        "colab": {
          "base_uri": "https://localhost:8080/"
        },
        "outputId": "9a2ffc77-6786-4931-f8c8-ba0bf3b060a5"
      },
      "source": [
        "lineas = [linea.split() for linea in corpus]\n",
        "\n",
        "for linea in lineas:\n",
        "    print(linea)"
      ],
      "execution_count": 27,
      "outputs": [
        {
          "output_type": "stream",
          "name": "stdout",
          "text": [
            "['que', 'dia', 'es', 'hoy']\n",
            "['martes', 'el', 'dia', 'de', 'hoy', 'es', 'martes']\n",
            "['martes', 'muchas', 'gracias']\n"
          ]
        }
      ]
    },
    {
      "cell_type": "code",
      "source": [
        "lista = \" \".join(corpus)\n",
        "\n",
        "print(lista)"
      ],
      "metadata": {
        "colab": {
          "base_uri": "https://localhost:8080/"
        },
        "id": "_mQrmkJvui9B",
        "outputId": "141933e1-9b44-4261-cfa7-20fa8a55d408"
      },
      "execution_count": 28,
      "outputs": [
        {
          "output_type": "stream",
          "name": "stdout",
          "text": [
            "que dia es hoy martes el dia de hoy es martes martes muchas gracias\n"
          ]
        }
      ]
    },
    {
      "cell_type": "code",
      "source": [
        "wlista = lista.split()\n",
        "print(wlista)"
      ],
      "metadata": {
        "colab": {
          "base_uri": "https://localhost:8080/"
        },
        "id": "bOsz1wnVzi0E",
        "outputId": "9da57a67-9753-471a-98fb-8b17b22443b9"
      },
      "execution_count": 29,
      "outputs": [
        {
          "output_type": "stream",
          "name": "stdout",
          "text": [
            "['que', 'dia', 'es', 'hoy', 'martes', 'el', 'dia', 'de', 'hoy', 'es', 'martes', 'martes', 'muchas', 'gracias']\n"
          ]
        }
      ]
    },
    {
      "cell_type": "code",
      "source": [
        "norepetidos = set(wlista)\n",
        "print(norepetidos)"
      ],
      "metadata": {
        "colab": {
          "base_uri": "https://localhost:8080/"
        },
        "id": "oCfEaJ_uv_M_",
        "outputId": "c93e1b3c-2ea4-4597-db04-1bac7dfe8adb"
      },
      "execution_count": 30,
      "outputs": [
        {
          "output_type": "stream",
          "name": "stdout",
          "text": [
            "{'martes', 'muchas', 'gracias', 'que', 'es', 'hoy', 'el', 'de', 'dia'}\n"
          ]
        }
      ]
    },
    {
      "cell_type": "code",
      "source": [
        "def vocab(corpus):\n",
        "    palabras = []\n",
        "    for doc in corpus:\n",
        "        palabras.extend(doc.split())\n",
        "    return np.unique(palabras)"
      ],
      "metadata": {
        "id": "iLo0oTYKsSZZ"
      },
      "execution_count": 31,
      "outputs": []
    },
    {
      "cell_type": "code",
      "source": [
        "vocab(corpus)"
      ],
      "metadata": {
        "colab": {
          "base_uri": "https://localhost:8080/"
        },
        "id": "XJCDLWIbsdvY",
        "outputId": "11d4560a-a94c-4b8c-962d-114057d21f0a"
      },
      "execution_count": 32,
      "outputs": [
        {
          "output_type": "execute_result",
          "data": {
            "text/plain": [
              "array(['de', 'dia', 'el', 'es', 'gracias', 'hoy', 'martes', 'muchas',\n",
              "       'que'], dtype='<U7')"
            ]
          },
          "metadata": {},
          "execution_count": 32
        }
      ]
    },
    {
      "cell_type": "markdown",
      "metadata": {
        "id": "RUhH983FI7It"
      },
      "source": [
        "### 2- OneHot encoding\n",
        "Data una lista de textos, devolver una matriz con la representación oneHotEncoding de estos"
      ]
    },
    {
      "cell_type": "code",
      "metadata": {
        "id": "Os0AAQo6I6Z1"
      },
      "source": [
        "def OHE(corpus):\n",
        "    palabras = vocab(corpus)\n",
        "    OHMatrix = np.zeros((len(corpus), len(palabras)))\n",
        "    for j in range(len(palabras)):\n",
        "        for i in range(len(corpus)):\n",
        "            if palabras[j] in corpus[i].split():\n",
        "                OHMatrix[i,j] = 1\n",
        "    return OHMatrix"
      ],
      "execution_count": 33,
      "outputs": []
    },
    {
      "cell_type": "code",
      "source": [
        "OHE(corpus)"
      ],
      "metadata": {
        "colab": {
          "base_uri": "https://localhost:8080/"
        },
        "id": "6swurwuRs1Xp",
        "outputId": "f4c8c447-f1c3-468e-aaab-15af24a1adeb"
      },
      "execution_count": 34,
      "outputs": [
        {
          "output_type": "execute_result",
          "data": {
            "text/plain": [
              "array([[0., 1., 0., 1., 0., 1., 0., 0., 1.],\n",
              "       [1., 1., 1., 1., 0., 1., 1., 0., 0.],\n",
              "       [0., 0., 0., 0., 1., 0., 1., 1., 0.]])"
            ]
          },
          "metadata": {},
          "execution_count": 34
        }
      ]
    },
    {
      "cell_type": "code",
      "source": [
        "OHEc=OHE(corpus)"
      ],
      "metadata": {
        "id": "yOyCSvtWukha"
      },
      "execution_count": 35,
      "outputs": []
    },
    {
      "cell_type": "markdown",
      "metadata": {
        "id": "IIyWGmCpJVQL"
      },
      "source": [
        "### 3- Vectores de frecuencia\n",
        "Data una lista de textos, devolver una matriz con la representación de frecuencia de estos"
      ]
    },
    {
      "cell_type": "code",
      "metadata": {
        "id": "yqij_7eHJbUi"
      },
      "source": [
        "def frecVectors(corpus):\n",
        "    palabras = vocab(corpus)\n",
        "    frecMatrix = np.zeros((len(corpus), len(palabras)))\n",
        "    for j in range(len(palabras)):\n",
        "        for i in range(len(corpus)):\n",
        "                frecMatrix[i,j] = corpus[i].split().count(palabras[j])\n",
        "    return frecMatrix"
      ],
      "execution_count": 36,
      "outputs": []
    },
    {
      "cell_type": "code",
      "source": [
        "frecVectors(corpus)"
      ],
      "metadata": {
        "colab": {
          "base_uri": "https://localhost:8080/"
        },
        "id": "ied4Y4Tc0Y4d",
        "outputId": "89b07d75-852d-4202-b906-06a593da66f7"
      },
      "execution_count": 37,
      "outputs": [
        {
          "output_type": "execute_result",
          "data": {
            "text/plain": [
              "array([[0., 1., 0., 1., 0., 1., 0., 0., 1.],\n",
              "       [1., 1., 1., 1., 0., 1., 2., 0., 0.],\n",
              "       [0., 0., 0., 0., 1., 0., 1., 1., 0.]])"
            ]
          },
          "metadata": {},
          "execution_count": 37
        }
      ]
    },
    {
      "cell_type": "markdown",
      "metadata": {
        "id": "z_Ot8HvWJcBu"
      },
      "source": [
        "### 4- TF-IDF\n",
        "Data una lista de textos, devolver una matriz con la representacion TFIDF"
      ]
    },
    {
      "cell_type": "code",
      "metadata": {
        "id": "waG_oWtpJjRw"
      },
      "source": [
        "def tf_idf(corpus):\n",
        "    palabras = vocab(corpus)\n",
        "    contador_idf = np.zeros(len(palabras))\n",
        "    for j in range(len(palabras)):\n",
        "        for i in range(len(corpus)):\n",
        "                if palabras[j] in corpus[i].split():\n",
        "                    contador_idf[j] += 1\n",
        "    factor_idf = np.log10(np.full(len(palabras), len(corpus))/contador_idf)\n",
        "\n",
        "    return frecVectors(corpus) * factor_idf"
      ],
      "execution_count": 38,
      "outputs": []
    },
    {
      "cell_type": "code",
      "source": [
        "tf_idf(corpus)"
      ],
      "metadata": {
        "colab": {
          "base_uri": "https://localhost:8080/"
        },
        "id": "0eOI8l_FphqU",
        "outputId": "9936c0a2-7536-4843-b040-0278399757dc"
      },
      "execution_count": 39,
      "outputs": [
        {
          "output_type": "execute_result",
          "data": {
            "text/plain": [
              "array([[0.        , 0.17609126, 0.        , 0.17609126, 0.        ,\n",
              "        0.17609126, 0.        , 0.        , 0.47712125],\n",
              "       [0.47712125, 0.17609126, 0.47712125, 0.17609126, 0.        ,\n",
              "        0.17609126, 0.35218252, 0.        , 0.        ],\n",
              "       [0.        , 0.        , 0.        , 0.        , 0.47712125,\n",
              "        0.        , 0.17609126, 0.47712125, 0.        ]])"
            ]
          },
          "metadata": {},
          "execution_count": 39
        }
      ]
    },
    {
      "cell_type": "code",
      "source": [
        "ti=tf_idf(corpus)"
      ],
      "metadata": {
        "id": "oL2C5vGNueIw"
      },
      "execution_count": 40,
      "outputs": []
    },
    {
      "cell_type": "markdown",
      "metadata": {
        "id": "xMcsfndWJjm_"
      },
      "source": [
        "### 5 - Comparación de documentos\n",
        "Realizar una funcion que reciba el corpus y el índice de un documento y devuelva los documentos ordenados por la similitud coseno"
      ]
    },
    {
      "cell_type": "code",
      "metadata": {
        "id": "CZdiop6IJpZN"
      },
      "source": [
        "def comparaDocs(corpus, indice):\n",
        "    docs = tf_idf(corpus)\n",
        "    similitud_coseno = []\n",
        "    for doc in docs:\n",
        "        similitud_coseno.append(cosine_similarity(doc, docs[indice]))\n",
        "    sorted_idx = np.argsort(similitud_coseno)[::-1]\n",
        "    return corpus[sorted_idx]"
      ],
      "execution_count": 41,
      "outputs": []
    },
    {
      "cell_type": "code",
      "source": [
        "comparaDocs(corpus, 2)"
      ],
      "metadata": {
        "colab": {
          "base_uri": "https://localhost:8080/"
        },
        "id": "Nh_rePo4uF-R",
        "outputId": "4ec376e2-4b59-4a6a-c2d7-48bb2d55ddfa"
      },
      "execution_count": 42,
      "outputs": [
        {
          "output_type": "execute_result",
          "data": {
            "text/plain": [
              "array(['martes muchas gracias', 'martes el dia de hoy es martes',\n",
              "       'que dia es hoy'], dtype='<U30')"
            ]
          },
          "metadata": {},
          "execution_count": 42
        }
      ]
    }
  ]
}