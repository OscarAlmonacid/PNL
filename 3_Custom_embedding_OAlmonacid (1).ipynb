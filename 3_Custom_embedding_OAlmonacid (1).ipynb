{
  "cells": [
    {
      "cell_type": "markdown",
      "metadata": {
        "id": "sZd5yLnnHOK0"
      },
      "source": [
        "<img src=\"https://github.com/hernancontigiani/ceia_memorias_especializacion/raw/master/Figures/logoFIUBA.jpg\" width=\"500\" align=\"center\">\n",
        "\n",
        "\n",
        "# Procesamiento de lenguaje natural\n",
        "## Custom embedddings con Gensim\n",
        "\n"
      ]
    },
    {
      "cell_type": "markdown",
      "metadata": {
        "id": "vA7nqkumo9z9"
      },
      "source": [
        "### Objetivo\n",
        "El objetivo es utilizar documentos / corpus para crear embeddings de palabras basado en ese contexto. Se utilizará canciones de bandas para generar los embeddings, es decir, que los vectores tendrán la forma en función de como esa banda haya utilizado las palabras en sus canciones."
      ]
    },
    {
      "cell_type": "code",
      "execution_count": 1,
      "metadata": {
        "id": "lFToQs5FK5uZ"
      },
      "outputs": [],
      "source": [
        "import pandas as pd\n",
        "import matplotlib.pyplot as plt\n",
        "import seaborn as sns\n",
        "\n",
        "import multiprocessing\n",
        "from gensim.models import Word2Vec"
      ]
    },
    {
      "cell_type": "markdown",
      "metadata": {
        "id": "g07zJxG7H9vG"
      },
      "source": [
        "### Datos\n",
        "Utilizaremos como dataset el libro \"El Quijote de la mancha\" de Miguel de Cervantes Saavedra"
      ]
    },
    {
      "cell_type": "code",
      "execution_count": 2,
      "metadata": {
        "id": "ticoqYD1Z3I7",
        "colab": {
          "base_uri": "https://localhost:8080/",
          "height": 206
        },
        "outputId": "fc4489ae-ad0f-4f13-c740-29545da55392"
      },
      "outputs": [
        {
          "output_type": "execute_result",
          "data": {
            "text/plain": [
              "                                                     0\n",
              "100  Capítulo 10: De los graciosos razonamientos q...\n",
              "101  Ya en este tiempo se había levantado Sancho P...\n",
              "102  Seguíale Sancho a todo trote de su jumento; p...\n",
              "103  Todo esto fuera bien escusado, respondió Don ...\n",
              "104  menester yo más para pasar esta vida honrada ..."
            ],
            "text/html": [
              "\n",
              "  <div id=\"df-6c240db8-cf68-4779-aabd-be603ebe30be\">\n",
              "    <div class=\"colab-df-container\">\n",
              "      <div>\n",
              "<style scoped>\n",
              "    .dataframe tbody tr th:only-of-type {\n",
              "        vertical-align: middle;\n",
              "    }\n",
              "\n",
              "    .dataframe tbody tr th {\n",
              "        vertical-align: top;\n",
              "    }\n",
              "\n",
              "    .dataframe thead th {\n",
              "        text-align: right;\n",
              "    }\n",
              "</style>\n",
              "<table border=\"1\" class=\"dataframe\">\n",
              "  <thead>\n",
              "    <tr style=\"text-align: right;\">\n",
              "      <th></th>\n",
              "      <th>0</th>\n",
              "    </tr>\n",
              "  </thead>\n",
              "  <tbody>\n",
              "    <tr>\n",
              "      <th>100</th>\n",
              "      <td>Capítulo 10: De los graciosos razonamientos q...</td>\n",
              "    </tr>\n",
              "    <tr>\n",
              "      <th>101</th>\n",
              "      <td>Ya en este tiempo se había levantado Sancho P...</td>\n",
              "    </tr>\n",
              "    <tr>\n",
              "      <th>102</th>\n",
              "      <td>Seguíale Sancho a todo trote de su jumento; p...</td>\n",
              "    </tr>\n",
              "    <tr>\n",
              "      <th>103</th>\n",
              "      <td>Todo esto fuera bien escusado, respondió Don ...</td>\n",
              "    </tr>\n",
              "    <tr>\n",
              "      <th>104</th>\n",
              "      <td>menester yo más para pasar esta vida honrada ...</td>\n",
              "    </tr>\n",
              "  </tbody>\n",
              "</table>\n",
              "</div>\n",
              "      <button class=\"colab-df-convert\" onclick=\"convertToInteractive('df-6c240db8-cf68-4779-aabd-be603ebe30be')\"\n",
              "              title=\"Convert this dataframe to an interactive table.\"\n",
              "              style=\"display:none;\">\n",
              "        \n",
              "  <svg xmlns=\"http://www.w3.org/2000/svg\" height=\"24px\"viewBox=\"0 0 24 24\"\n",
              "       width=\"24px\">\n",
              "    <path d=\"M0 0h24v24H0V0z\" fill=\"none\"/>\n",
              "    <path d=\"M18.56 5.44l.94 2.06.94-2.06 2.06-.94-2.06-.94-.94-2.06-.94 2.06-2.06.94zm-11 1L8.5 8.5l.94-2.06 2.06-.94-2.06-.94L8.5 2.5l-.94 2.06-2.06.94zm10 10l.94 2.06.94-2.06 2.06-.94-2.06-.94-.94-2.06-.94 2.06-2.06.94z\"/><path d=\"M17.41 7.96l-1.37-1.37c-.4-.4-.92-.59-1.43-.59-.52 0-1.04.2-1.43.59L10.3 9.45l-7.72 7.72c-.78.78-.78 2.05 0 2.83L4 21.41c.39.39.9.59 1.41.59.51 0 1.02-.2 1.41-.59l7.78-7.78 2.81-2.81c.8-.78.8-2.07 0-2.86zM5.41 20L4 18.59l7.72-7.72 1.47 1.35L5.41 20z\"/>\n",
              "  </svg>\n",
              "      </button>\n",
              "      \n",
              "  <style>\n",
              "    .colab-df-container {\n",
              "      display:flex;\n",
              "      flex-wrap:wrap;\n",
              "      gap: 12px;\n",
              "    }\n",
              "\n",
              "    .colab-df-convert {\n",
              "      background-color: #E8F0FE;\n",
              "      border: none;\n",
              "      border-radius: 50%;\n",
              "      cursor: pointer;\n",
              "      display: none;\n",
              "      fill: #1967D2;\n",
              "      height: 32px;\n",
              "      padding: 0 0 0 0;\n",
              "      width: 32px;\n",
              "    }\n",
              "\n",
              "    .colab-df-convert:hover {\n",
              "      background-color: #E2EBFA;\n",
              "      box-shadow: 0px 1px 2px rgba(60, 64, 67, 0.3), 0px 1px 3px 1px rgba(60, 64, 67, 0.15);\n",
              "      fill: #174EA6;\n",
              "    }\n",
              "\n",
              "    [theme=dark] .colab-df-convert {\n",
              "      background-color: #3B4455;\n",
              "      fill: #D2E3FC;\n",
              "    }\n",
              "\n",
              "    [theme=dark] .colab-df-convert:hover {\n",
              "      background-color: #434B5C;\n",
              "      box-shadow: 0px 1px 3px 1px rgba(0, 0, 0, 0.15);\n",
              "      filter: drop-shadow(0px 1px 2px rgba(0, 0, 0, 0.3));\n",
              "      fill: #FFFFFF;\n",
              "    }\n",
              "  </style>\n",
              "\n",
              "      <script>\n",
              "        const buttonEl =\n",
              "          document.querySelector('#df-6c240db8-cf68-4779-aabd-be603ebe30be button.colab-df-convert');\n",
              "        buttonEl.style.display =\n",
              "          google.colab.kernel.accessAllowed ? 'block' : 'none';\n",
              "\n",
              "        async function convertToInteractive(key) {\n",
              "          const element = document.querySelector('#df-6c240db8-cf68-4779-aabd-be603ebe30be');\n",
              "          const dataTable =\n",
              "            await google.colab.kernel.invokeFunction('convertToInteractive',\n",
              "                                                     [key], {});\n",
              "          if (!dataTable) return;\n",
              "\n",
              "          const docLinkHtml = 'Like what you see? Visit the ' +\n",
              "            '<a target=\"_blank\" href=https://colab.research.google.com/notebooks/data_table.ipynb>data table notebook</a>'\n",
              "            + ' to learn more about interactive tables.';\n",
              "          element.innerHTML = '';\n",
              "          dataTable['output_type'] = 'display_data';\n",
              "          await google.colab.output.renderOutput(dataTable, element);\n",
              "          const docLink = document.createElement('div');\n",
              "          docLink.innerHTML = docLinkHtml;\n",
              "          element.appendChild(docLink);\n",
              "        }\n",
              "      </script>\n",
              "    </div>\n",
              "  </div>\n",
              "  "
            ]
          },
          "metadata": {},
          "execution_count": 2
        }
      ],
      "source": [
        "# Armar el dataset utilizando salto de línea para separar las oraciones/docs\n",
        "df = pd.read_csv('https://gist.githubusercontent.com/jsdario/6d6c69398cb0c73111e49f1218960f79/raw/8d4fc4548d437e2a7203a5aeeace5477f598827d/el_quijote.txt', sep='/n', engine='python', header=None)\n",
        "df[100:105]"
      ]
    },
    {
      "cell_type": "code",
      "execution_count": 3,
      "metadata": {
        "id": "LEpKubK9XzXN",
        "colab": {
          "base_uri": "https://localhost:8080/"
        },
        "outputId": "f6e901b8-0381-4847-ee0c-31b233b590de"
      },
      "outputs": [
        {
          "output_type": "stream",
          "name": "stdout",
          "text": [
            "Cantidad de documentos: 2185\n"
          ]
        }
      ],
      "source": [
        "print(\"Cantidad de documentos:\", df.shape[0])"
      ]
    },
    {
      "cell_type": "markdown",
      "metadata": {
        "id": "ab94qaFlrA1G"
      },
      "source": [
        "### 1 - Preprocesamiento"
      ]
    },
    {
      "cell_type": "code",
      "execution_count": 4,
      "metadata": {
        "id": "rIsmMWmjrDHd"
      },
      "outputs": [],
      "source": [
        "from keras.preprocessing.text import text_to_word_sequence\n",
        "\n",
        "sentence_tokens = []\n",
        "# Recorrer todas las filas y transformar las oraciones\n",
        "# en una secuencia de palabras (esto podría realizarse con NLTK o spaCy también)\n",
        "for _, row in df[:None].iterrows():\n",
        "    sentence_tokens.append(text_to_word_sequence(row[0]))"
      ]
    },
    {
      "cell_type": "code",
      "execution_count": 5,
      "metadata": {
        "id": "CHepi_DGrbhq",
        "colab": {
          "base_uri": "https://localhost:8080/"
        },
        "outputId": "e81875cf-a802-4ed9-8522-4d4587f55bca"
      },
      "outputs": [
        {
          "output_type": "execute_result",
          "data": {
            "text/plain": [
              "[['¿dónde',\n",
              "  'estáis',\n",
              "  'señora',\n",
              "  'mía',\n",
              "  'que',\n",
              "  'no',\n",
              "  'te',\n",
              "  'duele',\n",
              "  'mi',\n",
              "  'mal'],\n",
              " ['o', 'no', 'lo', 'sabes', 'señora']]"
            ]
          },
          "metadata": {},
          "execution_count": 5
        }
      ],
      "source": [
        "# Demos un vistazo\n",
        "sentence_tokens[50:52]"
      ]
    },
    {
      "cell_type": "markdown",
      "metadata": {
        "id": "BaXV6nlHr5Aa"
      },
      "source": [
        "### 2 - Crear los vectores (word2vec)"
      ]
    },
    {
      "cell_type": "code",
      "execution_count": 6,
      "metadata": {
        "id": "OSb0v7h8r7hK"
      },
      "outputs": [],
      "source": [
        "from gensim.models.callbacks import CallbackAny2Vec\n",
        "# Durante el entrenamiento gensim por defecto no informa el \"loss\" en cada época\n",
        "# Sobrecargamos el callback para poder tener esta información\n",
        "class callback(CallbackAny2Vec):\n",
        "    \"\"\"\n",
        "    Callback to print loss after each epoch\n",
        "    \"\"\"\n",
        "    def __init__(self):\n",
        "        self.epoch = 0\n",
        "\n",
        "    def on_epoch_end(self, model):\n",
        "        loss = model.get_latest_training_loss()\n",
        "        if self.epoch == 0:\n",
        "            print('Loss after epoch {}: {}'.format(self.epoch, loss))\n",
        "        else:\n",
        "            print('Loss after epoch {}: {}'.format(self.epoch, loss- self.loss_previous_step))\n",
        "        self.epoch += 1\n",
        "        self.loss_previous_step = loss"
      ]
    },
    {
      "cell_type": "code",
      "execution_count": 7,
      "metadata": {
        "id": "i0wnDdv9sJ47"
      },
      "outputs": [],
      "source": [
        "# Crearmos el modelo generador de vectores\n",
        "# En este caso utilizaremos la estructura modelo Skipgram\n",
        "w2v_model = Word2Vec(min_count=5,    # frecuencia mínima de palabra para incluirla en el vocabulario\n",
        "                    window=2,       # cant de palabras antes y desp de la predicha\n",
        "                    vector_size=400,       # dimensionalidad de los vectores \n",
        "                    negative=20,    # cantidad de negative samples... 0 es no se usa\n",
        "                    workers=1,      # si tienen más cores pueden cambiar este valor\n",
        "                    sg=1)           # modelo 0:CBOW  1:skipgram"
      ]
    },
    {
      "cell_type": "code",
      "execution_count": 8,
      "metadata": {
        "id": "5lTt8wErsf17"
      },
      "outputs": [],
      "source": [
        "# Obtener el vocabulario con los tokens\n",
        "w2v_model.build_vocab(sentence_tokens)"
      ]
    },
    {
      "cell_type": "code",
      "execution_count": 9,
      "metadata": {
        "id": "TNc9qt4os5AT",
        "colab": {
          "base_uri": "https://localhost:8080/"
        },
        "outputId": "d34e1030-1f48-4086-d001-17e9551ecccf"
      },
      "outputs": [
        {
          "output_type": "stream",
          "name": "stdout",
          "text": [
            "Cantidad de docs en el corpus: 2185\n"
          ]
        }
      ],
      "source": [
        "# Cantidad de filas/docs encontradas en el corpus\n",
        "print(\"Cantidad de docs en el corpus:\", w2v_model.corpus_count)"
      ]
    },
    {
      "cell_type": "code",
      "execution_count": 10,
      "metadata": {
        "id": "idw9cHF3tSMl",
        "colab": {
          "base_uri": "https://localhost:8080/"
        },
        "outputId": "033eaf53-833f-474e-877b-59cbb74953b7"
      },
      "outputs": [
        {
          "output_type": "stream",
          "name": "stdout",
          "text": [
            "Cantidad de words distintas en el corpus: 3140\n"
          ]
        }
      ],
      "source": [
        "# Cantidad de words encontradas en el corpus\n",
        "print(\"Cantidad de words distintas en el corpus:\", len(w2v_model.wv.key_to_index))"
      ]
    },
    {
      "cell_type": "markdown",
      "metadata": {
        "id": "fC9mZ8DPk-UC"
      },
      "source": [
        "### 3 - Entrenar el modelo generador"
      ]
    },
    {
      "cell_type": "code",
      "execution_count": 12,
      "metadata": {
        "id": "QSp-x0PAsq56",
        "colab": {
          "base_uri": "https://localhost:8080/"
        },
        "outputId": "f5fd6a54-068f-4b23-9823-da193d326128"
      },
      "outputs": [
        {
          "output_type": "stream",
          "name": "stderr",
          "text": [
            "WARNING:gensim.models.word2vec:Effective 'alpha' higher than previous training cycles\n"
          ]
        },
        {
          "output_type": "stream",
          "name": "stdout",
          "text": [
            "Loss after epoch 0: 1083244.625\n",
            "Loss after epoch 1: 996433.125\n",
            "Loss after epoch 2: 911463.25\n",
            "Loss after epoch 3: 907823.75\n",
            "Loss after epoch 4: 855023.75\n",
            "Loss after epoch 5: 829288.0\n",
            "Loss after epoch 6: 823931.5\n",
            "Loss after epoch 7: 819626.0\n",
            "Loss after epoch 8: 815392.5\n",
            "Loss after epoch 9: 786275.5\n",
            "Loss after epoch 10: 756097.0\n",
            "Loss after epoch 11: 754344.0\n",
            "Loss after epoch 12: 751106.0\n",
            "Loss after epoch 13: 746617.0\n",
            "Loss after epoch 14: 744757.0\n",
            "Loss after epoch 15: 739868.0\n",
            "Loss after epoch 16: 738244.0\n",
            "Loss after epoch 17: 734909.0\n",
            "Loss after epoch 18: 731367.0\n",
            "Loss after epoch 19: 731828.0\n",
            "Loss after epoch 20: 712991.0\n",
            "Loss after epoch 21: 675242.0\n",
            "Loss after epoch 22: 671948.0\n",
            "Loss after epoch 23: 665314.0\n",
            "Loss after epoch 24: 668394.0\n",
            "Loss after epoch 25: 664784.0\n",
            "Loss after epoch 26: 665902.0\n",
            "Loss after epoch 27: 663008.0\n",
            "Loss after epoch 28: 661262.0\n",
            "Loss after epoch 29: 656412.0\n",
            "Loss after epoch 30: 660056.0\n",
            "Loss after epoch 31: 659252.0\n",
            "Loss after epoch 32: 655598.0\n",
            "Loss after epoch 33: 654424.0\n",
            "Loss after epoch 34: 653398.0\n",
            "Loss after epoch 35: 649114.0\n",
            "Loss after epoch 36: 647628.0\n",
            "Loss after epoch 37: 647078.0\n",
            "Loss after epoch 38: 648054.0\n",
            "Loss after epoch 39: 646322.0\n",
            "Loss after epoch 40: 643392.0\n",
            "Loss after epoch 41: 643240.0\n",
            "Loss after epoch 42: 642896.0\n",
            "Loss after epoch 43: 641014.0\n",
            "Loss after epoch 44: 641028.0\n",
            "Loss after epoch 45: 638242.0\n",
            "Loss after epoch 46: 616068.0\n",
            "Loss after epoch 47: 607160.0\n",
            "Loss after epoch 48: 604268.0\n",
            "Loss after epoch 49: 605520.0\n",
            "Loss after epoch 50: 601784.0\n",
            "Loss after epoch 51: 601484.0\n",
            "Loss after epoch 52: 600652.0\n",
            "Loss after epoch 53: 595488.0\n",
            "Loss after epoch 54: 594832.0\n",
            "Loss after epoch 55: 598348.0\n",
            "Loss after epoch 56: 594148.0\n",
            "Loss after epoch 57: 595580.0\n",
            "Loss after epoch 58: 594936.0\n",
            "Loss after epoch 59: 587932.0\n",
            "Loss after epoch 60: 593772.0\n",
            "Loss after epoch 61: 588596.0\n",
            "Loss after epoch 62: 585776.0\n",
            "Loss after epoch 63: 585604.0\n",
            "Loss after epoch 64: 586796.0\n",
            "Loss after epoch 65: 585360.0\n",
            "Loss after epoch 66: 585464.0\n",
            "Loss after epoch 67: 584228.0\n",
            "Loss after epoch 68: 581508.0\n",
            "Loss after epoch 69: 581912.0\n",
            "Loss after epoch 70: 580524.0\n",
            "Loss after epoch 71: 580324.0\n",
            "Loss after epoch 72: 581164.0\n",
            "Loss after epoch 73: 575404.0\n",
            "Loss after epoch 74: 575308.0\n",
            "Loss after epoch 75: 575904.0\n",
            "Loss after epoch 76: 575216.0\n",
            "Loss after epoch 77: 577508.0\n",
            "Loss after epoch 78: 571728.0\n",
            "Loss after epoch 79: 574136.0\n"
          ]
        },
        {
          "output_type": "execute_result",
          "data": {
            "text/plain": [
              "(8946360, 14964480)"
            ]
          },
          "metadata": {},
          "execution_count": 12
        }
      ],
      "source": [
        "# Entrenamos el modelo generador de vectores\n",
        "# Utilizamos nuestro callback\n",
        "w2v_model.train(sentence_tokens,\n",
        "                total_examples=w2v_model.corpus_count,\n",
        "                epochs=80,\n",
        "                compute_loss = True,\n",
        "                callbacks=[callback()]\n",
        "                )"
      ]
    },
    {
      "cell_type": "markdown",
      "metadata": {
        "id": "ddT9NVuNlCAe"
      },
      "source": [
        "### 4 - Ensayar"
      ]
    },
    {
      "cell_type": "code",
      "execution_count": 13,
      "metadata": {
        "id": "6cHN9xGLuPEm",
        "outputId": "546fcdea-d63d-4699-d5c7-b829c4f77504",
        "colab": {
          "base_uri": "https://localhost:8080/"
        }
      },
      "outputs": [
        {
          "output_type": "execute_result",
          "data": {
            "text/plain": [
              "[('panza', 0.4518609642982483),\n",
              " ('¡válame', 0.35024863481521606),\n",
              " ('sacando', 0.35015472769737244),\n",
              " ('–pues', 0.33013731241226196),\n",
              " ('majadero', 0.3240571618080139),\n",
              " ('calla', 0.3113749921321869),\n",
              " ('librillo', 0.31105220317840576),\n",
              " ('coloquio', 0.3030961751937866),\n",
              " ('maese', 0.3000044822692871),\n",
              " ('lloraba', 0.2983715534210205)]"
            ]
          },
          "metadata": {},
          "execution_count": 13
        }
      ],
      "source": [
        "# Palabras que MÁS se relacionan con...:\n",
        "w2v_model.wv.most_similar(positive=[\"sancho\"], topn=10)"
      ]
    },
    {
      "cell_type": "code",
      "execution_count": 14,
      "metadata": {
        "id": "AhjZX-hC9zku",
        "outputId": "679a0173-a3cb-40a3-9b1b-e926a2b2a3f8",
        "colab": {
          "base_uri": "https://localhost:8080/"
        }
      },
      "outputs": [
        {
          "output_type": "execute_result",
          "data": {
            "text/plain": [
              "[('toboso', 0.3881809711456299),\n",
              " ('argamasilla', 0.3628186881542206),\n",
              " ('desdeñado', 0.3595760464668274),\n",
              " ('micomicona', 0.35776427388191223),\n",
              " ('doña', 0.3542179763317108),\n",
              " ('académico', 0.3533497452735901),\n",
              " ('enemiga', 0.34580737352371216),\n",
              " ('amiga', 0.3452490270137787),\n",
              " ('señora', 0.3365603983402252),\n",
              " ('maría', 0.32746922969818115)]"
            ]
          },
          "metadata": {},
          "execution_count": 14
        }
      ],
      "source": [
        "# Palabras que MÁS se relacionan con...:\n",
        "w2v_model.wv.most_similar(positive=[\"dulcinea\"], topn=10)"
      ]
    },
    {
      "cell_type": "code",
      "execution_count": 15,
      "metadata": {
        "id": "DT4Rvno2mD65",
        "outputId": "a2911b29-2894-4d55-daa8-60f0ad5364f6",
        "colab": {
          "base_uri": "https://localhost:8080/"
        }
      },
      "outputs": [
        {
          "output_type": "execute_result",
          "data": {
            "text/plain": [
              "[('andante', 0.37290701270103455),\n",
              " ('hircania', 0.3609199523925781),\n",
              " ('príncipe', 0.34680935740470886),\n",
              " ('rodrigo', 0.33090540766716003),\n",
              " ('valeroso', 0.32336291670799255),\n",
              " ('español', 0.3160706162452698),\n",
              " ('–así', 0.31249138712882996),\n",
              " ('alcornoque', 0.3058152496814728),\n",
              " ('hidalgo', 0.30298566818237305),\n",
              " ('venturoso', 0.30040666460990906)]"
            ]
          },
          "metadata": {},
          "execution_count": 15
        }
      ],
      "source": [
        "# Palabras que MÁS se relacionan con...:\n",
        "w2v_model.wv.most_similar(positive=[\"caballero\"], topn=10)"
      ]
    },
    {
      "cell_type": "code",
      "execution_count": 17,
      "metadata": {
        "id": "XPLDPgzBmQXt",
        "outputId": "b88f3b34-f2b3-4f92-a466-b1deecc6cf03",
        "colab": {
          "base_uri": "https://localhost:8080/"
        }
      },
      "outputs": [
        {
          "output_type": "execute_result",
          "data": {
            "text/plain": [
              "[('cuarenta', 0.4472845792770386),\n",
              " ('pobres', 0.4423711895942688),\n",
              " ('viento', 0.43055960536003113),\n",
              " ('hojas', 0.4302878677845001),\n",
              " ('dedos', 0.42937320470809937),\n",
              " ('modos', 0.4180419445037842),\n",
              " ('buscase', 0.4138668477535248),\n",
              " ('batanes', 0.4033724367618561),\n",
              " ('bienes', 0.39335986971855164),\n",
              " ('enmienda', 0.3857909142971039)]"
            ]
          },
          "metadata": {},
          "execution_count": 17
        }
      ],
      "source": [
        "# Palabras que MÁS se relacionan con...:\n",
        "w2v_model.wv.most_similar(positive=[\"molinos\"], topn=10)"
      ]
    },
    {
      "cell_type": "markdown",
      "metadata": {
        "id": "_g8UVWe6lFmh"
      },
      "source": [
        "### 5 - Visualizar agrupación de vectores"
      ]
    },
    {
      "cell_type": "code",
      "execution_count": 18,
      "metadata": {
        "id": "pDxEVXAivjr9"
      },
      "outputs": [],
      "source": [
        "from sklearn.decomposition import IncrementalPCA    \n",
        "from sklearn.manifold import TSNE                   \n",
        "import numpy as np                                  \n",
        "\n",
        "def reduce_dimensions(model):\n",
        "    num_dimensions = 2  \n",
        "\n",
        "    vectors = np.asarray(model.wv.vectors)\n",
        "    labels = np.asarray(model.wv.index_to_key)  \n",
        "\n",
        "    tsne = TSNE(n_components=num_dimensions, random_state=0)\n",
        "    vectors = tsne.fit_transform(vectors)\n",
        "\n",
        "    x_vals = [v[0] for v in vectors]\n",
        "    y_vals = [v[1] for v in vectors]\n",
        "    return x_vals, y_vals, labels"
      ]
    },
    {
      "cell_type": "code",
      "execution_count": 24,
      "metadata": {
        "id": "NCCXtDpcugmd",
        "colab": {
          "base_uri": "https://localhost:8080/",
          "height": 542
        },
        "outputId": "a645d45d-9a51-4d0f-a054-816f37f64cf7"
      },
      "outputs": [
        {
          "output_type": "display_data",
          "data": {
            "text/html": [
              "<html>\n",
              "<head><meta charset=\"utf-8\" /></head>\n",
              "<body>\n",
              "    <div>            <script src=\"https://cdnjs.cloudflare.com/ajax/libs/mathjax/2.7.5/MathJax.js?config=TeX-AMS-MML_SVG\"></script><script type=\"text/javascript\">if (window.MathJax && window.MathJax.Hub && window.MathJax.Hub.Config) {window.MathJax.Hub.Config({SVG: {font: \"STIX-Web\"}});}</script>                <script type=\"text/javascript\">window.PlotlyConfig = {MathJaxConfig: 'local'};</script>\n",
              "        <script src=\"https://cdn.plot.ly/plotly-2.18.2.min.js\"></script>                <div id=\"a9d32bbb-f993-4a42-8e77-ebe8abc0fad1\" class=\"plotly-graph-div\" style=\"height:525px; width:100%;\"></div>            <script type=\"text/javascript\">                                    window.PLOTLYENV=window.PLOTLYENV || {};                                    if (document.getElementById(\"a9d32bbb-f993-4a42-8e77-ebe8abc0fad1\")) {                    Plotly.newPlot(                        \"a9d32bbb-f993-4a42-8e77-ebe8abc0fad1\",                        [{\"hovertemplate\":\"x=%{x}<br>y=%{y}<br>text=%{text}<extra></extra>\",\"legendgroup\":\"\",\"marker\":{\"color\":\"#636efa\",\"symbol\":\"circle\"},\"mode\":\"markers+text\",\"name\":\"\",\"orientation\":\"v\",\"showlegend\":false,\"text\":[\"que\",\"de\",\"y\",\"la\",\"a\",\"en\",\"el\",\"no\",\"se\",\"los\",\"con\",\"por\",\"su\",\"le\",\"lo\",\"las\",\"me\",\"como\",\"del\",\"don\",\"es\",\"si\",\"ma\\u0301s\",\"yo\",\"un\",\"mi\",\"dijo\",\"quijote\",\"al\",\"porque\",\"tan\",\"e\\u0301l\",\"para\",\"habi\\u0301a\",\"sancho\",\"ni\",\"sin\",\"todo\",\"una\",\"asi\\u0301\",\"bien\",\"o\",\"ser\",\"sus\",\"era\",\"esto\",\"ha\",\"vuestra\",\"pues\",\"pero\",\"todos\",\"ya\",\"sen\\u0303or\",\"cual\",\"merced\",\"respondio\\u0301\",\"cuando\",\"ella\",\"donde\",\"fue\",\"este\",\"caballero\",\"te\",\"esta\",\"sino\",\"hacer\",\"quien\",\"dos\",\"muy\",\"aquel\",\"otra\",\"cosa\",\"estaba\",\"aunque\",\"decir\",\"alli\\u0301\",\"otro\",\"tanto\",\"he\",\"mal\",\"cura\",\"nos\",\"sen\\u0303ora\",\"que\\u0301\",\"poco\",\"luego\",\"aqui\\u0301\",\"os\",\"teni\\u0301a\",\"aquella\",\"ver\",\"hasta\",\"mas\",\"alguna\",\"manera\",\"verdad\",\"ahora\",\"esta\\u0301\",\"dios\",\"vida\",\"buen\",\"padre\",\"ellos\",\"buena\",\"sobre\",\"les\",\"se\\u0301\",\"tengo\",\"hay\",\"son\",\"parte\",\"dicho\",\"cosas\",\"lugar\",\"uno\",\"tal\",\"tiempo\",\"dar\",\"mundo\",\"mis\",\"puesto\",\"toda\",\"todas\",\"tiene\",\"entre\",\"amo\",\"menos\",\"mucho\",\"digo\",\"tu\",\"caballeros\",\"fuera\",\"han\",\"hecho\",\"mejor\",\"gran\",\"mi\\u0301\",\"camila\",\"tierra\",\"eso\",\"mano\",\"aun\",\"casa\",\"hizo\",\"lotario\",\"habi\\u0301an\",\"algu\\u0301n\",\"cuanto\",\"puede\",\"barbero\",\"cielo\",\"otras\",\"anselmo\",\"visto\",\"\\u00bfque\\u0301\",\"antes\",\"dio\",\"amigo\",\"sea\",\"dorotea\",\"deci\\u0301a\",\"tu\\u0301\",\"tener\",\"ojos\",\"estas\",\"punto\",\"saber\",\"di\\u0301a\",\"so\\u0301lo\",\"haber\",\"podi\\u0301a\",\"tambie\\u0301n\",\"estos\",\"mismo\",\"rocinante\",\"camino\",\"otros\",\"panza\",\"despue\\u0301s\",\"hombre\",\"fernando\",\"fin\",\"razones\",\"mucha\",\"parece\",\"di\\u0301as\",\"gusto\",\"co\\u0301mo\",\"soy\",\"si\\u0301\",\"fuese\",\"venta\",\"sera\\u0301\",\"voluntad\",\"libros\",\"manos\",\"vio\",\"quiero\",\"nuestro\",\"muchas\",\"noche\",\"tres\",\"tanta\",\"eran\",\"escudero\",\"cardenio\",\"diciendo\",\"cuenta\",\"duda\",\"grande\",\"quiso\",\"veces\",\"deseo\",\"luscinda\",\"ventero\",\"primero\",\"historia\",\"vez\",\"viendo\",\"cabeza\",\"palabra\",\"andante\",\"mi\\u0301o\",\"caballo\",\"desde\",\"cada\",\"llego\\u0301\",\"vos\",\"caballeri\\u0301a\",\"dulcinea\",\"suerte\",\"menester\",\"desta\",\"mi\\u0301a\",\"aquellos\",\"mujer\",\"sido\",\"muchos\",\"adelante\",\"nombre\",\"jama\\u0301s\",\"iba\",\"vino\",\"entonces\",\"andantes\",\"tales\",\"gente\",\"quie\\u0301n\",\"entender\",\"dice\"],\"x\":[0.6139448285102844,0.9274078011512756,1.021655559539795,1.140577793121338,1.1890299320220947,0.9911778569221497,0.8094378113746643,0.4601496756076813,0.9217928051948547,0.9013217687606812,1.018433690071106,0.6743075847625732,1.0044903755187988,0.9109752178192139,0.4614652991294861,0.732429027557373,0.24653039872646332,0.7179438471794128,1.0543075799942017,0.28432607650756836,-0.2735946774482727,0.404094398021698,0.6658491492271423,-0.42605268955230713,1.0965943336486816,0.4802979826927185,0.467035710811615,0.23561209440231323,1.0777796506881714,0.6913030743598938,0.7572616934776306,1.0062497854232788,0.8183234930038452,0.885263979434967,1.498367428779602,0.5679531693458557,1.0315459966659546,0.7838846445083618,1.2532418966293335,0.7595888376235962,0.5294308066368103,0.7171447277069092,0.4564884603023529,0.9956206679344177,0.9192702174186707,0.7714365124702454,0.23337765038013458,-3.283590078353882,0.5033909678459167,0.651058554649353,0.9193798899650574,0.5255372524261475,-0.5069931149482727,1.05766761302948,-3.2832653522491455,0.2565653920173645,0.7650370001792908,0.8660094141960144,1.1289006471633911,1.0651315450668335,0.546818196773529,-2.6955690383911133,-0.6726270914077759,0.6458670496940613,0.7016816139221191,0.7202498316764832,0.44287610054016113,3.6640682220458984,0.7545663118362427,0.8709636330604553,0.9029240608215332,0.44684097170829773,1.3581130504608154,0.7052735090255737,0.26356491446495056,1.2413498163223267,0.9418615698814392,0.7566378116607666,-0.025130469352006912,0.4730813503265381,0.8461588621139526,0.7997944951057434,0.6508462429046631,0.5448853969573975,1.060339093208313,1.2884851694107056,-0.9071875810623169,-0.2626590430736542,1.2656865119934082,1.128363847732544,0.8303353190422058,0.9603497385978699,0.47872045636177063,2.944135904312134,0.667029857635498,-0.3566417396068573,-0.2624880373477936,0.7839836478233337,-1.2896283864974976,0.3376302719116211,0.7533798813819885,0.6780508756637573,0.9507007002830505,1.049782395362854,4.756206512451172,0.9667171835899353,0.08024342358112335,-0.16135218739509583,-0.08659350126981735,1.5027252435684204,0.8886711001396179,0.24651341140270233,0.33541977405548096,0.906742513179779,0.9105966687202454,0.7575262188911438,0.8683644533157349,1.1025692224502563,0.3729919195175171,0.6163663864135742,0.8798847794532776,1.2943259477615356,0.5846566557884216,-0.37017303705215454,1.1121561527252197,1.1745696067810059,0.6672680974006653,0.6399276256561279,-0.5687172412872314,-0.6436522603034973,-0.5654978156089783,0.5888166427612305,-0.13101065158843994,0.7776261568069458,0.715202808380127,0.8975008130073547,-0.593610405921936,1.09815514087677,0.9852867126464844,-2.4326047897338867,4.809751987457275,3.094015121459961,0.9934239387512207,2.2294704914093018,0.9778614640235901,0.9728056788444519,-0.24308685958385468,0.7209252119064331,-2.6120283603668213,1.10722017288208,0.30536016821861267,1.1115738153457642,0.7983788251876831,0.4315493702888489,-2.6351442337036133,0.8235644698143005,3.8644447326660156,-2.2777891159057617,-3.196129322052002,5.324428081512451,1.0752869844436646,-1.901443600654602,0.6293808221817017,3.5763652324676514,2.5246193408966064,1.1317405700683594,0.15047942101955414,1.267129898071289,0.5767917633056641,0.21762391924858093,2.8413174152374268,-3.375737190246582,0.2957319915294647,1.0172922611236572,4.563814640045166,1.700856328010559,0.8311077356338501,1.9325844049453735,1.307451844215393,-3.306326150894165,0.22148090600967407,0.9819027185440063,3.9255971908569336,0.6469873785972595,-1.3635820150375366,2.57895565032959,-0.17368686199188232,2.809065580368042,-1.101338505744934,3.334045648574829,0.7317216992378235,1.8390178680419922,-2.4310262203216553,0.59445720911026,-1.6418696641921997,3.2592573165893555,2.6442174911499023,-0.8862196803092957,0.5716278553009033,-1.0096181631088257,1.2580512762069702,1.638685941696167,3.9607527256011963,1.281841516494751,0.9331154227256775,3.505023717880249,1.601293683052063,0.31615346670150757,-2.7796823978424072,1.8848114013671875,1.1882859468460083,0.192051962018013,0.6928016543388367,5.865970134735107,1.3774571418762207,0.298398494720459,-4.175198554992676,-3.3979618549346924,1.2021883726119995,3.224365472793579,2.933497667312622,-2.3898942470550537,-1.889854073524475,4.734766006469727,1.5492806434631348,0.7080504894256592,3.3940846920013428,-3.467151403427124,-1.3763313293457031,-4.827523708343506,0.03324853628873825,-2.9347057342529297,-3.1863861083984375,-1.651136040687561,5.504012107849121,1.5466078519821167,0.029246404767036438,4.4059953689575195,-0.8818485140800476,-4.189722061157227,0.1614314615726471,1.6900837421417236,4.387247085571289,0.5886462330818176,-0.5700153112411499,5.011168003082275,-4.792781829833984,0.7138916850090027,0.7346639037132263,-3.1796066761016846],\"xaxis\":\"x\",\"y\":[-0.6807762384414673,-0.24555273354053497,-0.32831457257270813,-0.6081602573394775,-0.4769015908241272,-0.4138743579387665,-0.5767332315444946,-0.769784688949585,-0.5992230176925659,0.7588289976119995,-0.4188928008079529,-0.46389907598495483,-0.6140365600585938,-0.6251818537712097,-0.8526764512062073,0.3863978087902069,-0.8832166194915771,-0.4686194956302643,-0.2709733247756958,-0.5736218094825745,-0.885248601436615,-0.7273443937301636,-0.4587930142879486,-1.1761908531188965,-0.2824312150478363,-0.7753318548202515,-0.670164167881012,-0.5884438157081604,-0.43084460496902466,-0.6381087303161621,-0.32120510935783386,-0.7093615531921387,-0.6113770604133606,-0.7646865248680115,-1.2487457990646362,-0.8604252338409424,-0.41544032096862793,-0.7969753742218018,-0.3604435324668884,-0.4582362174987793,-0.8009212613105774,-0.358985960483551,-0.3607446551322937,0.4497152864933014,-0.5326794385910034,-0.5655784606933594,-0.9568831324577332,-4.919753074645996,-0.5712382793426514,-0.6149066686630249,0.09988901764154434,-0.6312731504440308,-0.7718717455863953,-0.5777602791786194,-4.919233798980713,-0.8789314031600952,-0.7469767332077026,-0.6698664426803589,-0.40804049372673035,-0.4532308280467987,-0.8104289174079895,1.431125283241272,-1.1312391757965088,-0.5979774594306946,-0.3467348515987396,-0.763249397277832,-0.657498300075531,-2.284449815750122,-0.27244696021080017,-0.6431390643119812,-0.7850787043571472,-0.6850954294204712,-0.6010949611663818,-0.6525629162788391,-1.2203747034072876,-0.35237789154052734,-0.3058137893676758,-0.6342117786407471,-0.9915747046470642,-0.8748275637626648,-0.5973147749900818,-0.14354035258293152,-1.5709902048110962,-0.7896034121513367,-0.31624528765678406,-0.47266682982444763,-0.5463919043540955,-0.8641780614852905,-0.38902613520622253,-0.3396036624908447,-0.3879181742668152,-0.36485692858695984,-0.7357107400894165,4.577547073364258,-0.32222381234169006,-4.371358871459961,-0.6282272934913635,-0.42005017399787903,-4.913527488708496,-0.4262353777885437,-0.6683722734451294,-0.6234036684036255,-0.17260874807834625,-0.6672172546386719,-0.9596101641654968,-0.6491838097572327,-1.2618306875228882,-0.6383764147758484,-0.5088051557540894,-5.565439701080322,-0.7135396003723145,-0.9167330861091614,0.4121249318122864,-0.4325822591781616,0.7639352083206177,-0.31755203008651733,-0.7802265882492065,-0.4875868260860443,-0.006613784469664097,0.40939629077911377,-0.9030845165252686,-0.6825621724128723,0.268267422914505,-0.9829285144805908,0.2845258116722107,-1.3261828422546387,-0.47368186712265015,-0.616797685623169,-1.3352574110031128,-2.4519190788269043,-6.515655994415283,-0.42976513504981995,0.01094973087310791,-0.6985828876495361,-1.4341548681259155,-0.2950648367404938,-0.6654645204544067,-0.985334575176239,-0.12834103405475616,-2.005047082901001,-0.8714882731437683,-3.45359468460083,-0.32051804661750793,-1.3001030683517456,-0.9784907698631287,0.2799469530582428,-0.43178877234458923,-1.1593097448349,-2.928450345993042,-0.41303586959838867,-0.49309301376342773,0.2513858377933502,-1.0602900981903076,-1.0634266138076782,-1.0860368013381958,-0.3665001690387726,-1.3262583017349243,-0.4624382257461548,-2.772348642349243,-1.1200913190841675,-0.850744366645813,-1.4769867658615112,-0.6919981241226196,-2.0583651065826416,-5.527420520782471,-0.8010562658309937,-0.5942167639732361,-0.3327723741531372,-0.5314866900444031,-0.5505601167678833,-1.7287404537200928,-2.9104416370391846,2.521711587905884,-0.5520668625831604,-0.13791388273239136,-0.3335765302181244,1.1353492736816406,-1.4951446056365967,-0.5324270129203796,-1.7031018733978271,-0.4854834973812103,-0.4297862648963928,3.507957696914673,-0.29494521021842957,-1.1645807027816772,-4.80006742477417,-1.319511890411377,-2.240109920501709,-1.2873176336288452,-3.1261837482452393,-0.8847079277038574,-0.17175862193107605,-2.707730531692505,-1.2311041355133057,2.879814863204956,1.2982547283172607,-1.0053503513336182,-1.8895701169967651,-0.25261661410331726,4.899425506591797,-0.5688352584838867,2.0958967208862305,-4.253209590911865,2.621171712875366,-0.5419367551803589,-2.349797010421753,-0.7214059233665466,-0.2940051555633545,-1.6710894107818604,-3.037555456161499,-1.0883644819259644,0.12624292075634003,-1.3915072679519653,0.7582216858863831,-0.9588785767555237,-0.569925844669342,0.3866390287876129,3.2979624271392822,-0.8925653696060181,0.8933424353599548,-1.57035231590271,1.5444024801254272,-0.713861882686615,-0.21198208630084991,-0.4320679306983948,0.7882910966873169,1.0706424713134766,-2.019573450088501,1.3465392589569092,0.03710275888442993,-0.5510144829750061,-2.7537968158721924,0.2862548828125,-0.5869590640068054,-2.88647723197937,-4.811463832855225,-1.1619242429733276,-3.444772958755493,-5.292172431945801,-0.15227548778057098,-0.5465222001075745,-0.7618513107299805,-4.017609596252441,-1.1084455251693726,-6.533446311950684,-2.888378381729126,-1.4798533916473389,-4.197933197021484,-1.093042016029358,-0.6720033884048462],\"yaxis\":\"y\",\"type\":\"scatter\"}],                        {\"template\":{\"data\":{\"histogram2dcontour\":[{\"type\":\"histogram2dcontour\",\"colorbar\":{\"outlinewidth\":0,\"ticks\":\"\"},\"colorscale\":[[0.0,\"#0d0887\"],[0.1111111111111111,\"#46039f\"],[0.2222222222222222,\"#7201a8\"],[0.3333333333333333,\"#9c179e\"],[0.4444444444444444,\"#bd3786\"],[0.5555555555555556,\"#d8576b\"],[0.6666666666666666,\"#ed7953\"],[0.7777777777777778,\"#fb9f3a\"],[0.8888888888888888,\"#fdca26\"],[1.0,\"#f0f921\"]]}],\"choropleth\":[{\"type\":\"choropleth\",\"colorbar\":{\"outlinewidth\":0,\"ticks\":\"\"}}],\"histogram2d\":[{\"type\":\"histogram2d\",\"colorbar\":{\"outlinewidth\":0,\"ticks\":\"\"},\"colorscale\":[[0.0,\"#0d0887\"],[0.1111111111111111,\"#46039f\"],[0.2222222222222222,\"#7201a8\"],[0.3333333333333333,\"#9c179e\"],[0.4444444444444444,\"#bd3786\"],[0.5555555555555556,\"#d8576b\"],[0.6666666666666666,\"#ed7953\"],[0.7777777777777778,\"#fb9f3a\"],[0.8888888888888888,\"#fdca26\"],[1.0,\"#f0f921\"]]}],\"heatmap\":[{\"type\":\"heatmap\",\"colorbar\":{\"outlinewidth\":0,\"ticks\":\"\"},\"colorscale\":[[0.0,\"#0d0887\"],[0.1111111111111111,\"#46039f\"],[0.2222222222222222,\"#7201a8\"],[0.3333333333333333,\"#9c179e\"],[0.4444444444444444,\"#bd3786\"],[0.5555555555555556,\"#d8576b\"],[0.6666666666666666,\"#ed7953\"],[0.7777777777777778,\"#fb9f3a\"],[0.8888888888888888,\"#fdca26\"],[1.0,\"#f0f921\"]]}],\"heatmapgl\":[{\"type\":\"heatmapgl\",\"colorbar\":{\"outlinewidth\":0,\"ticks\":\"\"},\"colorscale\":[[0.0,\"#0d0887\"],[0.1111111111111111,\"#46039f\"],[0.2222222222222222,\"#7201a8\"],[0.3333333333333333,\"#9c179e\"],[0.4444444444444444,\"#bd3786\"],[0.5555555555555556,\"#d8576b\"],[0.6666666666666666,\"#ed7953\"],[0.7777777777777778,\"#fb9f3a\"],[0.8888888888888888,\"#fdca26\"],[1.0,\"#f0f921\"]]}],\"contourcarpet\":[{\"type\":\"contourcarpet\",\"colorbar\":{\"outlinewidth\":0,\"ticks\":\"\"}}],\"contour\":[{\"type\":\"contour\",\"colorbar\":{\"outlinewidth\":0,\"ticks\":\"\"},\"colorscale\":[[0.0,\"#0d0887\"],[0.1111111111111111,\"#46039f\"],[0.2222222222222222,\"#7201a8\"],[0.3333333333333333,\"#9c179e\"],[0.4444444444444444,\"#bd3786\"],[0.5555555555555556,\"#d8576b\"],[0.6666666666666666,\"#ed7953\"],[0.7777777777777778,\"#fb9f3a\"],[0.8888888888888888,\"#fdca26\"],[1.0,\"#f0f921\"]]}],\"surface\":[{\"type\":\"surface\",\"colorbar\":{\"outlinewidth\":0,\"ticks\":\"\"},\"colorscale\":[[0.0,\"#0d0887\"],[0.1111111111111111,\"#46039f\"],[0.2222222222222222,\"#7201a8\"],[0.3333333333333333,\"#9c179e\"],[0.4444444444444444,\"#bd3786\"],[0.5555555555555556,\"#d8576b\"],[0.6666666666666666,\"#ed7953\"],[0.7777777777777778,\"#fb9f3a\"],[0.8888888888888888,\"#fdca26\"],[1.0,\"#f0f921\"]]}],\"mesh3d\":[{\"type\":\"mesh3d\",\"colorbar\":{\"outlinewidth\":0,\"ticks\":\"\"}}],\"scatter\":[{\"fillpattern\":{\"fillmode\":\"overlay\",\"size\":10,\"solidity\":0.2},\"type\":\"scatter\"}],\"parcoords\":[{\"type\":\"parcoords\",\"line\":{\"colorbar\":{\"outlinewidth\":0,\"ticks\":\"\"}}}],\"scatterpolargl\":[{\"type\":\"scatterpolargl\",\"marker\":{\"colorbar\":{\"outlinewidth\":0,\"ticks\":\"\"}}}],\"bar\":[{\"error_x\":{\"color\":\"#2a3f5f\"},\"error_y\":{\"color\":\"#2a3f5f\"},\"marker\":{\"line\":{\"color\":\"#E5ECF6\",\"width\":0.5},\"pattern\":{\"fillmode\":\"overlay\",\"size\":10,\"solidity\":0.2}},\"type\":\"bar\"}],\"scattergeo\":[{\"type\":\"scattergeo\",\"marker\":{\"colorbar\":{\"outlinewidth\":0,\"ticks\":\"\"}}}],\"scatterpolar\":[{\"type\":\"scatterpolar\",\"marker\":{\"colorbar\":{\"outlinewidth\":0,\"ticks\":\"\"}}}],\"histogram\":[{\"marker\":{\"pattern\":{\"fillmode\":\"overlay\",\"size\":10,\"solidity\":0.2}},\"type\":\"histogram\"}],\"scattergl\":[{\"type\":\"scattergl\",\"marker\":{\"colorbar\":{\"outlinewidth\":0,\"ticks\":\"\"}}}],\"scatter3d\":[{\"type\":\"scatter3d\",\"line\":{\"colorbar\":{\"outlinewidth\":0,\"ticks\":\"\"}},\"marker\":{\"colorbar\":{\"outlinewidth\":0,\"ticks\":\"\"}}}],\"scattermapbox\":[{\"type\":\"scattermapbox\",\"marker\":{\"colorbar\":{\"outlinewidth\":0,\"ticks\":\"\"}}}],\"scatterternary\":[{\"type\":\"scatterternary\",\"marker\":{\"colorbar\":{\"outlinewidth\":0,\"ticks\":\"\"}}}],\"scattercarpet\":[{\"type\":\"scattercarpet\",\"marker\":{\"colorbar\":{\"outlinewidth\":0,\"ticks\":\"\"}}}],\"carpet\":[{\"aaxis\":{\"endlinecolor\":\"#2a3f5f\",\"gridcolor\":\"white\",\"linecolor\":\"white\",\"minorgridcolor\":\"white\",\"startlinecolor\":\"#2a3f5f\"},\"baxis\":{\"endlinecolor\":\"#2a3f5f\",\"gridcolor\":\"white\",\"linecolor\":\"white\",\"minorgridcolor\":\"white\",\"startlinecolor\":\"#2a3f5f\"},\"type\":\"carpet\"}],\"table\":[{\"cells\":{\"fill\":{\"color\":\"#EBF0F8\"},\"line\":{\"color\":\"white\"}},\"header\":{\"fill\":{\"color\":\"#C8D4E3\"},\"line\":{\"color\":\"white\"}},\"type\":\"table\"}],\"barpolar\":[{\"marker\":{\"line\":{\"color\":\"#E5ECF6\",\"width\":0.5},\"pattern\":{\"fillmode\":\"overlay\",\"size\":10,\"solidity\":0.2}},\"type\":\"barpolar\"}],\"pie\":[{\"automargin\":true,\"type\":\"pie\"}]},\"layout\":{\"autotypenumbers\":\"strict\",\"colorway\":[\"#636efa\",\"#EF553B\",\"#00cc96\",\"#ab63fa\",\"#FFA15A\",\"#19d3f3\",\"#FF6692\",\"#B6E880\",\"#FF97FF\",\"#FECB52\"],\"font\":{\"color\":\"#2a3f5f\"},\"hovermode\":\"closest\",\"hoverlabel\":{\"align\":\"left\"},\"paper_bgcolor\":\"white\",\"plot_bgcolor\":\"#E5ECF6\",\"polar\":{\"bgcolor\":\"#E5ECF6\",\"angularaxis\":{\"gridcolor\":\"white\",\"linecolor\":\"white\",\"ticks\":\"\"},\"radialaxis\":{\"gridcolor\":\"white\",\"linecolor\":\"white\",\"ticks\":\"\"}},\"ternary\":{\"bgcolor\":\"#E5ECF6\",\"aaxis\":{\"gridcolor\":\"white\",\"linecolor\":\"white\",\"ticks\":\"\"},\"baxis\":{\"gridcolor\":\"white\",\"linecolor\":\"white\",\"ticks\":\"\"},\"caxis\":{\"gridcolor\":\"white\",\"linecolor\":\"white\",\"ticks\":\"\"}},\"coloraxis\":{\"colorbar\":{\"outlinewidth\":0,\"ticks\":\"\"}},\"colorscale\":{\"sequential\":[[0.0,\"#0d0887\"],[0.1111111111111111,\"#46039f\"],[0.2222222222222222,\"#7201a8\"],[0.3333333333333333,\"#9c179e\"],[0.4444444444444444,\"#bd3786\"],[0.5555555555555556,\"#d8576b\"],[0.6666666666666666,\"#ed7953\"],[0.7777777777777778,\"#fb9f3a\"],[0.8888888888888888,\"#fdca26\"],[1.0,\"#f0f921\"]],\"sequentialminus\":[[0.0,\"#0d0887\"],[0.1111111111111111,\"#46039f\"],[0.2222222222222222,\"#7201a8\"],[0.3333333333333333,\"#9c179e\"],[0.4444444444444444,\"#bd3786\"],[0.5555555555555556,\"#d8576b\"],[0.6666666666666666,\"#ed7953\"],[0.7777777777777778,\"#fb9f3a\"],[0.8888888888888888,\"#fdca26\"],[1.0,\"#f0f921\"]],\"diverging\":[[0,\"#8e0152\"],[0.1,\"#c51b7d\"],[0.2,\"#de77ae\"],[0.3,\"#f1b6da\"],[0.4,\"#fde0ef\"],[0.5,\"#f7f7f7\"],[0.6,\"#e6f5d0\"],[0.7,\"#b8e186\"],[0.8,\"#7fbc41\"],[0.9,\"#4d9221\"],[1,\"#276419\"]]},\"xaxis\":{\"gridcolor\":\"white\",\"linecolor\":\"white\",\"ticks\":\"\",\"title\":{\"standoff\":15},\"zerolinecolor\":\"white\",\"automargin\":true,\"zerolinewidth\":2},\"yaxis\":{\"gridcolor\":\"white\",\"linecolor\":\"white\",\"ticks\":\"\",\"title\":{\"standoff\":15},\"zerolinecolor\":\"white\",\"automargin\":true,\"zerolinewidth\":2},\"scene\":{\"xaxis\":{\"backgroundcolor\":\"#E5ECF6\",\"gridcolor\":\"white\",\"linecolor\":\"white\",\"showbackground\":true,\"ticks\":\"\",\"zerolinecolor\":\"white\",\"gridwidth\":2},\"yaxis\":{\"backgroundcolor\":\"#E5ECF6\",\"gridcolor\":\"white\",\"linecolor\":\"white\",\"showbackground\":true,\"ticks\":\"\",\"zerolinecolor\":\"white\",\"gridwidth\":2},\"zaxis\":{\"backgroundcolor\":\"#E5ECF6\",\"gridcolor\":\"white\",\"linecolor\":\"white\",\"showbackground\":true,\"ticks\":\"\",\"zerolinecolor\":\"white\",\"gridwidth\":2}},\"shapedefaults\":{\"line\":{\"color\":\"#2a3f5f\"}},\"annotationdefaults\":{\"arrowcolor\":\"#2a3f5f\",\"arrowhead\":0,\"arrowwidth\":1},\"geo\":{\"bgcolor\":\"white\",\"landcolor\":\"#E5ECF6\",\"subunitcolor\":\"white\",\"showland\":true,\"showlakes\":true,\"lakecolor\":\"white\"},\"title\":{\"x\":0.05},\"mapbox\":{\"style\":\"light\"}}},\"xaxis\":{\"anchor\":\"y\",\"domain\":[0.0,1.0],\"title\":{\"text\":\"x\"}},\"yaxis\":{\"anchor\":\"x\",\"domain\":[0.0,1.0],\"title\":{\"text\":\"y\"}},\"legend\":{\"tracegroupgap\":0},\"margin\":{\"t\":60}},                        {\"responsive\": true}                    ).then(function(){\n",
              "                            \n",
              "var gd = document.getElementById('a9d32bbb-f993-4a42-8e77-ebe8abc0fad1');\n",
              "var x = new MutationObserver(function (mutations, observer) {{\n",
              "        var display = window.getComputedStyle(gd).display;\n",
              "        if (!display || display === 'none') {{\n",
              "            console.log([gd, 'removed!']);\n",
              "            Plotly.purge(gd);\n",
              "            observer.disconnect();\n",
              "        }}\n",
              "}});\n",
              "\n",
              "// Listen for the removal of the full notebook cells\n",
              "var notebookContainer = gd.closest('#notebook-container');\n",
              "if (notebookContainer) {{\n",
              "    x.observe(notebookContainer, {childList: true});\n",
              "}}\n",
              "\n",
              "// Listen for the clearing of the current output cell\n",
              "var outputEl = gd.closest('.output');\n",
              "if (outputEl) {{\n",
              "    x.observe(outputEl, {childList: true});\n",
              "}}\n",
              "\n",
              "                        })                };                            </script>        </div>\n",
              "</body>\n",
              "</html>"
            ]
          },
          "metadata": {}
        }
      ],
      "source": [
        "# Graficar los embedddings en 2D\n",
        "import plotly.graph_objects as go\n",
        "import plotly.express as px\n",
        "\n",
        "x_vals, y_vals, labels = reduce_dimensions(w2v_model)\n",
        "\n",
        "MAX_WORDS=250\n",
        "fig = px.scatter(x=x_vals[:MAX_WORDS], y=y_vals[:MAX_WORDS], text=labels[:MAX_WORDS])\n",
        "fig.show(renderer='colab') # esto para plotly en colab"
      ]
    },
    {
      "cell_type": "markdown",
      "metadata": {
        "id": "yMM_SHSaZ9N-"
      },
      "source": [
        "### Conclusiones"
      ]
    },
    {
      "cell_type": "markdown",
      "metadata": {
        "id": "WivQZ3ZCZ9N_"
      },
      "source": [
        "- Se observaron algunos resultados interesantes al buscar palabras relacionadas:\n",
        "* quijote -> don, dijo, respondió\n",
        "* vuestra -> merced \n",
        "* Dios -> verdad\n",
        "* rocinante -> caballo\n",
        "- Se realizaron pruebas con diferentes cantidad de palabras graficada. Hay un gran concentración de palabras, esto puede significar que hay un gran conjunto de palabras relacionadas."
      ]
    }
  ],
  "metadata": {
    "colab": {
      "provenance": []
    },
    "kernelspec": {
      "display_name": "Python 3 (ipykernel)",
      "language": "python",
      "name": "python3"
    },
    "language_info": {
      "codemirror_mode": {
        "name": "ipython",
        "version": 3
      },
      "file_extension": ".py",
      "mimetype": "text/x-python",
      "name": "python",
      "nbconvert_exporter": "python",
      "pygments_lexer": "ipython3",
      "version": "3.10.4"
    }
  },
  "nbformat": 4,
  "nbformat_minor": 0
}